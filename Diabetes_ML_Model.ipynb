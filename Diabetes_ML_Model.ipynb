{
 "cells": [
  {
   "attachments": {},
   "cell_type": "markdown",
   "id": "e1d4ccd7",
   "metadata": {},
   "source": [
    "# Diabetes ML Model\n",
    "\n",
    "In our exploratory analysis and ML models, we segmented the data by year. (See 'Diabetes_2011_EDA_ML.ipynb' and 'Diabetes_2015_EDA_ML.ipynb')  Our results indicated that feature importances were similar across both years.  In this final model, we dropped year from our data set and we analyze all data.\n",
    "\n",
    "We also learned that BMI is an important factor, and since it is calculated from height and weight, we will remove those features from\n",
    "the data set.\n",
    "\n",
    "Finally, we saw that state was consistently an important feature, but since we believe that is not likely to be a causal relationship,\n",
    "we removed it and found that the models still worked quite well.  \n",
    "\n",
    "We will apply those lessons here and attemnpt to continue to refine."
   ]
  },
  {
   "cell_type": "code",
   "execution_count": 1,
   "id": "02f51f15",
   "metadata": {},
   "outputs": [],
   "source": [
    "# Dependencies\n",
    "import numpy as np\n",
    "import pandas as pd\n",
    "from sqlalchemy import create_engine\n",
    "import psycopg2\n",
    "from config import db_password \n",
    "import matplotlib.pyplot as plt\n",
    "from sklearn import metrics\n",
    "from sklearn.preprocessing import StandardScaler\n",
    "from sklearn.model_selection import train_test_split\n",
    "from sklearn.metrics import confusion_matrix, accuracy_score, mean_squared_error, r2_score, roc_auc_score, roc_curve, classification_report\n",
    "from sklearn.ensemble import RandomForestClassifier\n",
    "from collections import Counter\n"
   ]
  },
  {
   "cell_type": "code",
   "execution_count": 2,
   "id": "228404f2",
   "metadata": {},
   "outputs": [
    {
     "data": {
      "text/plain": [
       "(945188, 52)"
      ]
     },
     "execution_count": 2,
     "metadata": {},
     "output_type": "execute_result"
    }
   ],
   "source": [
    "# Connect to diabetes RDS database\n",
    "# Define connection\n",
    "DATABASES = {\n",
    "    'production':{\n",
    "        'NAME': 'Diabetes_db',\n",
    "        'USER': 'postgres',\n",
    "        'PASSWORD': db_password,\n",
    "        'HOST': 'diabetesdb.cwyccvgtauvd.us-east-2.rds.amazonaws.com',\n",
    "        'PORT': 5432,\n",
    "    },\n",
    "}\n",
    "\n",
    "# Choose the database\n",
    "db = DATABASES['production']\n",
    "\n",
    "# construct an engine connection string\n",
    "engine_string = \"postgresql+psycopg2://{user}:{password}@{host}:{port}/{database}\".format(\n",
    "    user = db['USER'],\n",
    "    password = db['PASSWORD'],\n",
    "    host = db['HOST'],\n",
    "    port = db['PORT'],\n",
    "    database = db['NAME'],\n",
    ")\n",
    "\n",
    "# create sqlalchemy engine\n",
    "engine = create_engine(engine_string)\n",
    "\n",
    "# read a table from database into pandas dataframe, replace \"tablename\" with your table name\n",
    "df = pd.read_sql_table('diabetes',engine)\n",
    "df.shape"
   ]
  },
  {
   "attachments": {},
   "cell_type": "markdown",
   "id": "0ae15b57",
   "metadata": {},
   "source": [
    "# Data Prep"
   ]
  },
  {
   "cell_type": "code",
   "execution_count": 21,
   "id": "b1491d16",
   "metadata": {},
   "outputs": [
    {
     "data": {
      "text/plain": [
       "ADANXEV     910406\n",
       "MISTMNT     910394\n",
       "ADMOVE      910376\n",
       "ADTHINK     910358\n",
       "ADFAIL      910341\n",
       "ADEAT1      910328\n",
       "ADENERGY    910314\n",
       "ADSLEEP     910306\n",
       "ADDOWN      910293\n",
       "ADPLEASR    910267\n",
       "SCNTMONY    837087\n",
       "SCNTMEAL    831481\n",
       "ASTHNOW     820948\n",
       "SMOKDAY2    529325\n",
       "AVEDRNK2    493051\n",
       "POORHLTH    455451\n",
       "TOLDHI2     129077\n",
       "_VEGESUM     70777\n",
       "_BMI5        63609\n",
       "_FRUTSUM     62243\n",
       "EXERANY2     55993\n",
       "WTKG3        52068\n",
       "HTM4         22231\n",
       "USENOW3      14832\n",
       "SMOKE100     14195\n",
       "RENTHOM1      2240\n",
       "EMPLOY         443\n",
       "EDUCA          349\n",
       "MARITAL        218\n",
       "RACE2          126\n",
       "ADDEPEV2        10\n",
       "BPHIGH4          6\n",
       "GENHLTH          4\n",
       "CHCKIDNY         3\n",
       "CHCCOPD          2\n",
       "HAVARTH3         2\n",
       "MEDCOST          1\n",
       "CHECKUP1         1\n",
       "CVDINFR4         1\n",
       "CVDCRHD4         1\n",
       "PHYSHLTH         1\n",
       "MENTHLTH         0\n",
       "IYEAR            0\n",
       "_AGE_G           0\n",
       "_STATE           0\n",
       "HLTHPLN1         0\n",
       "PERSDOC2         0\n",
       "CVDSTRK3         0\n",
       "ASTHMA3          0\n",
       "DIABETE3         0\n",
       "SEX              0\n",
       "index            0\n",
       "dtype: int64"
      ]
     },
     "execution_count": 21,
     "metadata": {},
     "output_type": "execute_result"
    }
   ],
   "source": [
    "# Review nulls, sorted in descending order\n",
    "nulls = df.isnull().sum().sort_values(ascending=False)\n",
    "nulls"
   ]
  },
  {
   "cell_type": "code",
   "execution_count": 22,
   "id": "3f166c0c",
   "metadata": {},
   "outputs": [
    {
     "data": {
      "text/plain": [
       "['ADANXEV',\n",
       " 'MISTMNT',\n",
       " 'ADMOVE',\n",
       " 'ADTHINK',\n",
       " 'ADFAIL',\n",
       " 'ADEAT1',\n",
       " 'ADENERGY',\n",
       " 'ADSLEEP',\n",
       " 'ADDOWN',\n",
       " 'ADPLEASR',\n",
       " 'SCNTMONY',\n",
       " 'SCNTMEAL',\n",
       " 'ASTHNOW']"
      ]
     },
     "execution_count": 22,
     "metadata": {},
     "output_type": "execute_result"
    }
   ],
   "source": [
    "# create a list of columns where more than 800K of the rows (84% of the total data set) are null.  These columns should be removed\n",
    "# from our further modeling\n",
    "\n",
    "to_remove = nulls.loc[nulls > 800000].index.tolist()\n",
    "to_remove"
   ]
  },
  {
   "cell_type": "code",
   "execution_count": 23,
   "id": "65efd06d",
   "metadata": {},
   "outputs": [
    {
     "data": {
      "text/html": [
       "<div>\n",
       "<style scoped>\n",
       "    .dataframe tbody tr th:only-of-type {\n",
       "        vertical-align: middle;\n",
       "    }\n",
       "\n",
       "    .dataframe tbody tr th {\n",
       "        vertical-align: top;\n",
       "    }\n",
       "\n",
       "    .dataframe thead th {\n",
       "        text-align: right;\n",
       "    }\n",
       "</style>\n",
       "<table border=\"1\" class=\"dataframe\">\n",
       "  <thead>\n",
       "    <tr style=\"text-align: right;\">\n",
       "      <th></th>\n",
       "      <th>index</th>\n",
       "      <th>_STATE</th>\n",
       "      <th>IYEAR</th>\n",
       "      <th>GENHLTH</th>\n",
       "      <th>PHYSHLTH</th>\n",
       "      <th>MENTHLTH</th>\n",
       "      <th>POORHLTH</th>\n",
       "      <th>HLTHPLN1</th>\n",
       "      <th>PERSDOC2</th>\n",
       "      <th>MEDCOST</th>\n",
       "      <th>...</th>\n",
       "      <th>USENOW3</th>\n",
       "      <th>AVEDRNK2</th>\n",
       "      <th>EXERANY2</th>\n",
       "      <th>RACE2</th>\n",
       "      <th>_AGE_G</th>\n",
       "      <th>HTM4</th>\n",
       "      <th>WTKG3</th>\n",
       "      <th>_BMI5</th>\n",
       "      <th>_FRUTSUM</th>\n",
       "      <th>_VEGESUM</th>\n",
       "    </tr>\n",
       "  </thead>\n",
       "  <tbody>\n",
       "    <tr>\n",
       "      <th>0</th>\n",
       "      <td>0</td>\n",
       "      <td>1.0</td>\n",
       "      <td>2015</td>\n",
       "      <td>5.0</td>\n",
       "      <td>15.0</td>\n",
       "      <td>18.0</td>\n",
       "      <td>10.0</td>\n",
       "      <td>1.0</td>\n",
       "      <td>1.0</td>\n",
       "      <td>2.0</td>\n",
       "      <td>...</td>\n",
       "      <td>3.0</td>\n",
       "      <td>NaN</td>\n",
       "      <td>2.0</td>\n",
       "      <td>1.0</td>\n",
       "      <td>5.0</td>\n",
       "      <td>178.0</td>\n",
       "      <td>12701.0</td>\n",
       "      <td>4018.0</td>\n",
       "      <td>50.0</td>\n",
       "      <td>217.0</td>\n",
       "    </tr>\n",
       "    <tr>\n",
       "      <th>1</th>\n",
       "      <td>1</td>\n",
       "      <td>1.0</td>\n",
       "      <td>2015</td>\n",
       "      <td>3.0</td>\n",
       "      <td>88.0</td>\n",
       "      <td>88.0</td>\n",
       "      <td>NaN</td>\n",
       "      <td>2.0</td>\n",
       "      <td>1.0</td>\n",
       "      <td>1.0</td>\n",
       "      <td>...</td>\n",
       "      <td>3.0</td>\n",
       "      <td>NaN</td>\n",
       "      <td>1.0</td>\n",
       "      <td>1.0</td>\n",
       "      <td>4.0</td>\n",
       "      <td>173.0</td>\n",
       "      <td>7484.0</td>\n",
       "      <td>2509.0</td>\n",
       "      <td>24.0</td>\n",
       "      <td>78.0</td>\n",
       "    </tr>\n",
       "    <tr>\n",
       "      <th>2</th>\n",
       "      <td>2</td>\n",
       "      <td>1.0</td>\n",
       "      <td>2015</td>\n",
       "      <td>4.0</td>\n",
       "      <td>15.0</td>\n",
       "      <td>88.0</td>\n",
       "      <td>88.0</td>\n",
       "      <td>1.0</td>\n",
       "      <td>2.0</td>\n",
       "      <td>2.0</td>\n",
       "      <td>...</td>\n",
       "      <td>NaN</td>\n",
       "      <td>NaN</td>\n",
       "      <td>NaN</td>\n",
       "      <td>1.0</td>\n",
       "      <td>6.0</td>\n",
       "      <td>180.0</td>\n",
       "      <td>7167.0</td>\n",
       "      <td>2204.0</td>\n",
       "      <td>NaN</td>\n",
       "      <td>NaN</td>\n",
       "    </tr>\n",
       "    <tr>\n",
       "      <th>3</th>\n",
       "      <td>3</td>\n",
       "      <td>1.0</td>\n",
       "      <td>2015</td>\n",
       "      <td>5.0</td>\n",
       "      <td>30.0</td>\n",
       "      <td>30.0</td>\n",
       "      <td>30.0</td>\n",
       "      <td>1.0</td>\n",
       "      <td>2.0</td>\n",
       "      <td>1.0</td>\n",
       "      <td>...</td>\n",
       "      <td>3.0</td>\n",
       "      <td>NaN</td>\n",
       "      <td>2.0</td>\n",
       "      <td>1.0</td>\n",
       "      <td>5.0</td>\n",
       "      <td>170.0</td>\n",
       "      <td>8165.0</td>\n",
       "      <td>2819.0</td>\n",
       "      <td>100.0</td>\n",
       "      <td>20.0</td>\n",
       "    </tr>\n",
       "    <tr>\n",
       "      <th>4</th>\n",
       "      <td>4</td>\n",
       "      <td>1.0</td>\n",
       "      <td>2015</td>\n",
       "      <td>5.0</td>\n",
       "      <td>20.0</td>\n",
       "      <td>88.0</td>\n",
       "      <td>30.0</td>\n",
       "      <td>1.0</td>\n",
       "      <td>1.0</td>\n",
       "      <td>2.0</td>\n",
       "      <td>...</td>\n",
       "      <td>3.0</td>\n",
       "      <td>NaN</td>\n",
       "      <td>2.0</td>\n",
       "      <td>1.0</td>\n",
       "      <td>5.0</td>\n",
       "      <td>163.0</td>\n",
       "      <td>6441.0</td>\n",
       "      <td>2437.0</td>\n",
       "      <td>NaN</td>\n",
       "      <td>200.0</td>\n",
       "    </tr>\n",
       "  </tbody>\n",
       "</table>\n",
       "<p>5 rows × 39 columns</p>\n",
       "</div>"
      ],
      "text/plain": [
       "   index  _STATE  IYEAR  GENHLTH  PHYSHLTH  MENTHLTH  POORHLTH  HLTHPLN1  \\\n",
       "0      0     1.0   2015      5.0      15.0      18.0      10.0       1.0   \n",
       "1      1     1.0   2015      3.0      88.0      88.0       NaN       2.0   \n",
       "2      2     1.0   2015      4.0      15.0      88.0      88.0       1.0   \n",
       "3      3     1.0   2015      5.0      30.0      30.0      30.0       1.0   \n",
       "4      4     1.0   2015      5.0      20.0      88.0      30.0       1.0   \n",
       "\n",
       "   PERSDOC2  MEDCOST  ...  USENOW3  AVEDRNK2  EXERANY2  RACE2  _AGE_G   HTM4  \\\n",
       "0       1.0      2.0  ...      3.0       NaN       2.0    1.0     5.0  178.0   \n",
       "1       1.0      1.0  ...      3.0       NaN       1.0    1.0     4.0  173.0   \n",
       "2       2.0      2.0  ...      NaN       NaN       NaN    1.0     6.0  180.0   \n",
       "3       2.0      1.0  ...      3.0       NaN       2.0    1.0     5.0  170.0   \n",
       "4       1.0      2.0  ...      3.0       NaN       2.0    1.0     5.0  163.0   \n",
       "\n",
       "     WTKG3   _BMI5  _FRUTSUM  _VEGESUM  \n",
       "0  12701.0  4018.0      50.0     217.0  \n",
       "1   7484.0  2509.0      24.0      78.0  \n",
       "2   7167.0  2204.0       NaN       NaN  \n",
       "3   8165.0  2819.0     100.0      20.0  \n",
       "4   6441.0  2437.0       NaN     200.0  \n",
       "\n",
       "[5 rows x 39 columns]"
      ]
     },
     "execution_count": 23,
     "metadata": {},
     "output_type": "execute_result"
    }
   ],
   "source": [
    "# Drop the 'to_remove' columns\n",
    "df = df.drop(columns=to_remove)\n",
    "df.head()"
   ]
  },
  {
   "cell_type": "code",
   "execution_count": 24,
   "id": "7e664b58",
   "metadata": {},
   "outputs": [],
   "source": [
    "# Remove remaining NaN Values from all other fields (Features); replace with 0\n",
    "df.fillna(0, inplace=True)"
   ]
  },
  {
   "attachments": {},
   "cell_type": "markdown",
   "id": "dc4bb47d",
   "metadata": {},
   "source": [
    "# Prepare data for Machine Learning"
   ]
  },
  {
   "cell_type": "code",
   "execution_count": 25,
   "id": "acf45d1b",
   "metadata": {},
   "outputs": [
    {
     "data": {
      "text/html": [
       "<div>\n",
       "<style scoped>\n",
       "    .dataframe tbody tr th:only-of-type {\n",
       "        vertical-align: middle;\n",
       "    }\n",
       "\n",
       "    .dataframe tbody tr th {\n",
       "        vertical-align: top;\n",
       "    }\n",
       "\n",
       "    .dataframe thead th {\n",
       "        text-align: right;\n",
       "    }\n",
       "</style>\n",
       "<table border=\"1\" class=\"dataframe\">\n",
       "  <thead>\n",
       "    <tr style=\"text-align: right;\">\n",
       "      <th></th>\n",
       "      <th>GENHLTH</th>\n",
       "      <th>PHYSHLTH</th>\n",
       "      <th>MENTHLTH</th>\n",
       "      <th>POORHLTH</th>\n",
       "      <th>HLTHPLN1</th>\n",
       "      <th>PERSDOC2</th>\n",
       "      <th>MEDCOST</th>\n",
       "      <th>CHECKUP1</th>\n",
       "      <th>BPHIGH4</th>\n",
       "      <th>TOLDHI2</th>\n",
       "      <th>...</th>\n",
       "      <th>SMOKE100</th>\n",
       "      <th>SMOKDAY2</th>\n",
       "      <th>USENOW3</th>\n",
       "      <th>AVEDRNK2</th>\n",
       "      <th>EXERANY2</th>\n",
       "      <th>RACE2</th>\n",
       "      <th>_AGE_G</th>\n",
       "      <th>_BMI5</th>\n",
       "      <th>_FRUTSUM</th>\n",
       "      <th>_VEGESUM</th>\n",
       "    </tr>\n",
       "  </thead>\n",
       "  <tbody>\n",
       "    <tr>\n",
       "      <th>count</th>\n",
       "      <td>945188.000000</td>\n",
       "      <td>945188.000000</td>\n",
       "      <td>945188.000000</td>\n",
       "      <td>945188.000000</td>\n",
       "      <td>945188.000000</td>\n",
       "      <td>945188.000000</td>\n",
       "      <td>945188.000000</td>\n",
       "      <td>945188.000000</td>\n",
       "      <td>945188.000000</td>\n",
       "      <td>945188.000000</td>\n",
       "      <td>...</td>\n",
       "      <td>945188.000000</td>\n",
       "      <td>945188.000000</td>\n",
       "      <td>945188.000000</td>\n",
       "      <td>945188.000000</td>\n",
       "      <td>945188.000000</td>\n",
       "      <td>945188.000000</td>\n",
       "      <td>945188.000000</td>\n",
       "      <td>945188.000000</td>\n",
       "      <td>945188.000000</td>\n",
       "      <td>945188.000000</td>\n",
       "    </tr>\n",
       "    <tr>\n",
       "      <th>mean</th>\n",
       "      <td>2.591885</td>\n",
       "      <td>60.631070</td>\n",
       "      <td>64.399970</td>\n",
       "      <td>29.051670</td>\n",
       "      <td>1.119785</td>\n",
       "      <td>1.391746</td>\n",
       "      <td>1.900829</td>\n",
       "      <td>1.601463</td>\n",
       "      <td>2.214817</td>\n",
       "      <td>1.400052</td>\n",
       "      <td>...</td>\n",
       "      <td>1.562439</td>\n",
       "      <td>1.057635</td>\n",
       "      <td>2.919640</td>\n",
       "      <td>1.600158</td>\n",
       "      <td>1.228367</td>\n",
       "      <td>1.976941</td>\n",
       "      <td>4.422571</td>\n",
       "      <td>2596.430179</td>\n",
       "      <td>131.644213</td>\n",
       "      <td>177.042252</td>\n",
       "    </tr>\n",
       "    <tr>\n",
       "      <th>std</th>\n",
       "      <td>1.136722</td>\n",
       "      <td>37.041381</td>\n",
       "      <td>35.926294</td>\n",
       "      <td>39.149821</td>\n",
       "      <td>0.504575</td>\n",
       "      <td>0.817551</td>\n",
       "      <td>0.426445</td>\n",
       "      <td>1.266273</td>\n",
       "      <td>1.031220</td>\n",
       "      <td>0.876470</td>\n",
       "      <td>...</td>\n",
       "      <td>0.703779</td>\n",
       "      <td>1.331982</td>\n",
       "      <td>0.547681</td>\n",
       "      <td>7.051702</td>\n",
       "      <td>0.733110</td>\n",
       "      <td>2.223922</td>\n",
       "      <td>1.526921</td>\n",
       "      <td>927.011165</td>\n",
       "      <td>135.395810</td>\n",
       "      <td>150.521746</td>\n",
       "    </tr>\n",
       "    <tr>\n",
       "      <th>min</th>\n",
       "      <td>0.000000</td>\n",
       "      <td>0.000000</td>\n",
       "      <td>1.000000</td>\n",
       "      <td>0.000000</td>\n",
       "      <td>1.000000</td>\n",
       "      <td>1.000000</td>\n",
       "      <td>0.000000</td>\n",
       "      <td>0.000000</td>\n",
       "      <td>0.000000</td>\n",
       "      <td>0.000000</td>\n",
       "      <td>...</td>\n",
       "      <td>0.000000</td>\n",
       "      <td>0.000000</td>\n",
       "      <td>0.000000</td>\n",
       "      <td>0.000000</td>\n",
       "      <td>0.000000</td>\n",
       "      <td>0.000000</td>\n",
       "      <td>1.000000</td>\n",
       "      <td>0.000000</td>\n",
       "      <td>0.000000</td>\n",
       "      <td>0.000000</td>\n",
       "    </tr>\n",
       "    <tr>\n",
       "      <th>25%</th>\n",
       "      <td>2.000000</td>\n",
       "      <td>15.000000</td>\n",
       "      <td>25.000000</td>\n",
       "      <td>0.000000</td>\n",
       "      <td>1.000000</td>\n",
       "      <td>1.000000</td>\n",
       "      <td>2.000000</td>\n",
       "      <td>1.000000</td>\n",
       "      <td>1.000000</td>\n",
       "      <td>1.000000</td>\n",
       "      <td>...</td>\n",
       "      <td>1.000000</td>\n",
       "      <td>0.000000</td>\n",
       "      <td>3.000000</td>\n",
       "      <td>0.000000</td>\n",
       "      <td>1.000000</td>\n",
       "      <td>1.000000</td>\n",
       "      <td>3.000000</td>\n",
       "      <td>2289.000000</td>\n",
       "      <td>43.000000</td>\n",
       "      <td>89.000000</td>\n",
       "    </tr>\n",
       "    <tr>\n",
       "      <th>50%</th>\n",
       "      <td>3.000000</td>\n",
       "      <td>88.000000</td>\n",
       "      <td>88.000000</td>\n",
       "      <td>1.000000</td>\n",
       "      <td>1.000000</td>\n",
       "      <td>1.000000</td>\n",
       "      <td>2.000000</td>\n",
       "      <td>1.000000</td>\n",
       "      <td>3.000000</td>\n",
       "      <td>1.000000</td>\n",
       "      <td>...</td>\n",
       "      <td>2.000000</td>\n",
       "      <td>0.000000</td>\n",
       "      <td>3.000000</td>\n",
       "      <td>0.000000</td>\n",
       "      <td>1.000000</td>\n",
       "      <td>1.000000</td>\n",
       "      <td>5.000000</td>\n",
       "      <td>2645.000000</td>\n",
       "      <td>100.000000</td>\n",
       "      <td>157.000000</td>\n",
       "    </tr>\n",
       "    <tr>\n",
       "      <th>75%</th>\n",
       "      <td>3.000000</td>\n",
       "      <td>88.000000</td>\n",
       "      <td>88.000000</td>\n",
       "      <td>88.000000</td>\n",
       "      <td>1.000000</td>\n",
       "      <td>1.000000</td>\n",
       "      <td>2.000000</td>\n",
       "      <td>2.000000</td>\n",
       "      <td>3.000000</td>\n",
       "      <td>2.000000</td>\n",
       "      <td>...</td>\n",
       "      <td>2.000000</td>\n",
       "      <td>3.000000</td>\n",
       "      <td>3.000000</td>\n",
       "      <td>2.000000</td>\n",
       "      <td>2.000000</td>\n",
       "      <td>1.000000</td>\n",
       "      <td>6.000000</td>\n",
       "      <td>3034.000000</td>\n",
       "      <td>200.000000</td>\n",
       "      <td>233.000000</td>\n",
       "    </tr>\n",
       "    <tr>\n",
       "      <th>max</th>\n",
       "      <td>9.000000</td>\n",
       "      <td>99.000000</td>\n",
       "      <td>99.000000</td>\n",
       "      <td>99.000000</td>\n",
       "      <td>9.000000</td>\n",
       "      <td>9.000000</td>\n",
       "      <td>9.000000</td>\n",
       "      <td>9.000000</td>\n",
       "      <td>9.000000</td>\n",
       "      <td>9.000000</td>\n",
       "      <td>...</td>\n",
       "      <td>9.000000</td>\n",
       "      <td>9.000000</td>\n",
       "      <td>9.000000</td>\n",
       "      <td>99.000000</td>\n",
       "      <td>9.000000</td>\n",
       "      <td>9.000000</td>\n",
       "      <td>6.000000</td>\n",
       "      <td>9995.000000</td>\n",
       "      <td>15000.000000</td>\n",
       "      <td>20460.000000</td>\n",
       "    </tr>\n",
       "  </tbody>\n",
       "</table>\n",
       "<p>8 rows × 33 columns</p>\n",
       "</div>"
      ],
      "text/plain": [
       "             GENHLTH       PHYSHLTH       MENTHLTH       POORHLTH  \\\n",
       "count  945188.000000  945188.000000  945188.000000  945188.000000   \n",
       "mean        2.591885      60.631070      64.399970      29.051670   \n",
       "std         1.136722      37.041381      35.926294      39.149821   \n",
       "min         0.000000       0.000000       1.000000       0.000000   \n",
       "25%         2.000000      15.000000      25.000000       0.000000   \n",
       "50%         3.000000      88.000000      88.000000       1.000000   \n",
       "75%         3.000000      88.000000      88.000000      88.000000   \n",
       "max         9.000000      99.000000      99.000000      99.000000   \n",
       "\n",
       "            HLTHPLN1       PERSDOC2        MEDCOST       CHECKUP1  \\\n",
       "count  945188.000000  945188.000000  945188.000000  945188.000000   \n",
       "mean        1.119785       1.391746       1.900829       1.601463   \n",
       "std         0.504575       0.817551       0.426445       1.266273   \n",
       "min         1.000000       1.000000       0.000000       0.000000   \n",
       "25%         1.000000       1.000000       2.000000       1.000000   \n",
       "50%         1.000000       1.000000       2.000000       1.000000   \n",
       "75%         1.000000       1.000000       2.000000       2.000000   \n",
       "max         9.000000       9.000000       9.000000       9.000000   \n",
       "\n",
       "             BPHIGH4        TOLDHI2  ...       SMOKE100       SMOKDAY2  \\\n",
       "count  945188.000000  945188.000000  ...  945188.000000  945188.000000   \n",
       "mean        2.214817       1.400052  ...       1.562439       1.057635   \n",
       "std         1.031220       0.876470  ...       0.703779       1.331982   \n",
       "min         0.000000       0.000000  ...       0.000000       0.000000   \n",
       "25%         1.000000       1.000000  ...       1.000000       0.000000   \n",
       "50%         3.000000       1.000000  ...       2.000000       0.000000   \n",
       "75%         3.000000       2.000000  ...       2.000000       3.000000   \n",
       "max         9.000000       9.000000  ...       9.000000       9.000000   \n",
       "\n",
       "             USENOW3       AVEDRNK2       EXERANY2          RACE2  \\\n",
       "count  945188.000000  945188.000000  945188.000000  945188.000000   \n",
       "mean        2.919640       1.600158       1.228367       1.976941   \n",
       "std         0.547681       7.051702       0.733110       2.223922   \n",
       "min         0.000000       0.000000       0.000000       0.000000   \n",
       "25%         3.000000       0.000000       1.000000       1.000000   \n",
       "50%         3.000000       0.000000       1.000000       1.000000   \n",
       "75%         3.000000       2.000000       2.000000       1.000000   \n",
       "max         9.000000      99.000000       9.000000       9.000000   \n",
       "\n",
       "              _AGE_G          _BMI5       _FRUTSUM       _VEGESUM  \n",
       "count  945188.000000  945188.000000  945188.000000  945188.000000  \n",
       "mean        4.422571    2596.430179     131.644213     177.042252  \n",
       "std         1.526921     927.011165     135.395810     150.521746  \n",
       "min         1.000000       0.000000       0.000000       0.000000  \n",
       "25%         3.000000    2289.000000      43.000000      89.000000  \n",
       "50%         5.000000    2645.000000     100.000000     157.000000  \n",
       "75%         6.000000    3034.000000     200.000000     233.000000  \n",
       "max         6.000000    9995.000000   15000.000000   20460.000000  \n",
       "\n",
       "[8 rows x 33 columns]"
      ]
     },
     "execution_count": 25,
     "metadata": {},
     "output_type": "execute_result"
    }
   ],
   "source": [
    "# split the data into X (features) and y (target)\n",
    "# Drop ID because it is unique to each row\n",
    "# Drop _STATE because it is not causal, and prelim analysis (Diabetes_2015_EDA_ML.ipynb)showed that model worked well without it\n",
    "# Drop IYEAR because it is an identifier with no potential relationship to the outcome of diabetes\n",
    "# Drop HTMW4 (height in meters) and WTKG3 (weight in kg) because we are utilizing the field BMI as a better input feature.\n",
    "\n",
    "y = df['DIABETE3']\n",
    "X = df.drop(columns=['DIABETE3','index','_STATE','IYEAR','HTM4','WTKG3'])\n",
    "X.describe()"
   ]
  },
  {
   "cell_type": "code",
   "execution_count": 26,
   "id": "a7e2e4c6",
   "metadata": {},
   "outputs": [
    {
     "data": {
      "text/plain": [
       "0.0    809602\n",
       "1.0    119717\n",
       "4.0     15869\n",
       "Name: DIABETE3, dtype: int64"
      ]
     },
     "execution_count": 26,
     "metadata": {},
     "output_type": "execute_result"
    }
   ],
   "source": [
    "# check balance of target column\n",
    "y.value_counts()"
   ]
  },
  {
   "cell_type": "code",
   "execution_count": 27,
   "id": "30d8234c",
   "metadata": {},
   "outputs": [
    {
     "data": {
      "text/plain": [
       "0.0    809602\n",
       "1.0    135586\n",
       "Name: DIABETE3, dtype: int64"
      ]
     },
     "execution_count": 27,
     "metadata": {},
     "output_type": "execute_result"
    }
   ],
   "source": [
    "# Transform y values to 0 = no diabetes; 1 = yes, diabetes.  Per BRFSS codebook 4 = prediabetes and we consider this as 'yes, diabetes'\n",
    "\n",
    "y = y.replace({4:1})\n",
    "y.value_counts()"
   ]
  },
  {
   "cell_type": "code",
   "execution_count": 28,
   "id": "68cbd2e3",
   "metadata": {},
   "outputs": [
    {
     "data": {
      "text/plain": [
       "Counter({0.0: 607302, 1.0: 101589})"
      ]
     },
     "execution_count": 28,
     "metadata": {},
     "output_type": "execute_result"
    }
   ],
   "source": [
    "# Split into training and testing data sets\n",
    "# Remove test size paramenter\n",
    "X_train, X_test, y_train, y_test = train_test_split(X,y)\n",
    "\n",
    "Counter(y_train)"
   ]
  },
  {
   "cell_type": "code",
   "execution_count": 29,
   "id": "9baa969b",
   "metadata": {},
   "outputs": [],
   "source": [
    "# Scale the data\n",
    "\n",
    "scaler = StandardScaler()\n",
    "# Fitting the Standard Scaler with the training data.\n",
    "X_scaler = scaler.fit(X_train)\n",
    "\n",
    "# Scaling the data.\n",
    "X_train_scaled = X_scaler.transform(X_train)\n",
    "X_test_scaled = X_scaler.transform(X_test)"
   ]
  },
  {
   "cell_type": "code",
   "execution_count": 30,
   "id": "53179ad8",
   "metadata": {},
   "outputs": [
    {
     "data": {
      "text/html": [
       "<style>#sk-container-id-1 {color: black;background-color: white;}#sk-container-id-1 pre{padding: 0;}#sk-container-id-1 div.sk-toggleable {background-color: white;}#sk-container-id-1 label.sk-toggleable__label {cursor: pointer;display: block;width: 100%;margin-bottom: 0;padding: 0.3em;box-sizing: border-box;text-align: center;}#sk-container-id-1 label.sk-toggleable__label-arrow:before {content: \"▸\";float: left;margin-right: 0.25em;color: #696969;}#sk-container-id-1 label.sk-toggleable__label-arrow:hover:before {color: black;}#sk-container-id-1 div.sk-estimator:hover label.sk-toggleable__label-arrow:before {color: black;}#sk-container-id-1 div.sk-toggleable__content {max-height: 0;max-width: 0;overflow: hidden;text-align: left;background-color: #f0f8ff;}#sk-container-id-1 div.sk-toggleable__content pre {margin: 0.2em;color: black;border-radius: 0.25em;background-color: #f0f8ff;}#sk-container-id-1 input.sk-toggleable__control:checked~div.sk-toggleable__content {max-height: 200px;max-width: 100%;overflow: auto;}#sk-container-id-1 input.sk-toggleable__control:checked~label.sk-toggleable__label-arrow:before {content: \"▾\";}#sk-container-id-1 div.sk-estimator input.sk-toggleable__control:checked~label.sk-toggleable__label {background-color: #d4ebff;}#sk-container-id-1 div.sk-label input.sk-toggleable__control:checked~label.sk-toggleable__label {background-color: #d4ebff;}#sk-container-id-1 input.sk-hidden--visually {border: 0;clip: rect(1px 1px 1px 1px);clip: rect(1px, 1px, 1px, 1px);height: 1px;margin: -1px;overflow: hidden;padding: 0;position: absolute;width: 1px;}#sk-container-id-1 div.sk-estimator {font-family: monospace;background-color: #f0f8ff;border: 1px dotted black;border-radius: 0.25em;box-sizing: border-box;margin-bottom: 0.5em;}#sk-container-id-1 div.sk-estimator:hover {background-color: #d4ebff;}#sk-container-id-1 div.sk-parallel-item::after {content: \"\";width: 100%;border-bottom: 1px solid gray;flex-grow: 1;}#sk-container-id-1 div.sk-label:hover label.sk-toggleable__label {background-color: #d4ebff;}#sk-container-id-1 div.sk-serial::before {content: \"\";position: absolute;border-left: 1px solid gray;box-sizing: border-box;top: 0;bottom: 0;left: 50%;z-index: 0;}#sk-container-id-1 div.sk-serial {display: flex;flex-direction: column;align-items: center;background-color: white;padding-right: 0.2em;padding-left: 0.2em;position: relative;}#sk-container-id-1 div.sk-item {position: relative;z-index: 1;}#sk-container-id-1 div.sk-parallel {display: flex;align-items: stretch;justify-content: center;background-color: white;position: relative;}#sk-container-id-1 div.sk-item::before, #sk-container-id-1 div.sk-parallel-item::before {content: \"\";position: absolute;border-left: 1px solid gray;box-sizing: border-box;top: 0;bottom: 0;left: 50%;z-index: -1;}#sk-container-id-1 div.sk-parallel-item {display: flex;flex-direction: column;z-index: 1;position: relative;background-color: white;}#sk-container-id-1 div.sk-parallel-item:first-child::after {align-self: flex-end;width: 50%;}#sk-container-id-1 div.sk-parallel-item:last-child::after {align-self: flex-start;width: 50%;}#sk-container-id-1 div.sk-parallel-item:only-child::after {width: 0;}#sk-container-id-1 div.sk-dashed-wrapped {border: 1px dashed gray;margin: 0 0.4em 0.5em 0.4em;box-sizing: border-box;padding-bottom: 0.4em;background-color: white;}#sk-container-id-1 div.sk-label label {font-family: monospace;font-weight: bold;display: inline-block;line-height: 1.2em;}#sk-container-id-1 div.sk-label-container {text-align: center;}#sk-container-id-1 div.sk-container {/* jupyter's `normalize.less` sets `[hidden] { display: none; }` but bootstrap.min.css set `[hidden] { display: none !important; }` so we also need the `!important` here to be able to override the default hidden behavior on the sphinx rendered scikit-learn.org. See: https://github.com/scikit-learn/scikit-learn/issues/21755 */display: inline-block !important;position: relative;}#sk-container-id-1 div.sk-text-repr-fallback {display: none;}</style><div id=\"sk-container-id-1\" class=\"sk-top-container\"><div class=\"sk-text-repr-fallback\"><pre>RandomForestClassifier(n_estimators=128)</pre><b>In a Jupyter environment, please rerun this cell to show the HTML representation or trust the notebook. <br />On GitHub, the HTML representation is unable to render, please try loading this page with nbviewer.org.</b></div><div class=\"sk-container\" hidden><div class=\"sk-item\"><div class=\"sk-estimator sk-toggleable\"><input class=\"sk-toggleable__control sk-hidden--visually\" id=\"sk-estimator-id-1\" type=\"checkbox\" checked><label for=\"sk-estimator-id-1\" class=\"sk-toggleable__label sk-toggleable__label-arrow\">RandomForestClassifier</label><div class=\"sk-toggleable__content\"><pre>RandomForestClassifier(n_estimators=128)</pre></div></div></div></div></div>"
      ],
      "text/plain": [
       "RandomForestClassifier(n_estimators=128)"
      ]
     },
     "execution_count": 30,
     "metadata": {},
     "output_type": "execute_result"
    }
   ],
   "source": [
    "# Create and fit RandomForestClassifier\n",
    "rfc = RandomForestClassifier(n_estimators=128)\n",
    "rfc.fit(X_train_scaled, y_train)"
   ]
  },
  {
   "cell_type": "code",
   "execution_count": 31,
   "id": "f4151daf",
   "metadata": {},
   "outputs": [
    {
     "name": "stdout",
     "output_type": "stream",
     "text": [
      "0.8638916279089451\n"
     ]
    }
   ],
   "source": [
    "# Make predictions\n",
    "predictions = rfc.predict(X_test_scaled)\n",
    "\n",
    "# Calculating the accuracy score.\n",
    "acc_score = accuracy_score(y_test, predictions)\n",
    "print(acc_score)"
   ]
  },
  {
   "cell_type": "code",
   "execution_count": 32,
   "id": "3ce0d206",
   "metadata": {},
   "outputs": [
    {
     "name": "stdout",
     "output_type": "stream",
     "text": [
      "[[198250   4050]\n",
      " [ 28112   5885]]\n",
      "              precision    recall  f1-score   support\n",
      "\n",
      "         0.0       0.88      0.98      0.92    202300\n",
      "         1.0       0.59      0.17      0.27     33997\n",
      "\n",
      "    accuracy                           0.86    236297\n",
      "   macro avg       0.73      0.58      0.60    236297\n",
      "weighted avg       0.84      0.86      0.83    236297\n",
      "\n"
     ]
    }
   ],
   "source": [
    "print(confusion_matrix(y_test, predictions))\n",
    "print(classification_report(y_test,predictions))"
   ]
  },
  {
   "cell_type": "code",
   "execution_count": 33,
   "id": "5adb367d",
   "metadata": {},
   "outputs": [
    {
     "data": {
      "text/plain": [
       "array([0.05791545, 0.03909346, 0.0320097 , 0.03372427, 0.00688319,\n",
       "       0.01631585, 0.0097523 , 0.01667106, 0.04333346, 0.02508912,\n",
       "       0.01124839, 0.01265409, 0.00875039, 0.01286167, 0.01087189,\n",
       "       0.01891219, 0.01395701, 0.00922745, 0.01491142, 0.03475504,\n",
       "       0.03901535, 0.0188952 , 0.03920684, 0.01416764, 0.02120791,\n",
       "       0.00634912, 0.02796106, 0.0204417 , 0.02357162, 0.0349936 ,\n",
       "       0.14041573, 0.08308495, 0.10175188])"
      ]
     },
     "execution_count": 33,
     "metadata": {},
     "output_type": "execute_result"
    }
   ],
   "source": [
    "# Calculate Feature importances\n",
    "rfc.feature_importances_"
   ]
  },
  {
   "cell_type": "code",
   "execution_count": 34,
   "id": "564d2b76",
   "metadata": {},
   "outputs": [
    {
     "data": {
      "text/html": [
       "<div>\n",
       "<style scoped>\n",
       "    .dataframe tbody tr th:only-of-type {\n",
       "        vertical-align: middle;\n",
       "    }\n",
       "\n",
       "    .dataframe tbody tr th {\n",
       "        vertical-align: top;\n",
       "    }\n",
       "\n",
       "    .dataframe thead th {\n",
       "        text-align: right;\n",
       "    }\n",
       "</style>\n",
       "<table border=\"1\" class=\"dataframe\">\n",
       "  <thead>\n",
       "    <tr style=\"text-align: right;\">\n",
       "      <th></th>\n",
       "      <th>GENHLTH</th>\n",
       "      <th>PHYSHLTH</th>\n",
       "      <th>BPHIGH4</th>\n",
       "      <th>MARITAL</th>\n",
       "      <th>EDUCA</th>\n",
       "      <th>EMPLOY</th>\n",
       "      <th>_AGE_G</th>\n",
       "      <th>_BMI5</th>\n",
       "      <th>_FRUTSUM</th>\n",
       "      <th>_VEGESUM</th>\n",
       "    </tr>\n",
       "  </thead>\n",
       "  <tbody>\n",
       "    <tr>\n",
       "      <th>0</th>\n",
       "      <td>5.0</td>\n",
       "      <td>15.0</td>\n",
       "      <td>1.0</td>\n",
       "      <td>1.0</td>\n",
       "      <td>4.0</td>\n",
       "      <td>8.0</td>\n",
       "      <td>5.0</td>\n",
       "      <td>4018.0</td>\n",
       "      <td>50.0</td>\n",
       "      <td>217.0</td>\n",
       "    </tr>\n",
       "    <tr>\n",
       "      <th>1</th>\n",
       "      <td>3.0</td>\n",
       "      <td>88.0</td>\n",
       "      <td>3.0</td>\n",
       "      <td>2.0</td>\n",
       "      <td>6.0</td>\n",
       "      <td>3.0</td>\n",
       "      <td>4.0</td>\n",
       "      <td>2509.0</td>\n",
       "      <td>24.0</td>\n",
       "      <td>78.0</td>\n",
       "    </tr>\n",
       "    <tr>\n",
       "      <th>2</th>\n",
       "      <td>4.0</td>\n",
       "      <td>15.0</td>\n",
       "      <td>3.0</td>\n",
       "      <td>2.0</td>\n",
       "      <td>4.0</td>\n",
       "      <td>7.0</td>\n",
       "      <td>6.0</td>\n",
       "      <td>2204.0</td>\n",
       "      <td>0.0</td>\n",
       "      <td>0.0</td>\n",
       "    </tr>\n",
       "    <tr>\n",
       "      <th>3</th>\n",
       "      <td>5.0</td>\n",
       "      <td>30.0</td>\n",
       "      <td>1.0</td>\n",
       "      <td>1.0</td>\n",
       "      <td>4.0</td>\n",
       "      <td>8.0</td>\n",
       "      <td>5.0</td>\n",
       "      <td>2819.0</td>\n",
       "      <td>100.0</td>\n",
       "      <td>20.0</td>\n",
       "    </tr>\n",
       "    <tr>\n",
       "      <th>4</th>\n",
       "      <td>5.0</td>\n",
       "      <td>20.0</td>\n",
       "      <td>3.0</td>\n",
       "      <td>1.0</td>\n",
       "      <td>5.0</td>\n",
       "      <td>8.0</td>\n",
       "      <td>5.0</td>\n",
       "      <td>2437.0</td>\n",
       "      <td>0.0</td>\n",
       "      <td>200.0</td>\n",
       "    </tr>\n",
       "  </tbody>\n",
       "</table>\n",
       "</div>"
      ],
      "text/plain": [
       "   GENHLTH  PHYSHLTH  BPHIGH4  MARITAL  EDUCA  EMPLOY  _AGE_G   _BMI5  \\\n",
       "0      5.0      15.0      1.0      1.0    4.0     8.0     5.0  4018.0   \n",
       "1      3.0      88.0      3.0      2.0    6.0     3.0     4.0  2509.0   \n",
       "2      4.0      15.0      3.0      2.0    4.0     7.0     6.0  2204.0   \n",
       "3      5.0      30.0      1.0      1.0    4.0     8.0     5.0  2819.0   \n",
       "4      5.0      20.0      3.0      1.0    5.0     8.0     5.0  2437.0   \n",
       "\n",
       "   _FRUTSUM  _VEGESUM  \n",
       "0      50.0     217.0  \n",
       "1      24.0      78.0  \n",
       "2       0.0       0.0  \n",
       "3     100.0      20.0  \n",
       "4       0.0     200.0  "
      ]
     },
     "execution_count": 34,
     "metadata": {},
     "output_type": "execute_result"
    }
   ],
   "source": [
    "# Based on above importances, reduce the Features to the top 10 most imporantant\n",
    "\n",
    "index_values = X.columns.to_list()\n",
    "column_values = [\"importance\"]\n",
    "importances = pd.DataFrame(data = rfc.feature_importances_, \n",
    "                  index = index_values, \n",
    "                  columns = column_values)\n",
    "\n",
    "importances.sort_values('importance', ascending = False, inplace= True)\n",
    "\n",
    "# Create a list of the importances after the top 20, which will be dropped from our X data:\n",
    "cut = importances[10:]\n",
    "to_cut = cut.index.to_list()\n",
    "\n",
    "# Create new X data with only important columns\n",
    "\n",
    "X = X.drop(columns=to_cut)\n",
    "X.head()\n"
   ]
  },
  {
   "cell_type": "code",
   "execution_count": 35,
   "id": "65939279",
   "metadata": {},
   "outputs": [
    {
     "data": {
      "text/plain": [
       "Counter({0.0: 606930, 1.0: 101961})"
      ]
     },
     "execution_count": 35,
     "metadata": {},
     "output_type": "execute_result"
    }
   ],
   "source": [
    "# Re-run model on top 10 Features\n",
    "\n",
    "# Split into training and testing data sets\n",
    "X_train, X_test, y_train, y_test = train_test_split(X,y)\n",
    "\n",
    "Counter(y_train)"
   ]
  },
  {
   "cell_type": "code",
   "execution_count": 36,
   "id": "fcd421b3",
   "metadata": {},
   "outputs": [],
   "source": [
    "# Scale the data\n",
    "\n",
    "scaler = StandardScaler()\n",
    "# Fitting the Standard Scaler with the training data.\n",
    "X_scaler = scaler.fit(X_train)\n",
    "\n",
    "# Scaling the data.\n",
    "X_train_scaled = X_scaler.transform(X_train)\n",
    "X_test_scaled = X_scaler.transform(X_test)"
   ]
  },
  {
   "cell_type": "code",
   "execution_count": 37,
   "id": "229e8e68",
   "metadata": {},
   "outputs": [
    {
     "data": {
      "text/html": [
       "<style>#sk-container-id-2 {color: black;background-color: white;}#sk-container-id-2 pre{padding: 0;}#sk-container-id-2 div.sk-toggleable {background-color: white;}#sk-container-id-2 label.sk-toggleable__label {cursor: pointer;display: block;width: 100%;margin-bottom: 0;padding: 0.3em;box-sizing: border-box;text-align: center;}#sk-container-id-2 label.sk-toggleable__label-arrow:before {content: \"▸\";float: left;margin-right: 0.25em;color: #696969;}#sk-container-id-2 label.sk-toggleable__label-arrow:hover:before {color: black;}#sk-container-id-2 div.sk-estimator:hover label.sk-toggleable__label-arrow:before {color: black;}#sk-container-id-2 div.sk-toggleable__content {max-height: 0;max-width: 0;overflow: hidden;text-align: left;background-color: #f0f8ff;}#sk-container-id-2 div.sk-toggleable__content pre {margin: 0.2em;color: black;border-radius: 0.25em;background-color: #f0f8ff;}#sk-container-id-2 input.sk-toggleable__control:checked~div.sk-toggleable__content {max-height: 200px;max-width: 100%;overflow: auto;}#sk-container-id-2 input.sk-toggleable__control:checked~label.sk-toggleable__label-arrow:before {content: \"▾\";}#sk-container-id-2 div.sk-estimator input.sk-toggleable__control:checked~label.sk-toggleable__label {background-color: #d4ebff;}#sk-container-id-2 div.sk-label input.sk-toggleable__control:checked~label.sk-toggleable__label {background-color: #d4ebff;}#sk-container-id-2 input.sk-hidden--visually {border: 0;clip: rect(1px 1px 1px 1px);clip: rect(1px, 1px, 1px, 1px);height: 1px;margin: -1px;overflow: hidden;padding: 0;position: absolute;width: 1px;}#sk-container-id-2 div.sk-estimator {font-family: monospace;background-color: #f0f8ff;border: 1px dotted black;border-radius: 0.25em;box-sizing: border-box;margin-bottom: 0.5em;}#sk-container-id-2 div.sk-estimator:hover {background-color: #d4ebff;}#sk-container-id-2 div.sk-parallel-item::after {content: \"\";width: 100%;border-bottom: 1px solid gray;flex-grow: 1;}#sk-container-id-2 div.sk-label:hover label.sk-toggleable__label {background-color: #d4ebff;}#sk-container-id-2 div.sk-serial::before {content: \"\";position: absolute;border-left: 1px solid gray;box-sizing: border-box;top: 0;bottom: 0;left: 50%;z-index: 0;}#sk-container-id-2 div.sk-serial {display: flex;flex-direction: column;align-items: center;background-color: white;padding-right: 0.2em;padding-left: 0.2em;position: relative;}#sk-container-id-2 div.sk-item {position: relative;z-index: 1;}#sk-container-id-2 div.sk-parallel {display: flex;align-items: stretch;justify-content: center;background-color: white;position: relative;}#sk-container-id-2 div.sk-item::before, #sk-container-id-2 div.sk-parallel-item::before {content: \"\";position: absolute;border-left: 1px solid gray;box-sizing: border-box;top: 0;bottom: 0;left: 50%;z-index: -1;}#sk-container-id-2 div.sk-parallel-item {display: flex;flex-direction: column;z-index: 1;position: relative;background-color: white;}#sk-container-id-2 div.sk-parallel-item:first-child::after {align-self: flex-end;width: 50%;}#sk-container-id-2 div.sk-parallel-item:last-child::after {align-self: flex-start;width: 50%;}#sk-container-id-2 div.sk-parallel-item:only-child::after {width: 0;}#sk-container-id-2 div.sk-dashed-wrapped {border: 1px dashed gray;margin: 0 0.4em 0.5em 0.4em;box-sizing: border-box;padding-bottom: 0.4em;background-color: white;}#sk-container-id-2 div.sk-label label {font-family: monospace;font-weight: bold;display: inline-block;line-height: 1.2em;}#sk-container-id-2 div.sk-label-container {text-align: center;}#sk-container-id-2 div.sk-container {/* jupyter's `normalize.less` sets `[hidden] { display: none; }` but bootstrap.min.css set `[hidden] { display: none !important; }` so we also need the `!important` here to be able to override the default hidden behavior on the sphinx rendered scikit-learn.org. See: https://github.com/scikit-learn/scikit-learn/issues/21755 */display: inline-block !important;position: relative;}#sk-container-id-2 div.sk-text-repr-fallback {display: none;}</style><div id=\"sk-container-id-2\" class=\"sk-top-container\"><div class=\"sk-text-repr-fallback\"><pre>RandomForestClassifier(n_estimators=128)</pre><b>In a Jupyter environment, please rerun this cell to show the HTML representation or trust the notebook. <br />On GitHub, the HTML representation is unable to render, please try loading this page with nbviewer.org.</b></div><div class=\"sk-container\" hidden><div class=\"sk-item\"><div class=\"sk-estimator sk-toggleable\"><input class=\"sk-toggleable__control sk-hidden--visually\" id=\"sk-estimator-id-2\" type=\"checkbox\" checked><label for=\"sk-estimator-id-2\" class=\"sk-toggleable__label sk-toggleable__label-arrow\">RandomForestClassifier</label><div class=\"sk-toggleable__content\"><pre>RandomForestClassifier(n_estimators=128)</pre></div></div></div></div></div>"
      ],
      "text/plain": [
       "RandomForestClassifier(n_estimators=128)"
      ]
     },
     "execution_count": 37,
     "metadata": {},
     "output_type": "execute_result"
    }
   ],
   "source": [
    "# Create and fit RandomForestClassifier\n",
    "rfc = RandomForestClassifier(n_estimators=128)\n",
    "rfc.fit(X_train_scaled, y_train)"
   ]
  },
  {
   "cell_type": "code",
   "execution_count": 38,
   "id": "e1c31987",
   "metadata": {},
   "outputs": [
    {
     "name": "stdout",
     "output_type": "stream",
     "text": [
      "0.8558635953905467\n"
     ]
    }
   ],
   "source": [
    "# Make predictions\n",
    "predictions = rfc.predict(X_test_scaled)\n",
    "\n",
    "# Calculating the accuracy score.\n",
    "acc_score = accuracy_score(y_test, predictions)\n",
    "print(acc_score)"
   ]
  },
  {
   "cell_type": "code",
   "execution_count": 39,
   "id": "f087b3bb",
   "metadata": {},
   "outputs": [
    {
     "name": "stdout",
     "output_type": "stream",
     "text": [
      "[[196134   6538]\n",
      " [ 27521   6104]]\n",
      "              precision    recall  f1-score   support\n",
      "\n",
      "         0.0       0.88      0.97      0.92    202672\n",
      "         1.0       0.48      0.18      0.26     33625\n",
      "\n",
      "    accuracy                           0.86    236297\n",
      "   macro avg       0.68      0.57      0.59    236297\n",
      "weighted avg       0.82      0.86      0.83    236297\n",
      "\n"
     ]
    }
   ],
   "source": [
    "print(confusion_matrix(y_test, predictions))\n",
    "print(classification_report(y_test,predictions))"
   ]
  },
  {
   "cell_type": "code",
   "execution_count": 40,
   "id": "3fc343c3",
   "metadata": {},
   "outputs": [
    {
     "data": {
      "text/plain": [
       "array([0.06282931, 0.07014879, 0.05496672, 0.05139718, 0.05506498,\n",
       "       0.04848305, 0.0381835 , 0.25389015, 0.1502463 , 0.21479002])"
      ]
     },
     "execution_count": 40,
     "metadata": {},
     "output_type": "execute_result"
    }
   ],
   "source": [
    "# Calculate Feature importances\n",
    "rfc.feature_importances_"
   ]
  },
  {
   "cell_type": "code",
   "execution_count": 41,
   "id": "cdf7c0ca",
   "metadata": {},
   "outputs": [
    {
     "data": {
      "text/plain": [
       "(<AxesSubplot:>,)"
      ]
     },
     "execution_count": 41,
     "metadata": {},
     "output_type": "execute_result"
    },
    {
     "data": {
      "image/png": "[encoded data removed]",
      "text/plain": [
       "<Figure size 1600x1600 with 1 Axes>"
      ]
     },
     "metadata": {},
     "output_type": "display_data"
    }
   ],
   "source": [
    "# Plot importances\n",
    "(pd.Series(rfc.feature_importances_, index=X.columns,).plot(kind='bar', figsize=(16,16)), )"
   ]
  },
  {
   "cell_type": "code",
   "execution_count": 43,
   "id": "a016d9b1",
   "metadata": {},
   "outputs": [
    {
     "data": {
      "text/html": [
       "<div>\n",
       "<style scoped>\n",
       "    .dataframe tbody tr th:only-of-type {\n",
       "        vertical-align: middle;\n",
       "    }\n",
       "\n",
       "    .dataframe tbody tr th {\n",
       "        vertical-align: top;\n",
       "    }\n",
       "\n",
       "    .dataframe thead th {\n",
       "        text-align: right;\n",
       "    }\n",
       "</style>\n",
       "<table border=\"1\" class=\"dataframe\">\n",
       "  <thead>\n",
       "    <tr style=\"text-align: right;\">\n",
       "      <th></th>\n",
       "      <th>_AGE_G</th>\n",
       "      <th>SEX</th>\n",
       "      <th>BPHIGH4</th>\n",
       "      <th>EXERANY2</th>\n",
       "      <th>RACE2</th>\n",
       "      <th>_BMI5</th>\n",
       "    </tr>\n",
       "  </thead>\n",
       "  <tbody>\n",
       "    <tr>\n",
       "      <th>0</th>\n",
       "      <td>5.0</td>\n",
       "      <td>2.0</td>\n",
       "      <td>1.0</td>\n",
       "      <td>2.0</td>\n",
       "      <td>1.0</td>\n",
       "      <td>4018.0</td>\n",
       "    </tr>\n",
       "    <tr>\n",
       "      <th>1</th>\n",
       "      <td>4.0</td>\n",
       "      <td>2.0</td>\n",
       "      <td>3.0</td>\n",
       "      <td>1.0</td>\n",
       "      <td>1.0</td>\n",
       "      <td>2509.0</td>\n",
       "    </tr>\n",
       "    <tr>\n",
       "      <th>2</th>\n",
       "      <td>6.0</td>\n",
       "      <td>2.0</td>\n",
       "      <td>3.0</td>\n",
       "      <td>0.0</td>\n",
       "      <td>1.0</td>\n",
       "      <td>2204.0</td>\n",
       "    </tr>\n",
       "    <tr>\n",
       "      <th>3</th>\n",
       "      <td>5.0</td>\n",
       "      <td>2.0</td>\n",
       "      <td>1.0</td>\n",
       "      <td>2.0</td>\n",
       "      <td>1.0</td>\n",
       "      <td>2819.0</td>\n",
       "    </tr>\n",
       "    <tr>\n",
       "      <th>4</th>\n",
       "      <td>5.0</td>\n",
       "      <td>2.0</td>\n",
       "      <td>3.0</td>\n",
       "      <td>2.0</td>\n",
       "      <td>1.0</td>\n",
       "      <td>2437.0</td>\n",
       "    </tr>\n",
       "  </tbody>\n",
       "</table>\n",
       "</div>"
      ],
      "text/plain": [
       "   _AGE_G  SEX  BPHIGH4  EXERANY2  RACE2   _BMI5\n",
       "0     5.0  2.0      1.0       2.0    1.0  4018.0\n",
       "1     4.0  2.0      3.0       1.0    1.0  2509.0\n",
       "2     6.0  2.0      3.0       0.0    1.0  2204.0\n",
       "3     5.0  2.0      1.0       2.0    1.0  2819.0\n",
       "4     5.0  2.0      3.0       2.0    1.0  2437.0"
      ]
     },
     "execution_count": 43,
     "metadata": {},
     "output_type": "execute_result"
    }
   ],
   "source": [
    "# Compare our ML model to ADA survey questions.abs\n",
    "X=df[['_AGE_G','SEX','BPHIGH4','EXERANY2','RACE2','_BMI5']]\n",
    "X.head()"
   ]
  },
  {
   "cell_type": "code",
   "execution_count": 44,
   "id": "335497f4",
   "metadata": {},
   "outputs": [
    {
     "data": {
      "text/plain": [
       "Counter({1.0: 101798, 0.0: 607093})"
      ]
     },
     "execution_count": 44,
     "metadata": {},
     "output_type": "execute_result"
    }
   ],
   "source": [
    "# Re-run model\n",
    "\n",
    "# Split into training and testing data sets\n",
    "X_train, X_test, y_train, y_test = train_test_split(X,y)\n",
    "\n",
    "Counter(y_train)"
   ]
  },
  {
   "cell_type": "code",
   "execution_count": 45,
   "id": "2df521f7",
   "metadata": {},
   "outputs": [],
   "source": [
    "# Scale the data\n",
    "\n",
    "scaler = StandardScaler()\n",
    "# Fitting the Standard Scaler with the training data.\n",
    "X_scaler = scaler.fit(X_train)\n",
    "\n",
    "# Scaling the data.\n",
    "X_train_scaled = X_scaler.transform(X_train)\n",
    "X_test_scaled = X_scaler.transform(X_test)"
   ]
  },
  {
   "cell_type": "code",
   "execution_count": 46,
   "id": "34a9b427",
   "metadata": {},
   "outputs": [
    {
     "data": {
      "text/html": [
       "<style>#sk-container-id-3 {color: black;background-color: white;}#sk-container-id-3 pre{padding: 0;}#sk-container-id-3 div.sk-toggleable {background-color: white;}#sk-container-id-3 label.sk-toggleable__label {cursor: pointer;display: block;width: 100%;margin-bottom: 0;padding: 0.3em;box-sizing: border-box;text-align: center;}#sk-container-id-3 label.sk-toggleable__label-arrow:before {content: \"▸\";float: left;margin-right: 0.25em;color: #696969;}#sk-container-id-3 label.sk-toggleable__label-arrow:hover:before {color: black;}#sk-container-id-3 div.sk-estimator:hover label.sk-toggleable__label-arrow:before {color: black;}#sk-container-id-3 div.sk-toggleable__content {max-height: 0;max-width: 0;overflow: hidden;text-align: left;background-color: #f0f8ff;}#sk-container-id-3 div.sk-toggleable__content pre {margin: 0.2em;color: black;border-radius: 0.25em;background-color: #f0f8ff;}#sk-container-id-3 input.sk-toggleable__control:checked~div.sk-toggleable__content {max-height: 200px;max-width: 100%;overflow: auto;}#sk-container-id-3 input.sk-toggleable__control:checked~label.sk-toggleable__label-arrow:before {content: \"▾\";}#sk-container-id-3 div.sk-estimator input.sk-toggleable__control:checked~label.sk-toggleable__label {background-color: #d4ebff;}#sk-container-id-3 div.sk-label input.sk-toggleable__control:checked~label.sk-toggleable__label {background-color: #d4ebff;}#sk-container-id-3 input.sk-hidden--visually {border: 0;clip: rect(1px 1px 1px 1px);clip: rect(1px, 1px, 1px, 1px);height: 1px;margin: -1px;overflow: hidden;padding: 0;position: absolute;width: 1px;}#sk-container-id-3 div.sk-estimator {font-family: monospace;background-color: #f0f8ff;border: 1px dotted black;border-radius: 0.25em;box-sizing: border-box;margin-bottom: 0.5em;}#sk-container-id-3 div.sk-estimator:hover {background-color: #d4ebff;}#sk-container-id-3 div.sk-parallel-item::after {content: \"\";width: 100%;border-bottom: 1px solid gray;flex-grow: 1;}#sk-container-id-3 div.sk-label:hover label.sk-toggleable__label {background-color: #d4ebff;}#sk-container-id-3 div.sk-serial::before {content: \"\";position: absolute;border-left: 1px solid gray;box-sizing: border-box;top: 0;bottom: 0;left: 50%;z-index: 0;}#sk-container-id-3 div.sk-serial {display: flex;flex-direction: column;align-items: center;background-color: white;padding-right: 0.2em;padding-left: 0.2em;position: relative;}#sk-container-id-3 div.sk-item {position: relative;z-index: 1;}#sk-container-id-3 div.sk-parallel {display: flex;align-items: stretch;justify-content: center;background-color: white;position: relative;}#sk-container-id-3 div.sk-item::before, #sk-container-id-3 div.sk-parallel-item::before {content: \"\";position: absolute;border-left: 1px solid gray;box-sizing: border-box;top: 0;bottom: 0;left: 50%;z-index: -1;}#sk-container-id-3 div.sk-parallel-item {display: flex;flex-direction: column;z-index: 1;position: relative;background-color: white;}#sk-container-id-3 div.sk-parallel-item:first-child::after {align-self: flex-end;width: 50%;}#sk-container-id-3 div.sk-parallel-item:last-child::after {align-self: flex-start;width: 50%;}#sk-container-id-3 div.sk-parallel-item:only-child::after {width: 0;}#sk-container-id-3 div.sk-dashed-wrapped {border: 1px dashed gray;margin: 0 0.4em 0.5em 0.4em;box-sizing: border-box;padding-bottom: 0.4em;background-color: white;}#sk-container-id-3 div.sk-label label {font-family: monospace;font-weight: bold;display: inline-block;line-height: 1.2em;}#sk-container-id-3 div.sk-label-container {text-align: center;}#sk-container-id-3 div.sk-container {/* jupyter's `normalize.less` sets `[hidden] { display: none; }` but bootstrap.min.css set `[hidden] { display: none !important; }` so we also need the `!important` here to be able to override the default hidden behavior on the sphinx rendered scikit-learn.org. See: https://github.com/scikit-learn/scikit-learn/issues/21755 */display: inline-block !important;position: relative;}#sk-container-id-3 div.sk-text-repr-fallback {display: none;}</style><div id=\"sk-container-id-3\" class=\"sk-top-container\"><div class=\"sk-text-repr-fallback\"><pre>RandomForestClassifier(n_estimators=128)</pre><b>In a Jupyter environment, please rerun this cell to show the HTML representation or trust the notebook. <br />On GitHub, the HTML representation is unable to render, please try loading this page with nbviewer.org.</b></div><div class=\"sk-container\" hidden><div class=\"sk-item\"><div class=\"sk-estimator sk-toggleable\"><input class=\"sk-toggleable__control sk-hidden--visually\" id=\"sk-estimator-id-3\" type=\"checkbox\" checked><label for=\"sk-estimator-id-3\" class=\"sk-toggleable__label sk-toggleable__label-arrow\">RandomForestClassifier</label><div class=\"sk-toggleable__content\"><pre>RandomForestClassifier(n_estimators=128)</pre></div></div></div></div></div>"
      ],
      "text/plain": [
       "RandomForestClassifier(n_estimators=128)"
      ]
     },
     "execution_count": 46,
     "metadata": {},
     "output_type": "execute_result"
    }
   ],
   "source": [
    "# Create and fit RandomForestClassifier\n",
    "rfc = RandomForestClassifier(n_estimators=128)\n",
    "rfc.fit(X_train_scaled, y_train)"
   ]
  },
  {
   "cell_type": "code",
   "execution_count": 47,
   "id": "ed1d5b82",
   "metadata": {},
   "outputs": [
    {
     "name": "stdout",
     "output_type": "stream",
     "text": [
      "0.843201564133273\n"
     ]
    }
   ],
   "source": [
    "# Make predictions\n",
    "predictions = rfc.predict(X_test_scaled)\n",
    "\n",
    "# Calculating the accuracy score.\n",
    "acc_score = accuracy_score(y_test, predictions)\n",
    "print(acc_score)"
   ]
  },
  {
   "cell_type": "code",
   "execution_count": 48,
   "id": "11421177",
   "metadata": {},
   "outputs": [
    {
     "name": "stdout",
     "output_type": "stream",
     "text": [
      "[[193974   8535]\n",
      " [ 28516   5272]]\n",
      "              precision    recall  f1-score   support\n",
      "\n",
      "         0.0       0.87      0.96      0.91    202509\n",
      "         1.0       0.38      0.16      0.22     33788\n",
      "\n",
      "    accuracy                           0.84    236297\n",
      "   macro avg       0.63      0.56      0.57    236297\n",
      "weighted avg       0.80      0.84      0.81    236297\n",
      "\n"
     ]
    }
   ],
   "source": [
    "print(confusion_matrix(y_test, predictions))\n",
    "print(classification_report(y_test,predictions))"
   ]
  },
  {
   "cell_type": "code",
   "execution_count": 49,
   "id": "833420aa",
   "metadata": {},
   "outputs": [
    {
     "data": {
      "text/plain": [
       "array([0.08685902, 0.00836554, 0.1481637 , 0.02202561, 0.05321595,\n",
       "       0.68137018])"
      ]
     },
     "execution_count": 49,
     "metadata": {},
     "output_type": "execute_result"
    }
   ],
   "source": [
    "rfc.feature_importances_"
   ]
  },
  {
   "cell_type": "code",
   "execution_count": 50,
   "id": "713fc073",
   "metadata": {},
   "outputs": [
    {
     "data": {
      "text/plain": [
       "(<AxesSubplot:>,)"
      ]
     },
     "execution_count": 50,
     "metadata": {},
     "output_type": "execute_result"
    },
    {
     "data": {
      "image/png": "[encoded data removed]",
      "text/plain": [
       "<Figure size 1600x1600 with 1 Axes>"
      ]
     },
     "metadata": {},
     "output_type": "display_data"
    }
   ],
   "source": [
    "# Plot importances\n",
    "(pd.Series(rfc.feature_importances_, index=X.columns,).plot(kind='bar', figsize=(16,16)), )"
   ]
  }
 ],
 "metadata": {
  "kernelspec": {
   "display_name": "mlenv",
   "language": "python",
   "name": "python3"
  },
  "language_info": {
   "codemirror_mode": {
    "name": "ipython",
    "version": 3
   },
   "file_extension": ".py",
   "mimetype": "text/x-python",
   "name": "python",
   "nbconvert_exporter": "python",
   "pygments_lexer": "ipython3",
   "version": "3.9.15"
  },
  "vscode": {
   "interpreter": {
    "hash": "39aeefac7f548ccbf3f021f97b288eeb686e33f7f41cef224260c91b53ff4f81"
   }
  }
 },
 "nbformat": 4,
 "nbformat_minor": 5
}
