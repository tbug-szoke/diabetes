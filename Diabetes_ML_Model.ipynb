{
 "cells": [
  {
   "attachments": {},
   "cell_type": "markdown",
   "id": "e1d4ccd7",
   "metadata": {},
   "source": [
    "# Diabetes ML Model\n",
    "\n",
    "In our exploratory analysis and ML models, we segmented the data by year.  Our results indicated that feature importances were\n",
    "similar across both years.  In our final model, we will drop year from our data set and analyze all data.\n",
    "\n",
    "We also learned that BMI is an important factor, and since it is calculated from height and weight, we will remove those features from\n",
    "the data set.\n",
    "\n",
    "Finally, we saw that state was consistently an important feature, but since we believe that is not likely to be a causal relationship,\n",
    "we removed it and found that the models still worked quite well.  \n",
    "\n",
    "We will apply those lessons here and attemnpt to continue to refine."
   ]
  },
  {
   "cell_type": "code",
   "execution_count": 1,
   "id": "02f51f15",
   "metadata": {},
   "outputs": [],
   "source": [
    "# Dependencies\n",
    "import numpy as np\n",
    "import pandas as pd \n",
    "#import statsmodels.api as sm\n",
    "#import seaborn as sns\n",
    "import matplotlib.pyplot as plt\n",
    "from sklearn import metrics\n",
    "from sklearn.preprocessing import StandardScaler\n",
    "from sklearn.model_selection import train_test_split\n",
    "from sklearn.metrics import confusion_matrix, accuracy_score, mean_squared_error, r2_score, roc_auc_score, roc_curve, classification_report\n",
    "from sklearn.linear_model import LogisticRegression\n",
    "#from sklearn.neighbors import KNeighborsClassifier\n",
    "from sklearn.svm import SVC\n",
    "from sklearn.neural_network import MLPClassifier\n",
    "from sklearn.tree import DecisionTreeClassifier\n",
    "from sklearn.ensemble import RandomForestClassifier\n",
    "from sklearn.ensemble import GradientBoostingClassifier\n",
    "#from sklearn.model_selection import KFold\n",
    "from collections import Counter\n",
    "import warnings\n",
    "warnings.simplefilter(action = \"ignore\") "
   ]
  },
  {
   "cell_type": "code",
   "execution_count": 2,
   "id": "9f4945d7",
   "metadata": {},
   "outputs": [
    {
     "data": {
      "text/plain": [
       "(945188, 52)"
      ]
     },
     "execution_count": 2,
     "metadata": {},
     "output_type": "execute_result"
    }
   ],
   "source": [
    "# File to Load (Remember to change the path if needed.)\n",
    "diabetes = \"diabetesDB.csv\"\n",
    "\n",
    "# Read the data and store in Dataframe\n",
    "df = pd.read_csv(diabetes)\n",
    "df.shape"
   ]
  },
  {
   "attachments": {},
   "cell_type": "markdown",
   "id": "0ae15b57",
   "metadata": {},
   "source": [
    "# Data Prep"
   ]
  },
  {
   "cell_type": "code",
   "execution_count": 3,
   "id": "4daa877e",
   "metadata": {},
   "outputs": [
    {
     "data": {
      "text/plain": [
       "id               0\n",
       "_state           0\n",
       "iyear            0\n",
       "genhlth          4\n",
       "physhlth         1\n",
       "menthlth         0\n",
       "poorhlth    455451\n",
       "hlthpln1         0\n",
       "persdoc2         0\n",
       "medcost          1\n",
       "checkup1         1\n",
       "bphigh4          6\n",
       "toldhi2     129077\n",
       "cvdinfr4         1\n",
       "cvdcrhd4         1\n",
       "cvdstrk3         0\n",
       "asthma3          0\n",
       "asthnow     820948\n",
       "chccopd1         2\n",
       "havarth3         2\n",
       "addepev2        10\n",
       "chckidny         3\n",
       "diabete3         0\n",
       "sex              0\n",
       "marital        218\n",
       "educa          349\n",
       "renthom1      2240\n",
       "employ1        443\n",
       "smoke100     14195\n",
       "smokday2    529325\n",
       "usenow3      14832\n",
       "avedrnk2    493051\n",
       "exerany2     55993\n",
       "scntmny1    837087\n",
       "scntmel1    831481\n",
       "adpleasr    910267\n",
       "addown      910293\n",
       "adsleep     910306\n",
       "adenergy    910314\n",
       "adeat1      910328\n",
       "adfail      910341\n",
       "adthink     910358\n",
       "admove      910376\n",
       "mistmnt     910394\n",
       "adanxev     910406\n",
       "_race          126\n",
       "_age_g           0\n",
       "htm4         22231\n",
       "wtkg3        52068\n",
       "_bmi5        63609\n",
       "_frutsum     62243\n",
       "_vegesum     70777\n",
       "dtype: int64"
      ]
     },
     "execution_count": 3,
     "metadata": {},
     "output_type": "execute_result"
    }
   ],
   "source": [
    "# Review nulls\n",
    "df.isnull().sum()"
   ]
  },
  {
   "cell_type": "code",
   "execution_count": 4,
   "id": "7e664b58",
   "metadata": {},
   "outputs": [],
   "source": [
    "# Remove NaN Values from all other fields (Features); replace with a value that is unused in the raw data set\n",
    "df.fillna(100, inplace=True)"
   ]
  },
  {
   "cell_type": "code",
   "execution_count": 5,
   "id": "c8814013",
   "metadata": {},
   "outputs": [
    {
     "data": {
      "text/plain": [
       "id          0\n",
       "_state      0\n",
       "iyear       0\n",
       "genhlth     0\n",
       "physhlth    0\n",
       "menthlth    0\n",
       "poorhlth    0\n",
       "hlthpln1    0\n",
       "persdoc2    0\n",
       "medcost     0\n",
       "checkup1    0\n",
       "bphigh4     0\n",
       "toldhi2     0\n",
       "cvdinfr4    0\n",
       "cvdcrhd4    0\n",
       "cvdstrk3    0\n",
       "asthma3     0\n",
       "asthnow     0\n",
       "chccopd1    0\n",
       "havarth3    0\n",
       "addepev2    0\n",
       "chckidny    0\n",
       "diabete3    0\n",
       "sex         0\n",
       "marital     0\n",
       "educa       0\n",
       "renthom1    0\n",
       "employ1     0\n",
       "smoke100    0\n",
       "smokday2    0\n",
       "usenow3     0\n",
       "avedrnk2    0\n",
       "exerany2    0\n",
       "scntmny1    0\n",
       "scntmel1    0\n",
       "adpleasr    0\n",
       "addown      0\n",
       "adsleep     0\n",
       "adenergy    0\n",
       "adeat1      0\n",
       "adfail      0\n",
       "adthink     0\n",
       "admove      0\n",
       "mistmnt     0\n",
       "adanxev     0\n",
       "_race       0\n",
       "_age_g      0\n",
       "htm4        0\n",
       "wtkg3       0\n",
       "_bmi5       0\n",
       "_frutsum    0\n",
       "_vegesum    0\n",
       "dtype: int64"
      ]
     },
     "execution_count": 5,
     "metadata": {},
     "output_type": "execute_result"
    }
   ],
   "source": [
    "df.isnull().sum()"
   ]
  },
  {
   "attachments": {},
   "cell_type": "markdown",
   "id": "dc4bb47d",
   "metadata": {},
   "source": [
    "# Prepare data for Machine Learning"
   ]
  },
  {
   "cell_type": "code",
   "execution_count": 7,
   "id": "acf45d1b",
   "metadata": {},
   "outputs": [
    {
     "data": {
      "text/html": [
       "<div>\n",
       "<style scoped>\n",
       "    .dataframe tbody tr th:only-of-type {\n",
       "        vertical-align: middle;\n",
       "    }\n",
       "\n",
       "    .dataframe tbody tr th {\n",
       "        vertical-align: top;\n",
       "    }\n",
       "\n",
       "    .dataframe thead th {\n",
       "        text-align: right;\n",
       "    }\n",
       "</style>\n",
       "<table border=\"1\" class=\"dataframe\">\n",
       "  <thead>\n",
       "    <tr style=\"text-align: right;\">\n",
       "      <th></th>\n",
       "      <th>genhlth</th>\n",
       "      <th>physhlth</th>\n",
       "      <th>menthlth</th>\n",
       "      <th>poorhlth</th>\n",
       "      <th>hlthpln1</th>\n",
       "      <th>persdoc2</th>\n",
       "      <th>medcost</th>\n",
       "      <th>checkup1</th>\n",
       "      <th>bphigh4</th>\n",
       "      <th>toldhi2</th>\n",
       "      <th>...</th>\n",
       "      <th>adfail</th>\n",
       "      <th>adthink</th>\n",
       "      <th>admove</th>\n",
       "      <th>mistmnt</th>\n",
       "      <th>adanxev</th>\n",
       "      <th>_race</th>\n",
       "      <th>_age_g</th>\n",
       "      <th>_bmi5</th>\n",
       "      <th>_frutsum</th>\n",
       "      <th>_vegesum</th>\n",
       "    </tr>\n",
       "  </thead>\n",
       "  <tbody>\n",
       "    <tr>\n",
       "      <th>count</th>\n",
       "      <td>945188.000000</td>\n",
       "      <td>945188.000000</td>\n",
       "      <td>945188.000000</td>\n",
       "      <td>945188.000000</td>\n",
       "      <td>945188.000000</td>\n",
       "      <td>945188.000000</td>\n",
       "      <td>945188.000000</td>\n",
       "      <td>945188.000000</td>\n",
       "      <td>945188.000000</td>\n",
       "      <td>945188.000000</td>\n",
       "      <td>...</td>\n",
       "      <td>945188.000000</td>\n",
       "      <td>945188.000000</td>\n",
       "      <td>945188.000000</td>\n",
       "      <td>945188.000000</td>\n",
       "      <td>945188.000000</td>\n",
       "      <td>945188.000000</td>\n",
       "      <td>945188.000000</td>\n",
       "      <td>945188.000000</td>\n",
       "      <td>9.451880e+05</td>\n",
       "      <td>9.451880e+05</td>\n",
       "    </tr>\n",
       "    <tr>\n",
       "      <th>mean</th>\n",
       "      <td>2.592309</td>\n",
       "      <td>60.631176</td>\n",
       "      <td>64.399970</td>\n",
       "      <td>77.237957</td>\n",
       "      <td>1.119785</td>\n",
       "      <td>1.391746</td>\n",
       "      <td>1.900935</td>\n",
       "      <td>1.601569</td>\n",
       "      <td>2.215451</td>\n",
       "      <td>15.056277</td>\n",
       "      <td>...</td>\n",
       "      <td>99.036208</td>\n",
       "      <td>99.093822</td>\n",
       "      <td>99.253851</td>\n",
       "      <td>96.388232</td>\n",
       "      <td>96.389104</td>\n",
       "      <td>1.990272</td>\n",
       "      <td>4.422571</td>\n",
       "      <td>2603.159951</td>\n",
       "      <td>1.382295e+02</td>\n",
       "      <td>1.845304e+02</td>\n",
       "    </tr>\n",
       "    <tr>\n",
       "      <th>std</th>\n",
       "      <td>1.154237</td>\n",
       "      <td>37.041350</td>\n",
       "      <td>35.926294</td>\n",
       "      <td>35.066144</td>\n",
       "      <td>0.504575</td>\n",
       "      <td>0.817551</td>\n",
       "      <td>0.438216</td>\n",
       "      <td>1.270311</td>\n",
       "      <td>1.060227</td>\n",
       "      <td>33.788468</td>\n",
       "      <td>...</td>\n",
       "      <td>7.721615</td>\n",
       "      <td>7.306799</td>\n",
       "      <td>6.044232</td>\n",
       "      <td>18.475206</td>\n",
       "      <td>18.474111</td>\n",
       "      <td>2.495198</td>\n",
       "      <td>1.526921</td>\n",
       "      <td>908.311942</td>\n",
       "      <td>1.311997e+02</td>\n",
       "      <td>1.438683e+02</td>\n",
       "    </tr>\n",
       "    <tr>\n",
       "      <th>min</th>\n",
       "      <td>1.000000</td>\n",
       "      <td>1.000000</td>\n",
       "      <td>1.000000</td>\n",
       "      <td>1.000000</td>\n",
       "      <td>1.000000</td>\n",
       "      <td>1.000000</td>\n",
       "      <td>1.000000</td>\n",
       "      <td>1.000000</td>\n",
       "      <td>1.000000</td>\n",
       "      <td>1.000000</td>\n",
       "      <td>...</td>\n",
       "      <td>1.000000</td>\n",
       "      <td>1.000000</td>\n",
       "      <td>1.000000</td>\n",
       "      <td>1.000000</td>\n",
       "      <td>1.000000</td>\n",
       "      <td>1.000000</td>\n",
       "      <td>1.000000</td>\n",
       "      <td>100.000000</td>\n",
       "      <td>5.397605e-79</td>\n",
       "      <td>5.397605e-79</td>\n",
       "    </tr>\n",
       "    <tr>\n",
       "      <th>25%</th>\n",
       "      <td>2.000000</td>\n",
       "      <td>15.000000</td>\n",
       "      <td>25.000000</td>\n",
       "      <td>88.000000</td>\n",
       "      <td>1.000000</td>\n",
       "      <td>1.000000</td>\n",
       "      <td>2.000000</td>\n",
       "      <td>1.000000</td>\n",
       "      <td>1.000000</td>\n",
       "      <td>1.000000</td>\n",
       "      <td>...</td>\n",
       "      <td>100.000000</td>\n",
       "      <td>100.000000</td>\n",
       "      <td>100.000000</td>\n",
       "      <td>100.000000</td>\n",
       "      <td>100.000000</td>\n",
       "      <td>1.000000</td>\n",
       "      <td>3.000000</td>\n",
       "      <td>2289.000000</td>\n",
       "      <td>6.000000e+01</td>\n",
       "      <td>1.000000e+02</td>\n",
       "    </tr>\n",
       "    <tr>\n",
       "      <th>50%</th>\n",
       "      <td>3.000000</td>\n",
       "      <td>88.000000</td>\n",
       "      <td>88.000000</td>\n",
       "      <td>88.000000</td>\n",
       "      <td>1.000000</td>\n",
       "      <td>1.000000</td>\n",
       "      <td>2.000000</td>\n",
       "      <td>1.000000</td>\n",
       "      <td>3.000000</td>\n",
       "      <td>2.000000</td>\n",
       "      <td>...</td>\n",
       "      <td>100.000000</td>\n",
       "      <td>100.000000</td>\n",
       "      <td>100.000000</td>\n",
       "      <td>100.000000</td>\n",
       "      <td>100.000000</td>\n",
       "      <td>1.000000</td>\n",
       "      <td>5.000000</td>\n",
       "      <td>2645.000000</td>\n",
       "      <td>1.000000e+02</td>\n",
       "      <td>1.570000e+02</td>\n",
       "    </tr>\n",
       "    <tr>\n",
       "      <th>75%</th>\n",
       "      <td>3.000000</td>\n",
       "      <td>88.000000</td>\n",
       "      <td>88.000000</td>\n",
       "      <td>100.000000</td>\n",
       "      <td>1.000000</td>\n",
       "      <td>1.000000</td>\n",
       "      <td>2.000000</td>\n",
       "      <td>2.000000</td>\n",
       "      <td>3.000000</td>\n",
       "      <td>2.000000</td>\n",
       "      <td>...</td>\n",
       "      <td>100.000000</td>\n",
       "      <td>100.000000</td>\n",
       "      <td>100.000000</td>\n",
       "      <td>100.000000</td>\n",
       "      <td>100.000000</td>\n",
       "      <td>1.000000</td>\n",
       "      <td>6.000000</td>\n",
       "      <td>3034.000000</td>\n",
       "      <td>2.000000e+02</td>\n",
       "      <td>2.330000e+02</td>\n",
       "    </tr>\n",
       "    <tr>\n",
       "      <th>max</th>\n",
       "      <td>100.000000</td>\n",
       "      <td>100.000000</td>\n",
       "      <td>99.000000</td>\n",
       "      <td>100.000000</td>\n",
       "      <td>9.000000</td>\n",
       "      <td>9.000000</td>\n",
       "      <td>100.000000</td>\n",
       "      <td>100.000000</td>\n",
       "      <td>100.000000</td>\n",
       "      <td>100.000000</td>\n",
       "      <td>...</td>\n",
       "      <td>100.000000</td>\n",
       "      <td>100.000000</td>\n",
       "      <td>100.000000</td>\n",
       "      <td>100.000000</td>\n",
       "      <td>100.000000</td>\n",
       "      <td>100.000000</td>\n",
       "      <td>6.000000</td>\n",
       "      <td>9995.000000</td>\n",
       "      <td>1.500000e+04</td>\n",
       "      <td>2.046000e+04</td>\n",
       "    </tr>\n",
       "  </tbody>\n",
       "</table>\n",
       "<p>8 rows × 46 columns</p>\n",
       "</div>"
      ],
      "text/plain": [
       "             genhlth       physhlth       menthlth       poorhlth  \\\n",
       "count  945188.000000  945188.000000  945188.000000  945188.000000   \n",
       "mean        2.592309      60.631176      64.399970      77.237957   \n",
       "std         1.154237      37.041350      35.926294      35.066144   \n",
       "min         1.000000       1.000000       1.000000       1.000000   \n",
       "25%         2.000000      15.000000      25.000000      88.000000   \n",
       "50%         3.000000      88.000000      88.000000      88.000000   \n",
       "75%         3.000000      88.000000      88.000000     100.000000   \n",
       "max       100.000000     100.000000      99.000000     100.000000   \n",
       "\n",
       "            hlthpln1       persdoc2        medcost       checkup1  \\\n",
       "count  945188.000000  945188.000000  945188.000000  945188.000000   \n",
       "mean        1.119785       1.391746       1.900935       1.601569   \n",
       "std         0.504575       0.817551       0.438216       1.270311   \n",
       "min         1.000000       1.000000       1.000000       1.000000   \n",
       "25%         1.000000       1.000000       2.000000       1.000000   \n",
       "50%         1.000000       1.000000       2.000000       1.000000   \n",
       "75%         1.000000       1.000000       2.000000       2.000000   \n",
       "max         9.000000       9.000000     100.000000     100.000000   \n",
       "\n",
       "             bphigh4        toldhi2  ...         adfail        adthink  \\\n",
       "count  945188.000000  945188.000000  ...  945188.000000  945188.000000   \n",
       "mean        2.215451      15.056277  ...      99.036208      99.093822   \n",
       "std         1.060227      33.788468  ...       7.721615       7.306799   \n",
       "min         1.000000       1.000000  ...       1.000000       1.000000   \n",
       "25%         1.000000       1.000000  ...     100.000000     100.000000   \n",
       "50%         3.000000       2.000000  ...     100.000000     100.000000   \n",
       "75%         3.000000       2.000000  ...     100.000000     100.000000   \n",
       "max       100.000000     100.000000  ...     100.000000     100.000000   \n",
       "\n",
       "              admove        mistmnt        adanxev          _race  \\\n",
       "count  945188.000000  945188.000000  945188.000000  945188.000000   \n",
       "mean       99.253851      96.388232      96.389104       1.990272   \n",
       "std         6.044232      18.475206      18.474111       2.495198   \n",
       "min         1.000000       1.000000       1.000000       1.000000   \n",
       "25%       100.000000     100.000000     100.000000       1.000000   \n",
       "50%       100.000000     100.000000     100.000000       1.000000   \n",
       "75%       100.000000     100.000000     100.000000       1.000000   \n",
       "max       100.000000     100.000000     100.000000     100.000000   \n",
       "\n",
       "              _age_g          _bmi5      _frutsum      _vegesum  \n",
       "count  945188.000000  945188.000000  9.451880e+05  9.451880e+05  \n",
       "mean        4.422571    2603.159951  1.382295e+02  1.845304e+02  \n",
       "std         1.526921     908.311942  1.311997e+02  1.438683e+02  \n",
       "min         1.000000     100.000000  5.397605e-79  5.397605e-79  \n",
       "25%         3.000000    2289.000000  6.000000e+01  1.000000e+02  \n",
       "50%         5.000000    2645.000000  1.000000e+02  1.570000e+02  \n",
       "75%         6.000000    3034.000000  2.000000e+02  2.330000e+02  \n",
       "max         6.000000    9995.000000  1.500000e+04  2.046000e+04  \n",
       "\n",
       "[8 rows x 46 columns]"
      ]
     },
     "execution_count": 7,
     "metadata": {},
     "output_type": "execute_result"
    }
   ],
   "source": [
    "# split the data into X (features) and y (target):\n",
    "\n",
    "y = df['diabete3']\n",
    "X = df.drop(columns=['diabete3','id','_state','iyear','htm4','wtkg3'])\n",
    "X.describe()"
   ]
  },
  {
   "cell_type": "code",
   "execution_count": 8,
   "id": "a7e2e4c6",
   "metadata": {},
   "outputs": [
    {
     "data": {
      "text/plain": [
       "0    809602\n",
       "1    119717\n",
       "4     15869\n",
       "Name: diabete3, dtype: int64"
      ]
     },
     "execution_count": 8,
     "metadata": {},
     "output_type": "execute_result"
    }
   ],
   "source": [
    "# check balance of target column\n",
    "y.value_counts()"
   ]
  },
  {
   "cell_type": "code",
   "execution_count": 9,
   "id": "30d8234c",
   "metadata": {},
   "outputs": [
    {
     "data": {
      "text/plain": [
       "0    809602\n",
       "1    135586\n",
       "Name: diabete3, dtype: int64"
      ]
     },
     "execution_count": 9,
     "metadata": {},
     "output_type": "execute_result"
    }
   ],
   "source": [
    "# Transform y values to 0 = no diabetes; 1 = yes, diabetes.  Per BRFSS codebook 4 = prediabetes and we consider this as 'yes, diabetes'\n",
    "\n",
    "y = y.replace({4:1})\n",
    "y.value_counts()"
   ]
  },
  {
   "cell_type": "code",
   "execution_count": 28,
   "id": "68cbd2e3",
   "metadata": {},
   "outputs": [
    {
     "data": {
      "text/plain": [
       "Counter({0: 607186, 1: 101705})"
      ]
     },
     "execution_count": 28,
     "metadata": {},
     "output_type": "execute_result"
    }
   ],
   "source": [
    "# Split into training and testing data sets\n",
    "# Remove test size paramenter\n",
    "X_train, X_test, y_train, y_test = train_test_split(X,y)\n",
    "\n",
    "Counter(y_train)"
   ]
  },
  {
   "cell_type": "code",
   "execution_count": 29,
   "id": "9baa969b",
   "metadata": {},
   "outputs": [],
   "source": [
    "# Scale the data\n",
    "\n",
    "scaler = StandardScaler()\n",
    "# Fitting the Standard Scaler with the training data.\n",
    "X_scaler = scaler.fit(X_train)\n",
    "\n",
    "# Scaling the data.\n",
    "X_train_scaled = X_scaler.transform(X_train)\n",
    "X_test_scaled = X_scaler.transform(X_test)"
   ]
  },
  {
   "cell_type": "code",
   "execution_count": 30,
   "id": "53179ad8",
   "metadata": {},
   "outputs": [
    {
     "data": {
      "text/html": [
       "<style>#sk-container-id-3 {color: black;background-color: white;}#sk-container-id-3 pre{padding: 0;}#sk-container-id-3 div.sk-toggleable {background-color: white;}#sk-container-id-3 label.sk-toggleable__label {cursor: pointer;display: block;width: 100%;margin-bottom: 0;padding: 0.3em;box-sizing: border-box;text-align: center;}#sk-container-id-3 label.sk-toggleable__label-arrow:before {content: \"▸\";float: left;margin-right: 0.25em;color: #696969;}#sk-container-id-3 label.sk-toggleable__label-arrow:hover:before {color: black;}#sk-container-id-3 div.sk-estimator:hover label.sk-toggleable__label-arrow:before {color: black;}#sk-container-id-3 div.sk-toggleable__content {max-height: 0;max-width: 0;overflow: hidden;text-align: left;background-color: #f0f8ff;}#sk-container-id-3 div.sk-toggleable__content pre {margin: 0.2em;color: black;border-radius: 0.25em;background-color: #f0f8ff;}#sk-container-id-3 input.sk-toggleable__control:checked~div.sk-toggleable__content {max-height: 200px;max-width: 100%;overflow: auto;}#sk-container-id-3 input.sk-toggleable__control:checked~label.sk-toggleable__label-arrow:before {content: \"▾\";}#sk-container-id-3 div.sk-estimator input.sk-toggleable__control:checked~label.sk-toggleable__label {background-color: #d4ebff;}#sk-container-id-3 div.sk-label input.sk-toggleable__control:checked~label.sk-toggleable__label {background-color: #d4ebff;}#sk-container-id-3 input.sk-hidden--visually {border: 0;clip: rect(1px 1px 1px 1px);clip: rect(1px, 1px, 1px, 1px);height: 1px;margin: -1px;overflow: hidden;padding: 0;position: absolute;width: 1px;}#sk-container-id-3 div.sk-estimator {font-family: monospace;background-color: #f0f8ff;border: 1px dotted black;border-radius: 0.25em;box-sizing: border-box;margin-bottom: 0.5em;}#sk-container-id-3 div.sk-estimator:hover {background-color: #d4ebff;}#sk-container-id-3 div.sk-parallel-item::after {content: \"\";width: 100%;border-bottom: 1px solid gray;flex-grow: 1;}#sk-container-id-3 div.sk-label:hover label.sk-toggleable__label {background-color: #d4ebff;}#sk-container-id-3 div.sk-serial::before {content: \"\";position: absolute;border-left: 1px solid gray;box-sizing: border-box;top: 0;bottom: 0;left: 50%;z-index: 0;}#sk-container-id-3 div.sk-serial {display: flex;flex-direction: column;align-items: center;background-color: white;padding-right: 0.2em;padding-left: 0.2em;position: relative;}#sk-container-id-3 div.sk-item {position: relative;z-index: 1;}#sk-container-id-3 div.sk-parallel {display: flex;align-items: stretch;justify-content: center;background-color: white;position: relative;}#sk-container-id-3 div.sk-item::before, #sk-container-id-3 div.sk-parallel-item::before {content: \"\";position: absolute;border-left: 1px solid gray;box-sizing: border-box;top: 0;bottom: 0;left: 50%;z-index: -1;}#sk-container-id-3 div.sk-parallel-item {display: flex;flex-direction: column;z-index: 1;position: relative;background-color: white;}#sk-container-id-3 div.sk-parallel-item:first-child::after {align-self: flex-end;width: 50%;}#sk-container-id-3 div.sk-parallel-item:last-child::after {align-self: flex-start;width: 50%;}#sk-container-id-3 div.sk-parallel-item:only-child::after {width: 0;}#sk-container-id-3 div.sk-dashed-wrapped {border: 1px dashed gray;margin: 0 0.4em 0.5em 0.4em;box-sizing: border-box;padding-bottom: 0.4em;background-color: white;}#sk-container-id-3 div.sk-label label {font-family: monospace;font-weight: bold;display: inline-block;line-height: 1.2em;}#sk-container-id-3 div.sk-label-container {text-align: center;}#sk-container-id-3 div.sk-container {/* jupyter's `normalize.less` sets `[hidden] { display: none; }` but bootstrap.min.css set `[hidden] { display: none !important; }` so we also need the `!important` here to be able to override the default hidden behavior on the sphinx rendered scikit-learn.org. See: https://github.com/scikit-learn/scikit-learn/issues/21755 */display: inline-block !important;position: relative;}#sk-container-id-3 div.sk-text-repr-fallback {display: none;}</style><div id=\"sk-container-id-3\" class=\"sk-top-container\"><div class=\"sk-text-repr-fallback\"><pre>RandomForestClassifier(n_estimators=128)</pre><b>In a Jupyter environment, please rerun this cell to show the HTML representation or trust the notebook. <br />On GitHub, the HTML representation is unable to render, please try loading this page with nbviewer.org.</b></div><div class=\"sk-container\" hidden><div class=\"sk-item\"><div class=\"sk-estimator sk-toggleable\"><input class=\"sk-toggleable__control sk-hidden--visually\" id=\"sk-estimator-id-3\" type=\"checkbox\" checked><label for=\"sk-estimator-id-3\" class=\"sk-toggleable__label sk-toggleable__label-arrow\">RandomForestClassifier</label><div class=\"sk-toggleable__content\"><pre>RandomForestClassifier(n_estimators=128)</pre></div></div></div></div></div>"
      ],
      "text/plain": [
       "RandomForestClassifier(n_estimators=128)"
      ]
     },
     "execution_count": 30,
     "metadata": {},
     "output_type": "execute_result"
    }
   ],
   "source": [
    "# Create and fit RandomForestClassifier\n",
    "rfc = RandomForestClassifier(n_estimators=128)\n",
    "rfc.fit(X_train_scaled, y_train)"
   ]
  },
  {
   "cell_type": "code",
   "execution_count": 31,
   "id": "f4151daf",
   "metadata": {},
   "outputs": [
    {
     "name": "stdout",
     "output_type": "stream",
     "text": [
      "0.8649157627900481\n"
     ]
    }
   ],
   "source": [
    "# Make predictions\n",
    "predictions = rfc.predict(X_test_scaled)\n",
    "\n",
    "# Calculating the accuracy score.\n",
    "acc_score = accuracy_score(y_test, predictions)\n",
    "print(acc_score)"
   ]
  },
  {
   "cell_type": "code",
   "execution_count": 32,
   "id": "3ce0d206",
   "metadata": {},
   "outputs": [
    {
     "name": "stdout",
     "output_type": "stream",
     "text": [
      "[[198480   3936]\n",
      " [ 27984   5897]]\n",
      "              precision    recall  f1-score   support\n",
      "\n",
      "           0       0.88      0.98      0.93    202416\n",
      "           1       0.60      0.17      0.27     33881\n",
      "\n",
      "    accuracy                           0.86    236297\n",
      "   macro avg       0.74      0.58      0.60    236297\n",
      "weighted avg       0.84      0.86      0.83    236297\n",
      "\n"
     ]
    }
   ],
   "source": [
    "print(confusion_matrix(y_test, predictions))\n",
    "print(classification_report(y_test,predictions))"
   ]
  },
  {
   "cell_type": "code",
   "execution_count": 33,
   "id": "5adb367d",
   "metadata": {},
   "outputs": [
    {
     "data": {
      "text/plain": [
       "array([0.05327631, 0.03696604, 0.02994474, 0.03298083, 0.00646291,\n",
       "       0.01544856, 0.00919794, 0.01604085, 0.04187935, 0.02923621,\n",
       "       0.0113635 , 0.01215736, 0.00821025, 0.008397  , 0.01038264,\n",
       "       0.01003041, 0.01825561, 0.01292133, 0.00929905, 0.01434072,\n",
       "       0.0325775 , 0.03644093, 0.01780415, 0.0370034 , 0.01409157,\n",
       "       0.02097313, 0.00624015, 0.02632955, 0.01922885, 0.01202972,\n",
       "       0.01144123, 0.00200713, 0.00180799, 0.00236236, 0.00260388,\n",
       "       0.00223194, 0.00155554, 0.00151449, 0.00152818, 0.00135286,\n",
       "       0.00134904, 0.02257089, 0.03361409, 0.13184461, 0.07739692,\n",
       "       0.09530828])"
      ]
     },
     "execution_count": 33,
     "metadata": {},
     "output_type": "execute_result"
    }
   ],
   "source": [
    "# Calculate Feature importances\n",
    "rfc.feature_importances_"
   ]
  },
  {
   "cell_type": "code",
   "execution_count": 34,
   "id": "a6602f7b",
   "metadata": {},
   "outputs": [
    {
     "data": {
      "text/plain": [
       "(<AxesSubplot:>,)"
      ]
     },
     "execution_count": 34,
     "metadata": {},
     "output_type": "execute_result"
    },
    {
     "data": {
      "image/png": "[encoded data removed]",
      "text/plain": [
       "<Figure size 1600x1600 with 1 Axes>"
      ]
     },
     "metadata": {},
     "output_type": "display_data"
    }
   ],
   "source": [
    "# Plot importances\n",
    "(pd.Series(rfc.feature_importances_, index=X.columns,).plot(kind='bar', figsize=(16,16)), )"
   ]
  },
  {
   "cell_type": "code",
   "execution_count": 35,
   "id": "564d2b76",
   "metadata": {},
   "outputs": [
    {
     "data": {
      "text/html": [
       "<div>\n",
       "<style scoped>\n",
       "    .dataframe tbody tr th:only-of-type {\n",
       "        vertical-align: middle;\n",
       "    }\n",
       "\n",
       "    .dataframe tbody tr th {\n",
       "        vertical-align: top;\n",
       "    }\n",
       "\n",
       "    .dataframe thead th {\n",
       "        text-align: right;\n",
       "    }\n",
       "</style>\n",
       "<table border=\"1\" class=\"dataframe\">\n",
       "  <thead>\n",
       "    <tr style=\"text-align: right;\">\n",
       "      <th></th>\n",
       "      <th>importance</th>\n",
       "    </tr>\n",
       "  </thead>\n",
       "  <tbody>\n",
       "    <tr>\n",
       "      <th>_bmi5</th>\n",
       "      <td>0.131845</td>\n",
       "    </tr>\n",
       "    <tr>\n",
       "      <th>_vegesum</th>\n",
       "      <td>0.095308</td>\n",
       "    </tr>\n",
       "    <tr>\n",
       "      <th>_frutsum</th>\n",
       "      <td>0.077397</td>\n",
       "    </tr>\n",
       "    <tr>\n",
       "      <th>genhlth</th>\n",
       "      <td>0.053276</td>\n",
       "    </tr>\n",
       "    <tr>\n",
       "      <th>bphigh4</th>\n",
       "      <td>0.041879</td>\n",
       "    </tr>\n",
       "  </tbody>\n",
       "</table>\n",
       "</div>"
      ],
      "text/plain": [
       "          importance\n",
       "_bmi5       0.131845\n",
       "_vegesum    0.095308\n",
       "_frutsum    0.077397\n",
       "genhlth     0.053276\n",
       "bphigh4     0.041879"
      ]
     },
     "execution_count": 35,
     "metadata": {},
     "output_type": "execute_result"
    }
   ],
   "source": [
    "# Based on above importances, reduce the Features to the top 20 most imporantant\n",
    "\n",
    "index_values = X.columns.to_list()\n",
    "column_values = [\"importance\"]\n",
    "importances = pd.DataFrame(data = rfc.feature_importances_, \n",
    "                  index = index_values, \n",
    "                  columns = column_values)\n",
    "\n",
    "importances.sort_values('importance', ascending = False, inplace= True)\n",
    "importances.head()"
   ]
  },
  {
   "cell_type": "code",
   "execution_count": 36,
   "id": "e400cf49",
   "metadata": {},
   "outputs": [
    {
     "data": {
      "text/html": [
       "<div>\n",
       "<style scoped>\n",
       "    .dataframe tbody tr th:only-of-type {\n",
       "        vertical-align: middle;\n",
       "    }\n",
       "\n",
       "    .dataframe tbody tr th {\n",
       "        vertical-align: top;\n",
       "    }\n",
       "\n",
       "    .dataframe thead th {\n",
       "        text-align: right;\n",
       "    }\n",
       "</style>\n",
       "<table border=\"1\" class=\"dataframe\">\n",
       "  <thead>\n",
       "    <tr style=\"text-align: right;\">\n",
       "      <th></th>\n",
       "      <th>importance</th>\n",
       "    </tr>\n",
       "  </thead>\n",
       "  <tbody>\n",
       "    <tr>\n",
       "      <th>_bmi5</th>\n",
       "      <td>0.131845</td>\n",
       "    </tr>\n",
       "    <tr>\n",
       "      <th>_vegesum</th>\n",
       "      <td>0.095308</td>\n",
       "    </tr>\n",
       "    <tr>\n",
       "      <th>_frutsum</th>\n",
       "      <td>0.077397</td>\n",
       "    </tr>\n",
       "    <tr>\n",
       "      <th>genhlth</th>\n",
       "      <td>0.053276</td>\n",
       "    </tr>\n",
       "    <tr>\n",
       "      <th>bphigh4</th>\n",
       "      <td>0.041879</td>\n",
       "    </tr>\n",
       "    <tr>\n",
       "      <th>employ1</th>\n",
       "      <td>0.037003</td>\n",
       "    </tr>\n",
       "    <tr>\n",
       "      <th>physhlth</th>\n",
       "      <td>0.036966</td>\n",
       "    </tr>\n",
       "    <tr>\n",
       "      <th>educa</th>\n",
       "      <td>0.036441</td>\n",
       "    </tr>\n",
       "    <tr>\n",
       "      <th>_age_g</th>\n",
       "      <td>0.033614</td>\n",
       "    </tr>\n",
       "    <tr>\n",
       "      <th>poorhlth</th>\n",
       "      <td>0.032981</td>\n",
       "    </tr>\n",
       "    <tr>\n",
       "      <th>marital</th>\n",
       "      <td>0.032577</td>\n",
       "    </tr>\n",
       "    <tr>\n",
       "      <th>menthlth</th>\n",
       "      <td>0.029945</td>\n",
       "    </tr>\n",
       "    <tr>\n",
       "      <th>toldhi2</th>\n",
       "      <td>0.029236</td>\n",
       "    </tr>\n",
       "    <tr>\n",
       "      <th>avedrnk2</th>\n",
       "      <td>0.026330</td>\n",
       "    </tr>\n",
       "    <tr>\n",
       "      <th>_race</th>\n",
       "      <td>0.022571</td>\n",
       "    </tr>\n",
       "    <tr>\n",
       "      <th>smokday2</th>\n",
       "      <td>0.020973</td>\n",
       "    </tr>\n",
       "    <tr>\n",
       "      <th>exerany2</th>\n",
       "      <td>0.019229</td>\n",
       "    </tr>\n",
       "    <tr>\n",
       "      <th>havarth3</th>\n",
       "      <td>0.018256</td>\n",
       "    </tr>\n",
       "    <tr>\n",
       "      <th>renthom1</th>\n",
       "      <td>0.017804</td>\n",
       "    </tr>\n",
       "    <tr>\n",
       "      <th>checkup1</th>\n",
       "      <td>0.016041</td>\n",
       "    </tr>\n",
       "  </tbody>\n",
       "</table>\n",
       "</div>"
      ],
      "text/plain": [
       "          importance\n",
       "_bmi5       0.131845\n",
       "_vegesum    0.095308\n",
       "_frutsum    0.077397\n",
       "genhlth     0.053276\n",
       "bphigh4     0.041879\n",
       "employ1     0.037003\n",
       "physhlth    0.036966\n",
       "educa       0.036441\n",
       "_age_g      0.033614\n",
       "poorhlth    0.032981\n",
       "marital     0.032577\n",
       "menthlth    0.029945\n",
       "toldhi2     0.029236\n",
       "avedrnk2    0.026330\n",
       "_race       0.022571\n",
       "smokday2    0.020973\n",
       "exerany2    0.019229\n",
       "havarth3    0.018256\n",
       "renthom1    0.017804\n",
       "checkup1    0.016041"
      ]
     },
     "execution_count": 36,
     "metadata": {},
     "output_type": "execute_result"
    }
   ],
   "source": [
    "top_20 = importances[0:20]\n",
    "top_20"
   ]
  },
  {
   "cell_type": "code",
   "execution_count": 37,
   "id": "e56b0cba",
   "metadata": {},
   "outputs": [
    {
     "data": {
      "text/html": [
       "<div>\n",
       "<style scoped>\n",
       "    .dataframe tbody tr th:only-of-type {\n",
       "        vertical-align: middle;\n",
       "    }\n",
       "\n",
       "    .dataframe tbody tr th {\n",
       "        vertical-align: top;\n",
       "    }\n",
       "\n",
       "    .dataframe thead th {\n",
       "        text-align: right;\n",
       "    }\n",
       "</style>\n",
       "<table border=\"1\" class=\"dataframe\">\n",
       "  <thead>\n",
       "    <tr style=\"text-align: right;\">\n",
       "      <th></th>\n",
       "      <th>importance</th>\n",
       "    </tr>\n",
       "  </thead>\n",
       "  <tbody>\n",
       "    <tr>\n",
       "      <th>persdoc2</th>\n",
       "      <td>0.015449</td>\n",
       "    </tr>\n",
       "    <tr>\n",
       "      <th>sex</th>\n",
       "      <td>0.014341</td>\n",
       "    </tr>\n",
       "    <tr>\n",
       "      <th>smoke100</th>\n",
       "      <td>0.014092</td>\n",
       "    </tr>\n",
       "    <tr>\n",
       "      <th>addepev2</th>\n",
       "      <td>0.012921</td>\n",
       "    </tr>\n",
       "    <tr>\n",
       "      <th>cvdcrhd4</th>\n",
       "      <td>0.012157</td>\n",
       "    </tr>\n",
       "    <tr>\n",
       "      <th>scntmny1</th>\n",
       "      <td>0.012030</td>\n",
       "    </tr>\n",
       "    <tr>\n",
       "      <th>scntmel1</th>\n",
       "      <td>0.011441</td>\n",
       "    </tr>\n",
       "    <tr>\n",
       "      <th>cvdinfr4</th>\n",
       "      <td>0.011363</td>\n",
       "    </tr>\n",
       "    <tr>\n",
       "      <th>asthnow</th>\n",
       "      <td>0.010383</td>\n",
       "    </tr>\n",
       "    <tr>\n",
       "      <th>chccopd1</th>\n",
       "      <td>0.010030</td>\n",
       "    </tr>\n",
       "    <tr>\n",
       "      <th>chckidny</th>\n",
       "      <td>0.009299</td>\n",
       "    </tr>\n",
       "    <tr>\n",
       "      <th>medcost</th>\n",
       "      <td>0.009198</td>\n",
       "    </tr>\n",
       "    <tr>\n",
       "      <th>asthma3</th>\n",
       "      <td>0.008397</td>\n",
       "    </tr>\n",
       "    <tr>\n",
       "      <th>cvdstrk3</th>\n",
       "      <td>0.008210</td>\n",
       "    </tr>\n",
       "    <tr>\n",
       "      <th>hlthpln1</th>\n",
       "      <td>0.006463</td>\n",
       "    </tr>\n",
       "    <tr>\n",
       "      <th>usenow3</th>\n",
       "      <td>0.006240</td>\n",
       "    </tr>\n",
       "    <tr>\n",
       "      <th>adenergy</th>\n",
       "      <td>0.002604</td>\n",
       "    </tr>\n",
       "    <tr>\n",
       "      <th>adsleep</th>\n",
       "      <td>0.002362</td>\n",
       "    </tr>\n",
       "    <tr>\n",
       "      <th>adeat1</th>\n",
       "      <td>0.002232</td>\n",
       "    </tr>\n",
       "    <tr>\n",
       "      <th>adpleasr</th>\n",
       "      <td>0.002007</td>\n",
       "    </tr>\n",
       "    <tr>\n",
       "      <th>addown</th>\n",
       "      <td>0.001808</td>\n",
       "    </tr>\n",
       "    <tr>\n",
       "      <th>adfail</th>\n",
       "      <td>0.001556</td>\n",
       "    </tr>\n",
       "    <tr>\n",
       "      <th>admove</th>\n",
       "      <td>0.001528</td>\n",
       "    </tr>\n",
       "    <tr>\n",
       "      <th>adthink</th>\n",
       "      <td>0.001514</td>\n",
       "    </tr>\n",
       "    <tr>\n",
       "      <th>mistmnt</th>\n",
       "      <td>0.001353</td>\n",
       "    </tr>\n",
       "    <tr>\n",
       "      <th>adanxev</th>\n",
       "      <td>0.001349</td>\n",
       "    </tr>\n",
       "  </tbody>\n",
       "</table>\n",
       "</div>"
      ],
      "text/plain": [
       "          importance\n",
       "persdoc2    0.015449\n",
       "sex         0.014341\n",
       "smoke100    0.014092\n",
       "addepev2    0.012921\n",
       "cvdcrhd4    0.012157\n",
       "scntmny1    0.012030\n",
       "scntmel1    0.011441\n",
       "cvdinfr4    0.011363\n",
       "asthnow     0.010383\n",
       "chccopd1    0.010030\n",
       "chckidny    0.009299\n",
       "medcost     0.009198\n",
       "asthma3     0.008397\n",
       "cvdstrk3    0.008210\n",
       "hlthpln1    0.006463\n",
       "usenow3     0.006240\n",
       "adenergy    0.002604\n",
       "adsleep     0.002362\n",
       "adeat1      0.002232\n",
       "adpleasr    0.002007\n",
       "addown      0.001808\n",
       "adfail      0.001556\n",
       "admove      0.001528\n",
       "adthink     0.001514\n",
       "mistmnt     0.001353\n",
       "adanxev     0.001349"
      ]
     },
     "execution_count": 37,
     "metadata": {},
     "output_type": "execute_result"
    }
   ],
   "source": [
    "cut = importances[20:]\n",
    "cut"
   ]
  },
  {
   "cell_type": "code",
   "execution_count": 38,
   "id": "1ceade24",
   "metadata": {},
   "outputs": [
    {
     "data": {
      "text/plain": [
       "['persdoc2',\n",
       " 'sex',\n",
       " 'smoke100',\n",
       " 'addepev2',\n",
       " 'cvdcrhd4',\n",
       " 'scntmny1',\n",
       " 'scntmel1',\n",
       " 'cvdinfr4',\n",
       " 'asthnow',\n",
       " 'chccopd1',\n",
       " 'chckidny',\n",
       " 'medcost',\n",
       " 'asthma3',\n",
       " 'cvdstrk3',\n",
       " 'hlthpln1',\n",
       " 'usenow3',\n",
       " 'adenergy',\n",
       " 'adsleep',\n",
       " 'adeat1',\n",
       " 'adpleasr',\n",
       " 'addown',\n",
       " 'adfail',\n",
       " 'admove',\n",
       " 'adthink',\n",
       " 'mistmnt',\n",
       " 'adanxev']"
      ]
     },
     "execution_count": 38,
     "metadata": {},
     "output_type": "execute_result"
    }
   ],
   "source": [
    "to_cut = cut.index.to_list()\n",
    "to_cut"
   ]
  },
  {
   "cell_type": "code",
   "execution_count": 39,
   "id": "b1dac6d4",
   "metadata": {},
   "outputs": [
    {
     "data": {
      "text/html": [
       "<div>\n",
       "<style scoped>\n",
       "    .dataframe tbody tr th:only-of-type {\n",
       "        vertical-align: middle;\n",
       "    }\n",
       "\n",
       "    .dataframe tbody tr th {\n",
       "        vertical-align: top;\n",
       "    }\n",
       "\n",
       "    .dataframe thead th {\n",
       "        text-align: right;\n",
       "    }\n",
       "</style>\n",
       "<table border=\"1\" class=\"dataframe\">\n",
       "  <thead>\n",
       "    <tr style=\"text-align: right;\">\n",
       "      <th></th>\n",
       "      <th>genhlth</th>\n",
       "      <th>physhlth</th>\n",
       "      <th>menthlth</th>\n",
       "      <th>poorhlth</th>\n",
       "      <th>checkup1</th>\n",
       "      <th>bphigh4</th>\n",
       "      <th>toldhi2</th>\n",
       "      <th>havarth3</th>\n",
       "      <th>marital</th>\n",
       "      <th>educa</th>\n",
       "      <th>renthom1</th>\n",
       "      <th>employ1</th>\n",
       "      <th>smokday2</th>\n",
       "      <th>avedrnk2</th>\n",
       "      <th>exerany2</th>\n",
       "      <th>_race</th>\n",
       "      <th>_age_g</th>\n",
       "      <th>_bmi5</th>\n",
       "      <th>_frutsum</th>\n",
       "      <th>_vegesum</th>\n",
       "    </tr>\n",
       "  </thead>\n",
       "  <tbody>\n",
       "    <tr>\n",
       "      <th>0</th>\n",
       "      <td>5.0</td>\n",
       "      <td>15.0</td>\n",
       "      <td>18</td>\n",
       "      <td>10.0</td>\n",
       "      <td>1.0</td>\n",
       "      <td>1.0</td>\n",
       "      <td>1.0</td>\n",
       "      <td>1.0</td>\n",
       "      <td>1.0</td>\n",
       "      <td>4.0</td>\n",
       "      <td>1.0</td>\n",
       "      <td>8.0</td>\n",
       "      <td>3.0</td>\n",
       "      <td>100.0</td>\n",
       "      <td>2.0</td>\n",
       "      <td>1.0</td>\n",
       "      <td>5</td>\n",
       "      <td>4018.0</td>\n",
       "      <td>50.0</td>\n",
       "      <td>217.0</td>\n",
       "    </tr>\n",
       "    <tr>\n",
       "      <th>1</th>\n",
       "      <td>3.0</td>\n",
       "      <td>88.0</td>\n",
       "      <td>88</td>\n",
       "      <td>100.0</td>\n",
       "      <td>4.0</td>\n",
       "      <td>3.0</td>\n",
       "      <td>2.0</td>\n",
       "      <td>2.0</td>\n",
       "      <td>2.0</td>\n",
       "      <td>6.0</td>\n",
       "      <td>1.0</td>\n",
       "      <td>3.0</td>\n",
       "      <td>1.0</td>\n",
       "      <td>100.0</td>\n",
       "      <td>1.0</td>\n",
       "      <td>1.0</td>\n",
       "      <td>4</td>\n",
       "      <td>2509.0</td>\n",
       "      <td>24.0</td>\n",
       "      <td>78.0</td>\n",
       "    </tr>\n",
       "    <tr>\n",
       "      <th>2</th>\n",
       "      <td>4.0</td>\n",
       "      <td>15.0</td>\n",
       "      <td>88</td>\n",
       "      <td>88.0</td>\n",
       "      <td>1.0</td>\n",
       "      <td>3.0</td>\n",
       "      <td>1.0</td>\n",
       "      <td>1.0</td>\n",
       "      <td>2.0</td>\n",
       "      <td>4.0</td>\n",
       "      <td>1.0</td>\n",
       "      <td>7.0</td>\n",
       "      <td>100.0</td>\n",
       "      <td>100.0</td>\n",
       "      <td>100.0</td>\n",
       "      <td>1.0</td>\n",
       "      <td>6</td>\n",
       "      <td>2204.0</td>\n",
       "      <td>100.0</td>\n",
       "      <td>100.0</td>\n",
       "    </tr>\n",
       "    <tr>\n",
       "      <th>3</th>\n",
       "      <td>5.0</td>\n",
       "      <td>30.0</td>\n",
       "      <td>30</td>\n",
       "      <td>30.0</td>\n",
       "      <td>1.0</td>\n",
       "      <td>1.0</td>\n",
       "      <td>1.0</td>\n",
       "      <td>1.0</td>\n",
       "      <td>1.0</td>\n",
       "      <td>4.0</td>\n",
       "      <td>1.0</td>\n",
       "      <td>8.0</td>\n",
       "      <td>100.0</td>\n",
       "      <td>100.0</td>\n",
       "      <td>2.0</td>\n",
       "      <td>1.0</td>\n",
       "      <td>5</td>\n",
       "      <td>2819.0</td>\n",
       "      <td>100.0</td>\n",
       "      <td>20.0</td>\n",
       "    </tr>\n",
       "    <tr>\n",
       "      <th>4</th>\n",
       "      <td>5.0</td>\n",
       "      <td>20.0</td>\n",
       "      <td>88</td>\n",
       "      <td>30.0</td>\n",
       "      <td>1.0</td>\n",
       "      <td>3.0</td>\n",
       "      <td>2.0</td>\n",
       "      <td>1.0</td>\n",
       "      <td>1.0</td>\n",
       "      <td>5.0</td>\n",
       "      <td>1.0</td>\n",
       "      <td>8.0</td>\n",
       "      <td>100.0</td>\n",
       "      <td>100.0</td>\n",
       "      <td>2.0</td>\n",
       "      <td>1.0</td>\n",
       "      <td>5</td>\n",
       "      <td>2437.0</td>\n",
       "      <td>100.0</td>\n",
       "      <td>200.0</td>\n",
       "    </tr>\n",
       "  </tbody>\n",
       "</table>\n",
       "</div>"
      ],
      "text/plain": [
       "   genhlth  physhlth  menthlth  poorhlth  checkup1  bphigh4  toldhi2  \\\n",
       "0      5.0      15.0        18      10.0       1.0      1.0      1.0   \n",
       "1      3.0      88.0        88     100.0       4.0      3.0      2.0   \n",
       "2      4.0      15.0        88      88.0       1.0      3.0      1.0   \n",
       "3      5.0      30.0        30      30.0       1.0      1.0      1.0   \n",
       "4      5.0      20.0        88      30.0       1.0      3.0      2.0   \n",
       "\n",
       "   havarth3  marital  educa  renthom1  employ1  smokday2  avedrnk2  exerany2  \\\n",
       "0       1.0      1.0    4.0       1.0      8.0       3.0     100.0       2.0   \n",
       "1       2.0      2.0    6.0       1.0      3.0       1.0     100.0       1.0   \n",
       "2       1.0      2.0    4.0       1.0      7.0     100.0     100.0     100.0   \n",
       "3       1.0      1.0    4.0       1.0      8.0     100.0     100.0       2.0   \n",
       "4       1.0      1.0    5.0       1.0      8.0     100.0     100.0       2.0   \n",
       "\n",
       "   _race  _age_g   _bmi5  _frutsum  _vegesum  \n",
       "0    1.0       5  4018.0      50.0     217.0  \n",
       "1    1.0       4  2509.0      24.0      78.0  \n",
       "2    1.0       6  2204.0     100.0     100.0  \n",
       "3    1.0       5  2819.0     100.0      20.0  \n",
       "4    1.0       5  2437.0     100.0     200.0  "
      ]
     },
     "execution_count": 39,
     "metadata": {},
     "output_type": "execute_result"
    }
   ],
   "source": [
    "# Create new X data with only important columns\n",
    "\n",
    "X = X.drop(columns=to_cut)\n",
    "X.head()"
   ]
  },
  {
   "cell_type": "code",
   "execution_count": 41,
   "id": "65939279",
   "metadata": {},
   "outputs": [
    {
     "data": {
      "text/plain": [
       "Counter({0: 607269, 1: 101622})"
      ]
     },
     "execution_count": 41,
     "metadata": {},
     "output_type": "execute_result"
    }
   ],
   "source": [
    "# Re-run model\n",
    "\n",
    "# Split into training and testing data sets\n",
    "X_train, X_test, y_train, y_test = train_test_split(X,y)\n",
    "\n",
    "Counter(y_train)"
   ]
  },
  {
   "cell_type": "code",
   "execution_count": 42,
   "id": "fcd421b3",
   "metadata": {},
   "outputs": [],
   "source": [
    "# Scale the data\n",
    "\n",
    "scaler = StandardScaler()\n",
    "# Fitting the Standard Scaler with the training data.\n",
    "X_scaler = scaler.fit(X_train)\n",
    "\n",
    "# Scaling the data.\n",
    "X_train_scaled = X_scaler.transform(X_train)\n",
    "X_test_scaled = X_scaler.transform(X_test)"
   ]
  },
  {
   "cell_type": "code",
   "execution_count": 43,
   "id": "229e8e68",
   "metadata": {},
   "outputs": [
    {
     "data": {
      "text/html": [
       "<style>#sk-container-id-4 {color: black;background-color: white;}#sk-container-id-4 pre{padding: 0;}#sk-container-id-4 div.sk-toggleable {background-color: white;}#sk-container-id-4 label.sk-toggleable__label {cursor: pointer;display: block;width: 100%;margin-bottom: 0;padding: 0.3em;box-sizing: border-box;text-align: center;}#sk-container-id-4 label.sk-toggleable__label-arrow:before {content: \"▸\";float: left;margin-right: 0.25em;color: #696969;}#sk-container-id-4 label.sk-toggleable__label-arrow:hover:before {color: black;}#sk-container-id-4 div.sk-estimator:hover label.sk-toggleable__label-arrow:before {color: black;}#sk-container-id-4 div.sk-toggleable__content {max-height: 0;max-width: 0;overflow: hidden;text-align: left;background-color: #f0f8ff;}#sk-container-id-4 div.sk-toggleable__content pre {margin: 0.2em;color: black;border-radius: 0.25em;background-color: #f0f8ff;}#sk-container-id-4 input.sk-toggleable__control:checked~div.sk-toggleable__content {max-height: 200px;max-width: 100%;overflow: auto;}#sk-container-id-4 input.sk-toggleable__control:checked~label.sk-toggleable__label-arrow:before {content: \"▾\";}#sk-container-id-4 div.sk-estimator input.sk-toggleable__control:checked~label.sk-toggleable__label {background-color: #d4ebff;}#sk-container-id-4 div.sk-label input.sk-toggleable__control:checked~label.sk-toggleable__label {background-color: #d4ebff;}#sk-container-id-4 input.sk-hidden--visually {border: 0;clip: rect(1px 1px 1px 1px);clip: rect(1px, 1px, 1px, 1px);height: 1px;margin: -1px;overflow: hidden;padding: 0;position: absolute;width: 1px;}#sk-container-id-4 div.sk-estimator {font-family: monospace;background-color: #f0f8ff;border: 1px dotted black;border-radius: 0.25em;box-sizing: border-box;margin-bottom: 0.5em;}#sk-container-id-4 div.sk-estimator:hover {background-color: #d4ebff;}#sk-container-id-4 div.sk-parallel-item::after {content: \"\";width: 100%;border-bottom: 1px solid gray;flex-grow: 1;}#sk-container-id-4 div.sk-label:hover label.sk-toggleable__label {background-color: #d4ebff;}#sk-container-id-4 div.sk-serial::before {content: \"\";position: absolute;border-left: 1px solid gray;box-sizing: border-box;top: 0;bottom: 0;left: 50%;z-index: 0;}#sk-container-id-4 div.sk-serial {display: flex;flex-direction: column;align-items: center;background-color: white;padding-right: 0.2em;padding-left: 0.2em;position: relative;}#sk-container-id-4 div.sk-item {position: relative;z-index: 1;}#sk-container-id-4 div.sk-parallel {display: flex;align-items: stretch;justify-content: center;background-color: white;position: relative;}#sk-container-id-4 div.sk-item::before, #sk-container-id-4 div.sk-parallel-item::before {content: \"\";position: absolute;border-left: 1px solid gray;box-sizing: border-box;top: 0;bottom: 0;left: 50%;z-index: -1;}#sk-container-id-4 div.sk-parallel-item {display: flex;flex-direction: column;z-index: 1;position: relative;background-color: white;}#sk-container-id-4 div.sk-parallel-item:first-child::after {align-self: flex-end;width: 50%;}#sk-container-id-4 div.sk-parallel-item:last-child::after {align-self: flex-start;width: 50%;}#sk-container-id-4 div.sk-parallel-item:only-child::after {width: 0;}#sk-container-id-4 div.sk-dashed-wrapped {border: 1px dashed gray;margin: 0 0.4em 0.5em 0.4em;box-sizing: border-box;padding-bottom: 0.4em;background-color: white;}#sk-container-id-4 div.sk-label label {font-family: monospace;font-weight: bold;display: inline-block;line-height: 1.2em;}#sk-container-id-4 div.sk-label-container {text-align: center;}#sk-container-id-4 div.sk-container {/* jupyter's `normalize.less` sets `[hidden] { display: none; }` but bootstrap.min.css set `[hidden] { display: none !important; }` so we also need the `!important` here to be able to override the default hidden behavior on the sphinx rendered scikit-learn.org. See: https://github.com/scikit-learn/scikit-learn/issues/21755 */display: inline-block !important;position: relative;}#sk-container-id-4 div.sk-text-repr-fallback {display: none;}</style><div id=\"sk-container-id-4\" class=\"sk-top-container\"><div class=\"sk-text-repr-fallback\"><pre>RandomForestClassifier(n_estimators=128)</pre><b>In a Jupyter environment, please rerun this cell to show the HTML representation or trust the notebook. <br />On GitHub, the HTML representation is unable to render, please try loading this page with nbviewer.org.</b></div><div class=\"sk-container\" hidden><div class=\"sk-item\"><div class=\"sk-estimator sk-toggleable\"><input class=\"sk-toggleable__control sk-hidden--visually\" id=\"sk-estimator-id-4\" type=\"checkbox\" checked><label for=\"sk-estimator-id-4\" class=\"sk-toggleable__label sk-toggleable__label-arrow\">RandomForestClassifier</label><div class=\"sk-toggleable__content\"><pre>RandomForestClassifier(n_estimators=128)</pre></div></div></div></div></div>"
      ],
      "text/plain": [
       "RandomForestClassifier(n_estimators=128)"
      ]
     },
     "execution_count": 43,
     "metadata": {},
     "output_type": "execute_result"
    }
   ],
   "source": [
    "# Create and fit RandomForestClassifier\n",
    "rfc = RandomForestClassifier(n_estimators=128)\n",
    "rfc.fit(X_train_scaled, y_train)"
   ]
  },
  {
   "cell_type": "code",
   "execution_count": 44,
   "id": "e1c31987",
   "metadata": {},
   "outputs": [
    {
     "name": "stdout",
     "output_type": "stream",
     "text": [
      "0.8626897506104606\n"
     ]
    }
   ],
   "source": [
    "# Make predictions\n",
    "predictions = rfc.predict(X_test_scaled)\n",
    "\n",
    "# Calculating the accuracy score.\n",
    "acc_score = accuracy_score(y_test, predictions)\n",
    "print(acc_score)"
   ]
  },
  {
   "cell_type": "code",
   "execution_count": 45,
   "id": "f087b3bb",
   "metadata": {},
   "outputs": [
    {
     "name": "stdout",
     "output_type": "stream",
     "text": [
      "[[197444   4889]\n",
      " [ 27557   6407]]\n",
      "              precision    recall  f1-score   support\n",
      "\n",
      "           0       0.88      0.98      0.92    202333\n",
      "           1       0.57      0.19      0.28     33964\n",
      "\n",
      "    accuracy                           0.86    236297\n",
      "   macro avg       0.72      0.58      0.60    236297\n",
      "weighted avg       0.83      0.86      0.83    236297\n",
      "\n"
     ]
    }
   ],
   "source": [
    "print(confusion_matrix(y_test, predictions))\n",
    "print(classification_report(y_test,predictions))"
   ]
  },
  {
   "cell_type": "code",
   "execution_count": 46,
   "id": "6cd8a73a",
   "metadata": {},
   "outputs": [],
   "source": [
    "# Simplified set of 20 features performs as well in the random forest classifier as the original 53 columns."
   ]
  },
  {
   "cell_type": "code",
   "execution_count": 47,
   "id": "cfd85222",
   "metadata": {},
   "outputs": [],
   "source": [
    "# For segment 3:\n",
    "# Review other machine learning models; can we further downselect features?\n",
    "# Right now, even if we re-run and re-run the jupyter notebook, the top 20 features remain constant even if we look at 2011 data instead of 2015\n",
    "# At what number of features does that not remain true?"
   ]
  },
  {
   "cell_type": "code",
   "execution_count": 48,
   "id": "3fc343c3",
   "metadata": {},
   "outputs": [
    {
     "data": {
      "text/plain": [
       "array([0.05926348, 0.04609367, 0.03844258, 0.04065432, 0.01838772,\n",
       "       0.04626706, 0.0329907 , 0.02067916, 0.04042973, 0.04542925,\n",
       "       0.02153165, 0.04094692, 0.03209573, 0.02954962, 0.02457318,\n",
       "       0.02629511, 0.03691264, 0.16737203, 0.10201734, 0.13006812])"
      ]
     },
     "execution_count": 48,
     "metadata": {},
     "output_type": "execute_result"
    }
   ],
   "source": [
    "# Calculate Feature importances\n",
    "rfc.feature_importances_"
   ]
  },
  {
   "cell_type": "code",
   "execution_count": 49,
   "id": "cdf7c0ca",
   "metadata": {},
   "outputs": [
    {
     "data": {
      "text/plain": [
       "(<AxesSubplot:>,)"
      ]
     },
     "execution_count": 49,
     "metadata": {},
     "output_type": "execute_result"
    },
    {
     "data": {
      "image/png": "[encoded data removed]",
      "text/plain": [
       "<Figure size 1600x1600 with 1 Axes>"
      ]
     },
     "metadata": {},
     "output_type": "display_data"
    }
   ],
   "source": [
    "# Plot importances\n",
    "(pd.Series(rfc.feature_importances_, index=X.columns,).plot(kind='bar', figsize=(16,16)), )"
   ]
  },
  {
   "cell_type": "code",
   "execution_count": 50,
   "id": "5ff718ad",
   "metadata": {},
   "outputs": [
    {
     "data": {
      "text/html": [
       "<div>\n",
       "<style scoped>\n",
       "    .dataframe tbody tr th:only-of-type {\n",
       "        vertical-align: middle;\n",
       "    }\n",
       "\n",
       "    .dataframe tbody tr th {\n",
       "        vertical-align: top;\n",
       "    }\n",
       "\n",
       "    .dataframe thead th {\n",
       "        text-align: right;\n",
       "    }\n",
       "</style>\n",
       "<table border=\"1\" class=\"dataframe\">\n",
       "  <thead>\n",
       "    <tr style=\"text-align: right;\">\n",
       "      <th></th>\n",
       "      <th>importance</th>\n",
       "    </tr>\n",
       "  </thead>\n",
       "  <tbody>\n",
       "    <tr>\n",
       "      <th>_bmi5</th>\n",
       "      <td>0.167372</td>\n",
       "    </tr>\n",
       "    <tr>\n",
       "      <th>_vegesum</th>\n",
       "      <td>0.130068</td>\n",
       "    </tr>\n",
       "    <tr>\n",
       "      <th>_frutsum</th>\n",
       "      <td>0.102017</td>\n",
       "    </tr>\n",
       "    <tr>\n",
       "      <th>genhlth</th>\n",
       "      <td>0.059263</td>\n",
       "    </tr>\n",
       "    <tr>\n",
       "      <th>bphigh4</th>\n",
       "      <td>0.046267</td>\n",
       "    </tr>\n",
       "  </tbody>\n",
       "</table>\n",
       "</div>"
      ],
      "text/plain": [
       "          importance\n",
       "_bmi5       0.167372\n",
       "_vegesum    0.130068\n",
       "_frutsum    0.102017\n",
       "genhlth     0.059263\n",
       "bphigh4     0.046267"
      ]
     },
     "execution_count": 50,
     "metadata": {},
     "output_type": "execute_result"
    }
   ],
   "source": [
    "index_values = X.columns.to_list()\n",
    "column_values = [\"importance\"]\n",
    "importances = pd.DataFrame(data = rfc.feature_importances_, \n",
    "                  index = index_values, \n",
    "                  columns = column_values)\n",
    "\n",
    "importances.sort_values('importance', ascending = False, inplace= True)\n",
    "importances.head()"
   ]
  },
  {
   "cell_type": "code",
   "execution_count": 51,
   "id": "a206f84b",
   "metadata": {},
   "outputs": [
    {
     "data": {
      "text/html": [
       "<div>\n",
       "<style scoped>\n",
       "    .dataframe tbody tr th:only-of-type {\n",
       "        vertical-align: middle;\n",
       "    }\n",
       "\n",
       "    .dataframe tbody tr th {\n",
       "        vertical-align: top;\n",
       "    }\n",
       "\n",
       "    .dataframe thead th {\n",
       "        text-align: right;\n",
       "    }\n",
       "</style>\n",
       "<table border=\"1\" class=\"dataframe\">\n",
       "  <thead>\n",
       "    <tr style=\"text-align: right;\">\n",
       "      <th></th>\n",
       "      <th>importance</th>\n",
       "    </tr>\n",
       "  </thead>\n",
       "  <tbody>\n",
       "    <tr>\n",
       "      <th>_bmi5</th>\n",
       "      <td>0.167372</td>\n",
       "    </tr>\n",
       "    <tr>\n",
       "      <th>_vegesum</th>\n",
       "      <td>0.130068</td>\n",
       "    </tr>\n",
       "    <tr>\n",
       "      <th>_frutsum</th>\n",
       "      <td>0.102017</td>\n",
       "    </tr>\n",
       "    <tr>\n",
       "      <th>genhlth</th>\n",
       "      <td>0.059263</td>\n",
       "    </tr>\n",
       "    <tr>\n",
       "      <th>bphigh4</th>\n",
       "      <td>0.046267</td>\n",
       "    </tr>\n",
       "    <tr>\n",
       "      <th>physhlth</th>\n",
       "      <td>0.046094</td>\n",
       "    </tr>\n",
       "    <tr>\n",
       "      <th>educa</th>\n",
       "      <td>0.045429</td>\n",
       "    </tr>\n",
       "    <tr>\n",
       "      <th>employ1</th>\n",
       "      <td>0.040947</td>\n",
       "    </tr>\n",
       "    <tr>\n",
       "      <th>poorhlth</th>\n",
       "      <td>0.040654</td>\n",
       "    </tr>\n",
       "    <tr>\n",
       "      <th>marital</th>\n",
       "      <td>0.040430</td>\n",
       "    </tr>\n",
       "  </tbody>\n",
       "</table>\n",
       "</div>"
      ],
      "text/plain": [
       "          importance\n",
       "_bmi5       0.167372\n",
       "_vegesum    0.130068\n",
       "_frutsum    0.102017\n",
       "genhlth     0.059263\n",
       "bphigh4     0.046267\n",
       "physhlth    0.046094\n",
       "educa       0.045429\n",
       "employ1     0.040947\n",
       "poorhlth    0.040654\n",
       "marital     0.040430"
      ]
     },
     "execution_count": 51,
     "metadata": {},
     "output_type": "execute_result"
    }
   ],
   "source": [
    "top_10 = importances[0:10]\n",
    "top_10"
   ]
  },
  {
   "cell_type": "code",
   "execution_count": 52,
   "id": "1aa30d54",
   "metadata": {},
   "outputs": [
    {
     "data": {
      "text/html": [
       "<div>\n",
       "<style scoped>\n",
       "    .dataframe tbody tr th:only-of-type {\n",
       "        vertical-align: middle;\n",
       "    }\n",
       "\n",
       "    .dataframe tbody tr th {\n",
       "        vertical-align: top;\n",
       "    }\n",
       "\n",
       "    .dataframe thead th {\n",
       "        text-align: right;\n",
       "    }\n",
       "</style>\n",
       "<table border=\"1\" class=\"dataframe\">\n",
       "  <thead>\n",
       "    <tr style=\"text-align: right;\">\n",
       "      <th></th>\n",
       "      <th>importance</th>\n",
       "    </tr>\n",
       "  </thead>\n",
       "  <tbody>\n",
       "    <tr>\n",
       "      <th>menthlth</th>\n",
       "      <td>0.038443</td>\n",
       "    </tr>\n",
       "    <tr>\n",
       "      <th>_age_g</th>\n",
       "      <td>0.036913</td>\n",
       "    </tr>\n",
       "    <tr>\n",
       "      <th>toldhi2</th>\n",
       "      <td>0.032991</td>\n",
       "    </tr>\n",
       "    <tr>\n",
       "      <th>smokday2</th>\n",
       "      <td>0.032096</td>\n",
       "    </tr>\n",
       "    <tr>\n",
       "      <th>avedrnk2</th>\n",
       "      <td>0.029550</td>\n",
       "    </tr>\n",
       "    <tr>\n",
       "      <th>_race</th>\n",
       "      <td>0.026295</td>\n",
       "    </tr>\n",
       "    <tr>\n",
       "      <th>exerany2</th>\n",
       "      <td>0.024573</td>\n",
       "    </tr>\n",
       "    <tr>\n",
       "      <th>renthom1</th>\n",
       "      <td>0.021532</td>\n",
       "    </tr>\n",
       "    <tr>\n",
       "      <th>havarth3</th>\n",
       "      <td>0.020679</td>\n",
       "    </tr>\n",
       "    <tr>\n",
       "      <th>checkup1</th>\n",
       "      <td>0.018388</td>\n",
       "    </tr>\n",
       "  </tbody>\n",
       "</table>\n",
       "</div>"
      ],
      "text/plain": [
       "          importance\n",
       "menthlth    0.038443\n",
       "_age_g      0.036913\n",
       "toldhi2     0.032991\n",
       "smokday2    0.032096\n",
       "avedrnk2    0.029550\n",
       "_race       0.026295\n",
       "exerany2    0.024573\n",
       "renthom1    0.021532\n",
       "havarth3    0.020679\n",
       "checkup1    0.018388"
      ]
     },
     "execution_count": 52,
     "metadata": {},
     "output_type": "execute_result"
    }
   ],
   "source": [
    "cut = importances[10:]\n",
    "cut"
   ]
  },
  {
   "cell_type": "code",
   "execution_count": 53,
   "id": "eaba818b",
   "metadata": {},
   "outputs": [
    {
     "data": {
      "text/plain": [
       "['menthlth',\n",
       " '_age_g',\n",
       " 'toldhi2',\n",
       " 'smokday2',\n",
       " 'avedrnk2',\n",
       " '_race',\n",
       " 'exerany2',\n",
       " 'renthom1',\n",
       " 'havarth3',\n",
       " 'checkup1']"
      ]
     },
     "execution_count": 53,
     "metadata": {},
     "output_type": "execute_result"
    }
   ],
   "source": [
    "to_cut = cut.index.to_list()\n",
    "to_cut"
   ]
  },
  {
   "cell_type": "code",
   "execution_count": 54,
   "id": "84f4d1b7",
   "metadata": {},
   "outputs": [
    {
     "data": {
      "text/html": [
       "<div>\n",
       "<style scoped>\n",
       "    .dataframe tbody tr th:only-of-type {\n",
       "        vertical-align: middle;\n",
       "    }\n",
       "\n",
       "    .dataframe tbody tr th {\n",
       "        vertical-align: top;\n",
       "    }\n",
       "\n",
       "    .dataframe thead th {\n",
       "        text-align: right;\n",
       "    }\n",
       "</style>\n",
       "<table border=\"1\" class=\"dataframe\">\n",
       "  <thead>\n",
       "    <tr style=\"text-align: right;\">\n",
       "      <th></th>\n",
       "      <th>genhlth</th>\n",
       "      <th>physhlth</th>\n",
       "      <th>poorhlth</th>\n",
       "      <th>bphigh4</th>\n",
       "      <th>marital</th>\n",
       "      <th>educa</th>\n",
       "      <th>employ1</th>\n",
       "      <th>_bmi5</th>\n",
       "      <th>_frutsum</th>\n",
       "      <th>_vegesum</th>\n",
       "    </tr>\n",
       "  </thead>\n",
       "  <tbody>\n",
       "    <tr>\n",
       "      <th>0</th>\n",
       "      <td>5.0</td>\n",
       "      <td>15.0</td>\n",
       "      <td>10.0</td>\n",
       "      <td>1.0</td>\n",
       "      <td>1.0</td>\n",
       "      <td>4.0</td>\n",
       "      <td>8.0</td>\n",
       "      <td>4018.0</td>\n",
       "      <td>50.0</td>\n",
       "      <td>217.0</td>\n",
       "    </tr>\n",
       "    <tr>\n",
       "      <th>1</th>\n",
       "      <td>3.0</td>\n",
       "      <td>88.0</td>\n",
       "      <td>100.0</td>\n",
       "      <td>3.0</td>\n",
       "      <td>2.0</td>\n",
       "      <td>6.0</td>\n",
       "      <td>3.0</td>\n",
       "      <td>2509.0</td>\n",
       "      <td>24.0</td>\n",
       "      <td>78.0</td>\n",
       "    </tr>\n",
       "    <tr>\n",
       "      <th>2</th>\n",
       "      <td>4.0</td>\n",
       "      <td>15.0</td>\n",
       "      <td>88.0</td>\n",
       "      <td>3.0</td>\n",
       "      <td>2.0</td>\n",
       "      <td>4.0</td>\n",
       "      <td>7.0</td>\n",
       "      <td>2204.0</td>\n",
       "      <td>100.0</td>\n",
       "      <td>100.0</td>\n",
       "    </tr>\n",
       "    <tr>\n",
       "      <th>3</th>\n",
       "      <td>5.0</td>\n",
       "      <td>30.0</td>\n",
       "      <td>30.0</td>\n",
       "      <td>1.0</td>\n",
       "      <td>1.0</td>\n",
       "      <td>4.0</td>\n",
       "      <td>8.0</td>\n",
       "      <td>2819.0</td>\n",
       "      <td>100.0</td>\n",
       "      <td>20.0</td>\n",
       "    </tr>\n",
       "    <tr>\n",
       "      <th>4</th>\n",
       "      <td>5.0</td>\n",
       "      <td>20.0</td>\n",
       "      <td>30.0</td>\n",
       "      <td>3.0</td>\n",
       "      <td>1.0</td>\n",
       "      <td>5.0</td>\n",
       "      <td>8.0</td>\n",
       "      <td>2437.0</td>\n",
       "      <td>100.0</td>\n",
       "      <td>200.0</td>\n",
       "    </tr>\n",
       "  </tbody>\n",
       "</table>\n",
       "</div>"
      ],
      "text/plain": [
       "   genhlth  physhlth  poorhlth  bphigh4  marital  educa  employ1   _bmi5  \\\n",
       "0      5.0      15.0      10.0      1.0      1.0    4.0      8.0  4018.0   \n",
       "1      3.0      88.0     100.0      3.0      2.0    6.0      3.0  2509.0   \n",
       "2      4.0      15.0      88.0      3.0      2.0    4.0      7.0  2204.0   \n",
       "3      5.0      30.0      30.0      1.0      1.0    4.0      8.0  2819.0   \n",
       "4      5.0      20.0      30.0      3.0      1.0    5.0      8.0  2437.0   \n",
       "\n",
       "   _frutsum  _vegesum  \n",
       "0      50.0     217.0  \n",
       "1      24.0      78.0  \n",
       "2     100.0     100.0  \n",
       "3     100.0      20.0  \n",
       "4     100.0     200.0  "
      ]
     },
     "execution_count": 54,
     "metadata": {},
     "output_type": "execute_result"
    }
   ],
   "source": [
    "# Create new X data with only important columns\n",
    "\n",
    "X = X.drop(columns=to_cut)\n",
    "X.head()"
   ]
  },
  {
   "cell_type": "code",
   "execution_count": 56,
   "id": "646b0377",
   "metadata": {},
   "outputs": [
    {
     "data": {
      "text/plain": [
       "Counter({0: 607208, 1: 101683})"
      ]
     },
     "execution_count": 56,
     "metadata": {},
     "output_type": "execute_result"
    }
   ],
   "source": [
    "# Re-run model\n",
    "\n",
    "# Split into training and testing data sets\n",
    "X_train, X_test, y_train, y_test = train_test_split(X,y)\n",
    "\n",
    "Counter(y_train)"
   ]
  },
  {
   "cell_type": "code",
   "execution_count": 57,
   "id": "fad7a9e3",
   "metadata": {},
   "outputs": [],
   "source": [
    "# Scale the data\n",
    "\n",
    "scaler = StandardScaler()\n",
    "# Fitting the Standard Scaler with the training data.\n",
    "X_scaler = scaler.fit(X_train)\n",
    "\n",
    "# Scaling the data.\n",
    "X_train_scaled = X_scaler.transform(X_train)\n",
    "X_test_scaled = X_scaler.transform(X_test)"
   ]
  },
  {
   "cell_type": "code",
   "execution_count": 58,
   "id": "f8e117a3",
   "metadata": {},
   "outputs": [
    {
     "data": {
      "text/html": [
       "<style>#sk-container-id-5 {color: black;background-color: white;}#sk-container-id-5 pre{padding: 0;}#sk-container-id-5 div.sk-toggleable {background-color: white;}#sk-container-id-5 label.sk-toggleable__label {cursor: pointer;display: block;width: 100%;margin-bottom: 0;padding: 0.3em;box-sizing: border-box;text-align: center;}#sk-container-id-5 label.sk-toggleable__label-arrow:before {content: \"▸\";float: left;margin-right: 0.25em;color: #696969;}#sk-container-id-5 label.sk-toggleable__label-arrow:hover:before {color: black;}#sk-container-id-5 div.sk-estimator:hover label.sk-toggleable__label-arrow:before {color: black;}#sk-container-id-5 div.sk-toggleable__content {max-height: 0;max-width: 0;overflow: hidden;text-align: left;background-color: #f0f8ff;}#sk-container-id-5 div.sk-toggleable__content pre {margin: 0.2em;color: black;border-radius: 0.25em;background-color: #f0f8ff;}#sk-container-id-5 input.sk-toggleable__control:checked~div.sk-toggleable__content {max-height: 200px;max-width: 100%;overflow: auto;}#sk-container-id-5 input.sk-toggleable__control:checked~label.sk-toggleable__label-arrow:before {content: \"▾\";}#sk-container-id-5 div.sk-estimator input.sk-toggleable__control:checked~label.sk-toggleable__label {background-color: #d4ebff;}#sk-container-id-5 div.sk-label input.sk-toggleable__control:checked~label.sk-toggleable__label {background-color: #d4ebff;}#sk-container-id-5 input.sk-hidden--visually {border: 0;clip: rect(1px 1px 1px 1px);clip: rect(1px, 1px, 1px, 1px);height: 1px;margin: -1px;overflow: hidden;padding: 0;position: absolute;width: 1px;}#sk-container-id-5 div.sk-estimator {font-family: monospace;background-color: #f0f8ff;border: 1px dotted black;border-radius: 0.25em;box-sizing: border-box;margin-bottom: 0.5em;}#sk-container-id-5 div.sk-estimator:hover {background-color: #d4ebff;}#sk-container-id-5 div.sk-parallel-item::after {content: \"\";width: 100%;border-bottom: 1px solid gray;flex-grow: 1;}#sk-container-id-5 div.sk-label:hover label.sk-toggleable__label {background-color: #d4ebff;}#sk-container-id-5 div.sk-serial::before {content: \"\";position: absolute;border-left: 1px solid gray;box-sizing: border-box;top: 0;bottom: 0;left: 50%;z-index: 0;}#sk-container-id-5 div.sk-serial {display: flex;flex-direction: column;align-items: center;background-color: white;padding-right: 0.2em;padding-left: 0.2em;position: relative;}#sk-container-id-5 div.sk-item {position: relative;z-index: 1;}#sk-container-id-5 div.sk-parallel {display: flex;align-items: stretch;justify-content: center;background-color: white;position: relative;}#sk-container-id-5 div.sk-item::before, #sk-container-id-5 div.sk-parallel-item::before {content: \"\";position: absolute;border-left: 1px solid gray;box-sizing: border-box;top: 0;bottom: 0;left: 50%;z-index: -1;}#sk-container-id-5 div.sk-parallel-item {display: flex;flex-direction: column;z-index: 1;position: relative;background-color: white;}#sk-container-id-5 div.sk-parallel-item:first-child::after {align-self: flex-end;width: 50%;}#sk-container-id-5 div.sk-parallel-item:last-child::after {align-self: flex-start;width: 50%;}#sk-container-id-5 div.sk-parallel-item:only-child::after {width: 0;}#sk-container-id-5 div.sk-dashed-wrapped {border: 1px dashed gray;margin: 0 0.4em 0.5em 0.4em;box-sizing: border-box;padding-bottom: 0.4em;background-color: white;}#sk-container-id-5 div.sk-label label {font-family: monospace;font-weight: bold;display: inline-block;line-height: 1.2em;}#sk-container-id-5 div.sk-label-container {text-align: center;}#sk-container-id-5 div.sk-container {/* jupyter's `normalize.less` sets `[hidden] { display: none; }` but bootstrap.min.css set `[hidden] { display: none !important; }` so we also need the `!important` here to be able to override the default hidden behavior on the sphinx rendered scikit-learn.org. See: https://github.com/scikit-learn/scikit-learn/issues/21755 */display: inline-block !important;position: relative;}#sk-container-id-5 div.sk-text-repr-fallback {display: none;}</style><div id=\"sk-container-id-5\" class=\"sk-top-container\"><div class=\"sk-text-repr-fallback\"><pre>RandomForestClassifier(n_estimators=128)</pre><b>In a Jupyter environment, please rerun this cell to show the HTML representation or trust the notebook. <br />On GitHub, the HTML representation is unable to render, please try loading this page with nbviewer.org.</b></div><div class=\"sk-container\" hidden><div class=\"sk-item\"><div class=\"sk-estimator sk-toggleable\"><input class=\"sk-toggleable__control sk-hidden--visually\" id=\"sk-estimator-id-5\" type=\"checkbox\" checked><label for=\"sk-estimator-id-5\" class=\"sk-toggleable__label sk-toggleable__label-arrow\">RandomForestClassifier</label><div class=\"sk-toggleable__content\"><pre>RandomForestClassifier(n_estimators=128)</pre></div></div></div></div></div>"
      ],
      "text/plain": [
       "RandomForestClassifier(n_estimators=128)"
      ]
     },
     "execution_count": 58,
     "metadata": {},
     "output_type": "execute_result"
    }
   ],
   "source": [
    "# Create and fit RandomForestClassifier\n",
    "rfc = RandomForestClassifier(n_estimators=128)\n",
    "rfc.fit(X_train_scaled, y_train)"
   ]
  },
  {
   "cell_type": "code",
   "execution_count": 59,
   "id": "9efc5ec8",
   "metadata": {},
   "outputs": [
    {
     "name": "stdout",
     "output_type": "stream",
     "text": [
      "0.8549791152659577\n"
     ]
    }
   ],
   "source": [
    "# Make predictions\n",
    "predictions = rfc.predict(X_test_scaled)\n",
    "\n",
    "# Calculating the accuracy score.\n",
    "acc_score = accuracy_score(y_test, predictions)\n",
    "print(acc_score)"
   ]
  },
  {
   "cell_type": "code",
   "execution_count": 60,
   "id": "956d79e8",
   "metadata": {},
   "outputs": [
    {
     "name": "stdout",
     "output_type": "stream",
     "text": [
      "[[196179   6215]\n",
      " [ 28053   5850]]\n",
      "              precision    recall  f1-score   support\n",
      "\n",
      "           0       0.87      0.97      0.92    202394\n",
      "           1       0.48      0.17      0.25     33903\n",
      "\n",
      "    accuracy                           0.85    236297\n",
      "   macro avg       0.68      0.57      0.59    236297\n",
      "weighted avg       0.82      0.85      0.82    236297\n",
      "\n"
     ]
    }
   ],
   "source": [
    "print(confusion_matrix(y_test, predictions))\n",
    "print(classification_report(y_test,predictions))"
   ]
  },
  {
   "cell_type": "code",
   "execution_count": 61,
   "id": "70a1e268",
   "metadata": {},
   "outputs": [
    {
     "data": {
      "text/plain": [
       "array([0.05966643, 0.05995051, 0.05386746, 0.05923227, 0.04800472,\n",
       "       0.05179037, 0.05081583, 0.24906811, 0.14938678, 0.21821752])"
      ]
     },
     "execution_count": 61,
     "metadata": {},
     "output_type": "execute_result"
    }
   ],
   "source": [
    "rfc.feature_importances_"
   ]
  },
  {
   "cell_type": "code",
   "execution_count": 62,
   "id": "b953890e",
   "metadata": {},
   "outputs": [
    {
     "data": {
      "text/plain": [
       "(<AxesSubplot:>,)"
      ]
     },
     "execution_count": 62,
     "metadata": {},
     "output_type": "execute_result"
    },
    {
     "data": {
      "image/png": "[encoded data removed]",
      "text/plain": [
       "<Figure size 1600x1600 with 1 Axes>"
      ]
     },
     "metadata": {},
     "output_type": "display_data"
    }
   ],
   "source": [
    "# Plot importances\n",
    "(pd.Series(rfc.feature_importances_, index=X.columns,).plot(kind='bar', figsize=(16,16)), )"
   ]
  }
 ],
 "metadata": {
  "kernelspec": {
   "display_name": "mlenv",
   "language": "python",
   "name": "python3"
  },
  "language_info": {
   "codemirror_mode": {
    "name": "ipython",
    "version": 3
   },
   "file_extension": ".py",
   "mimetype": "text/x-python",
   "name": "python",
   "nbconvert_exporter": "python",
   "pygments_lexer": "ipython3",
   "version": "3.9.15"
  },
  "vscode": {
   "interpreter": {
    "hash": "39aeefac7f548ccbf3f021f97b288eeb686e33f7f41cef224260c91b53ff4f81"
   }
  }
 },
 "nbformat": 4,
 "nbformat_minor": 5
}
