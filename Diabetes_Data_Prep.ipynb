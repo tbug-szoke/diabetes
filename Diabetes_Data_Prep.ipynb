{
 "cells": [
  {
   "cell_type": "code",
   "execution_count": 1,
   "id": "02f51f15",
   "metadata": {},
   "outputs": [],
   "source": [
    "# Dependencies and Setup\n",
    "import pandas as pd\n",
    "\n",
    "# File to Load \n",
    "BRFRSS_2015 = \"2015.csv\"\n",
    "BRFSS_2011 = \"2011.csv\"\n",
    "fields = \"fields_to_keep.csv\"\n",
    "\n",
    "# Read the Data and store into Pandas DataFrames\n",
    "df_15 = pd.read_csv(BRFRSS_2015)\n",
    "df_11 = pd.read_csv(BRFSS_2011)\n",
    "fields_df = pd.read_csv(fields)"
   ]
  },
  {
   "cell_type": "code",
   "execution_count": 2,
   "id": "9f1e9568",
   "metadata": {},
   "outputs": [
    {
     "data": {
      "text/plain": [
       "(441456, 330)"
      ]
     },
     "execution_count": 2,
     "metadata": {},
     "output_type": "execute_result"
    }
   ],
   "source": [
    "df_15.shape"
   ]
  },
  {
   "cell_type": "code",
   "execution_count": 3,
   "id": "308bcad2",
   "metadata": {},
   "outputs": [
    {
     "data": {
      "text/plain": [
       "(506467, 454)"
      ]
     },
     "execution_count": 3,
     "metadata": {},
     "output_type": "execute_result"
    }
   ],
   "source": [
    "df_11.shape"
   ]
  },
  {
   "cell_type": "code",
   "execution_count": 4,
   "id": "e1f9dd52",
   "metadata": {},
   "outputs": [
    {
     "data": {
      "text/html": [
       "<div>\n",
       "<style scoped>\n",
       "    .dataframe tbody tr th:only-of-type {\n",
       "        vertical-align: middle;\n",
       "    }\n",
       "\n",
       "    .dataframe tbody tr th {\n",
       "        vertical-align: top;\n",
       "    }\n",
       "\n",
       "    .dataframe thead th {\n",
       "        text-align: right;\n",
       "    }\n",
       "</style>\n",
       "<table border=\"1\" class=\"dataframe\">\n",
       "  <thead>\n",
       "    <tr style=\"text-align: right;\">\n",
       "      <th></th>\n",
       "      <th>2011</th>\n",
       "      <th>2015</th>\n",
       "    </tr>\n",
       "  </thead>\n",
       "  <tbody>\n",
       "    <tr>\n",
       "      <th>0</th>\n",
       "      <td>_STATE</td>\n",
       "      <td>_STATE</td>\n",
       "    </tr>\n",
       "    <tr>\n",
       "      <th>1</th>\n",
       "      <td>IYEAR</td>\n",
       "      <td>IYEAR</td>\n",
       "    </tr>\n",
       "    <tr>\n",
       "      <th>2</th>\n",
       "      <td>SEQNO</td>\n",
       "      <td>SEQNO</td>\n",
       "    </tr>\n",
       "    <tr>\n",
       "      <th>3</th>\n",
       "      <td>GENHLTH</td>\n",
       "      <td>GENHLTH</td>\n",
       "    </tr>\n",
       "    <tr>\n",
       "      <th>4</th>\n",
       "      <td>PHYSHLTH</td>\n",
       "      <td>PHYSHLTH</td>\n",
       "    </tr>\n",
       "  </tbody>\n",
       "</table>\n",
       "</div>"
      ],
      "text/plain": [
       "       2011      2015\n",
       "0    _STATE    _STATE\n",
       "1     IYEAR     IYEAR\n",
       "2     SEQNO     SEQNO\n",
       "3   GENHLTH   GENHLTH\n",
       "4  PHYSHLTH  PHYSHLTH"
      ]
     },
     "execution_count": 4,
     "metadata": {},
     "output_type": "execute_result"
    }
   ],
   "source": [
    "fields_df.head()"
   ]
  },
  {
   "cell_type": "code",
   "execution_count": 5,
   "id": "d16621b2",
   "metadata": {},
   "outputs": [],
   "source": [
    "# Create lists of fields to keep for 2011 and 2015 data.\n",
    "fields_15 = fields_df['2015'].tolist()\n",
    "fields_11 = fields_df['2011'].tolist()"
   ]
  },
  {
   "cell_type": "code",
   "execution_count": 6,
   "id": "fcfdf511",
   "metadata": {},
   "outputs": [
    {
     "data": {
      "text/plain": [
       "(441456, 58)"
      ]
     },
     "execution_count": 6,
     "metadata": {},
     "output_type": "execute_result"
    }
   ],
   "source": [
    "# Create Diabetes table by keeping only the needed columns\n",
    "\n",
    "# First create diabetes table from the 2015 dataframe\n",
    "diabetes = df_15[fields_15]\n",
    "diabetes.shape\n"
   ]
  },
  {
   "cell_type": "code",
   "execution_count": 7,
   "id": "9322d0f6",
   "metadata": {},
   "outputs": [
    {
     "name": "stderr",
     "output_type": "stream",
     "text": [
      "/var/folders/33/_fv8x5t95s93_xt9m7_wzfqc0000gn/T/ipykernel_36217/3804640287.py:2: SettingWithCopyWarning: \n",
      "A value is trying to be set on a copy of a slice from a DataFrame\n",
      "\n",
      "See the caveats in the documentation: https://pandas.pydata.org/pandas-docs/stable/user_guide/indexing.html#returning-a-view-versus-a-copy\n",
      "  diabetes.rename(columns={'CHCCOPD1':'CHCCOPD','EMPLOY1':'EMPLOY','SCNTMNY1':'SCNTMONY','SCNTMEL1':'SCNTMEAL','_RACE':'RACE2'}, inplace=True)\n"
     ]
    },
    {
     "data": {
      "text/html": [
       "<div>\n",
       "<style scoped>\n",
       "    .dataframe tbody tr th:only-of-type {\n",
       "        vertical-align: middle;\n",
       "    }\n",
       "\n",
       "    .dataframe tbody tr th {\n",
       "        vertical-align: top;\n",
       "    }\n",
       "\n",
       "    .dataframe thead th {\n",
       "        text-align: right;\n",
       "    }\n",
       "</style>\n",
       "<table border=\"1\" class=\"dataframe\">\n",
       "  <thead>\n",
       "    <tr style=\"text-align: right;\">\n",
       "      <th></th>\n",
       "      <th>_STATE</th>\n",
       "      <th>IYEAR</th>\n",
       "      <th>SEQNO</th>\n",
       "      <th>GENHLTH</th>\n",
       "      <th>PHYSHLTH</th>\n",
       "      <th>MENTHLTH</th>\n",
       "      <th>POORHLTH</th>\n",
       "      <th>HLTHPLN1</th>\n",
       "      <th>PERSDOC2</th>\n",
       "      <th>MEDCOST</th>\n",
       "      <th>...</th>\n",
       "      <th>ADMOVE</th>\n",
       "      <th>MISTMNT</th>\n",
       "      <th>ADANXEV</th>\n",
       "      <th>RACE2</th>\n",
       "      <th>_AGE_G</th>\n",
       "      <th>HTM4</th>\n",
       "      <th>WTKG3</th>\n",
       "      <th>_BMI5</th>\n",
       "      <th>_FRUTSUM</th>\n",
       "      <th>_VEGESUM</th>\n",
       "    </tr>\n",
       "  </thead>\n",
       "  <tbody>\n",
       "    <tr>\n",
       "      <th>0</th>\n",
       "      <td>1.0</td>\n",
       "      <td>b'2015'</td>\n",
       "      <td>2.015000e+09</td>\n",
       "      <td>5.0</td>\n",
       "      <td>15.0</td>\n",
       "      <td>18.0</td>\n",
       "      <td>10.0</td>\n",
       "      <td>1.0</td>\n",
       "      <td>1.0</td>\n",
       "      <td>2.0</td>\n",
       "      <td>...</td>\n",
       "      <td>NaN</td>\n",
       "      <td>NaN</td>\n",
       "      <td>NaN</td>\n",
       "      <td>1.0</td>\n",
       "      <td>5.0</td>\n",
       "      <td>178.0</td>\n",
       "      <td>12701.0</td>\n",
       "      <td>4018.0</td>\n",
       "      <td>50.0</td>\n",
       "      <td>217.0</td>\n",
       "    </tr>\n",
       "    <tr>\n",
       "      <th>1</th>\n",
       "      <td>1.0</td>\n",
       "      <td>b'2015'</td>\n",
       "      <td>2.015000e+09</td>\n",
       "      <td>3.0</td>\n",
       "      <td>88.0</td>\n",
       "      <td>88.0</td>\n",
       "      <td>NaN</td>\n",
       "      <td>2.0</td>\n",
       "      <td>1.0</td>\n",
       "      <td>1.0</td>\n",
       "      <td>...</td>\n",
       "      <td>NaN</td>\n",
       "      <td>NaN</td>\n",
       "      <td>NaN</td>\n",
       "      <td>1.0</td>\n",
       "      <td>4.0</td>\n",
       "      <td>173.0</td>\n",
       "      <td>7484.0</td>\n",
       "      <td>2509.0</td>\n",
       "      <td>24.0</td>\n",
       "      <td>78.0</td>\n",
       "    </tr>\n",
       "    <tr>\n",
       "      <th>2</th>\n",
       "      <td>1.0</td>\n",
       "      <td>b'2015'</td>\n",
       "      <td>2.015000e+09</td>\n",
       "      <td>4.0</td>\n",
       "      <td>15.0</td>\n",
       "      <td>88.0</td>\n",
       "      <td>88.0</td>\n",
       "      <td>1.0</td>\n",
       "      <td>2.0</td>\n",
       "      <td>2.0</td>\n",
       "      <td>...</td>\n",
       "      <td>NaN</td>\n",
       "      <td>NaN</td>\n",
       "      <td>NaN</td>\n",
       "      <td>1.0</td>\n",
       "      <td>6.0</td>\n",
       "      <td>180.0</td>\n",
       "      <td>7167.0</td>\n",
       "      <td>2204.0</td>\n",
       "      <td>NaN</td>\n",
       "      <td>NaN</td>\n",
       "    </tr>\n",
       "    <tr>\n",
       "      <th>3</th>\n",
       "      <td>1.0</td>\n",
       "      <td>b'2015'</td>\n",
       "      <td>2.015000e+09</td>\n",
       "      <td>5.0</td>\n",
       "      <td>30.0</td>\n",
       "      <td>30.0</td>\n",
       "      <td>30.0</td>\n",
       "      <td>1.0</td>\n",
       "      <td>2.0</td>\n",
       "      <td>1.0</td>\n",
       "      <td>...</td>\n",
       "      <td>NaN</td>\n",
       "      <td>NaN</td>\n",
       "      <td>NaN</td>\n",
       "      <td>1.0</td>\n",
       "      <td>5.0</td>\n",
       "      <td>170.0</td>\n",
       "      <td>8165.0</td>\n",
       "      <td>2819.0</td>\n",
       "      <td>100.0</td>\n",
       "      <td>20.0</td>\n",
       "    </tr>\n",
       "    <tr>\n",
       "      <th>4</th>\n",
       "      <td>1.0</td>\n",
       "      <td>b'2015'</td>\n",
       "      <td>2.015000e+09</td>\n",
       "      <td>5.0</td>\n",
       "      <td>20.0</td>\n",
       "      <td>88.0</td>\n",
       "      <td>30.0</td>\n",
       "      <td>1.0</td>\n",
       "      <td>1.0</td>\n",
       "      <td>2.0</td>\n",
       "      <td>...</td>\n",
       "      <td>NaN</td>\n",
       "      <td>NaN</td>\n",
       "      <td>NaN</td>\n",
       "      <td>1.0</td>\n",
       "      <td>5.0</td>\n",
       "      <td>163.0</td>\n",
       "      <td>6441.0</td>\n",
       "      <td>2437.0</td>\n",
       "      <td>NaN</td>\n",
       "      <td>200.0</td>\n",
       "    </tr>\n",
       "  </tbody>\n",
       "</table>\n",
       "<p>5 rows × 58 columns</p>\n",
       "</div>"
      ],
      "text/plain": [
       "   _STATE    IYEAR         SEQNO  GENHLTH  PHYSHLTH  MENTHLTH  POORHLTH  \\\n",
       "0     1.0  b'2015'  2.015000e+09      5.0      15.0      18.0      10.0   \n",
       "1     1.0  b'2015'  2.015000e+09      3.0      88.0      88.0       NaN   \n",
       "2     1.0  b'2015'  2.015000e+09      4.0      15.0      88.0      88.0   \n",
       "3     1.0  b'2015'  2.015000e+09      5.0      30.0      30.0      30.0   \n",
       "4     1.0  b'2015'  2.015000e+09      5.0      20.0      88.0      30.0   \n",
       "\n",
       "   HLTHPLN1  PERSDOC2  MEDCOST  ...  ADMOVE  MISTMNT  ADANXEV  RACE2  _AGE_G  \\\n",
       "0       1.0       1.0      2.0  ...     NaN      NaN      NaN    1.0     5.0   \n",
       "1       2.0       1.0      1.0  ...     NaN      NaN      NaN    1.0     4.0   \n",
       "2       1.0       2.0      2.0  ...     NaN      NaN      NaN    1.0     6.0   \n",
       "3       1.0       2.0      1.0  ...     NaN      NaN      NaN    1.0     5.0   \n",
       "4       1.0       1.0      2.0  ...     NaN      NaN      NaN    1.0     5.0   \n",
       "\n",
       "    HTM4    WTKG3   _BMI5  _FRUTSUM  _VEGESUM  \n",
       "0  178.0  12701.0  4018.0      50.0     217.0  \n",
       "1  173.0   7484.0  2509.0      24.0      78.0  \n",
       "2  180.0   7167.0  2204.0       NaN       NaN  \n",
       "3  170.0   8165.0  2819.0     100.0      20.0  \n",
       "4  163.0   6441.0  2437.0       NaN     200.0  \n",
       "\n",
       "[5 rows x 58 columns]"
      ]
     },
     "execution_count": 7,
     "metadata": {},
     "output_type": "execute_result"
    }
   ],
   "source": [
    "\n",
    "# Update 2015 field names to match 2011 field names\n",
    "diabetes.rename(columns={'CHCCOPD1':'CHCCOPD','EMPLOY1':'EMPLOY','SCNTMNY1':'SCNTMONY','SCNTMEL1':'SCNTMEAL','_RACE':'RACE2'}, inplace=True)\n",
    "\n",
    "diabetes.head()\n"
   ]
  },
  {
   "cell_type": "code",
   "execution_count": 8,
   "id": "17d72290",
   "metadata": {},
   "outputs": [
    {
     "data": {
      "text/plain": [
       "(947923, 58)"
      ]
     },
     "execution_count": 8,
     "metadata": {},
     "output_type": "execute_result"
    }
   ],
   "source": [
    "# Append 2011 data to the diabetes table\n",
    "diabetes = pd.concat([diabetes,df_11[fields_11]])\n",
    "diabetes.shape"
   ]
  },
  {
   "cell_type": "code",
   "execution_count": 10,
   "id": "b07cbfee",
   "metadata": {},
   "outputs": [],
   "source": [
    "# Export data to load into SQL DB\n",
    "diabetes.to_csv(\"diabetes.csv\", index=False)"
   ]
  }
 ],
 "metadata": {
  "kernelspec": {
   "display_name": "CWRU_PythonData",
   "language": "python",
   "name": "python3"
  },
  "language_info": {
   "codemirror_mode": {
    "name": "ipython",
    "version": 3
   },
   "file_extension": ".py",
   "mimetype": "text/x-python",
   "name": "python",
   "nbconvert_exporter": "python",
   "pygments_lexer": "ipython3",
   "version": "3.9.13"
  },
  "vscode": {
   "interpreter": {
    "hash": "a44572e9e5e8a801729e5bb1a69ff94ee26ee6fbf68f0f5f3eac25d7fb5c6406"
   }
  }
 },
 "nbformat": 4,
 "nbformat_minor": 5
}
