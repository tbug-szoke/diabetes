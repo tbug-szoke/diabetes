{
 "cells": [
  {
   "attachments": {},
   "cell_type": "markdown",
   "id": "6bde709a",
   "metadata": {},
   "source": [
    "# Diabetes Database Data Prep\n",
    "\n",
    "This notebook is utilized to transform the generalized health risk data from 2011 and 2015 BRFSS survey into a database about diabetes prevalence and potentially related risk factors. "
   ]
  },
  {
   "cell_type": "code",
   "execution_count": 1,
   "id": "02f51f15",
   "metadata": {},
   "outputs": [],
   "source": [
    "# Dependencies and Setup\n",
    "import pandas as pd\n",
    "\n",
    "# File to Load \n",
    "BRFSS_2015 = \"2015.csv\"\n",
    "BRFSS_2011 = \"2011.csv\"\n",
    "fields = \"fields_to_keep.csv\"\n",
    "\n",
    "# Read the Data and store into Pandas DataFrames\n",
    "df_15 = pd.read_csv(BRFSS_2015)\n",
    "df_11 = pd.read_csv(BRFSS_2011)\n",
    "fields_df = pd.read_csv(fields)"
   ]
  },
  {
   "cell_type": "code",
   "execution_count": 2,
   "id": "9f1e9568",
   "metadata": {},
   "outputs": [
    {
     "data": {
      "text/plain": [
       "(441456, 330)"
      ]
     },
     "execution_count": 2,
     "metadata": {},
     "output_type": "execute_result"
    }
   ],
   "source": [
    "# Check the shape of the 2015 data\n",
    "df_15.shape"
   ]
  },
  {
   "cell_type": "code",
   "execution_count": 3,
   "id": "308bcad2",
   "metadata": {},
   "outputs": [
    {
     "data": {
      "text/plain": [
       "(506467, 454)"
      ]
     },
     "execution_count": 3,
     "metadata": {},
     "output_type": "execute_result"
    }
   ],
   "source": [
    "# Check the shape of the 2011 data\n",
    "df_11.shape"
   ]
  },
  {
   "cell_type": "code",
   "execution_count": 4,
   "id": "e1f9dd52",
   "metadata": {},
   "outputs": [
    {
     "data": {
      "text/html": [
       "<div>\n",
       "<style scoped>\n",
       "    .dataframe tbody tr th:only-of-type {\n",
       "        vertical-align: middle;\n",
       "    }\n",
       "\n",
       "    .dataframe tbody tr th {\n",
       "        vertical-align: top;\n",
       "    }\n",
       "\n",
       "    .dataframe thead th {\n",
       "        text-align: right;\n",
       "    }\n",
       "</style>\n",
       "<table border=\"1\" class=\"dataframe\">\n",
       "  <thead>\n",
       "    <tr style=\"text-align: right;\">\n",
       "      <th></th>\n",
       "      <th>2011</th>\n",
       "      <th>2015</th>\n",
       "    </tr>\n",
       "  </thead>\n",
       "  <tbody>\n",
       "    <tr>\n",
       "      <th>0</th>\n",
       "      <td>_STATE</td>\n",
       "      <td>_STATE</td>\n",
       "    </tr>\n",
       "    <tr>\n",
       "      <th>1</th>\n",
       "      <td>IYEAR</td>\n",
       "      <td>IYEAR</td>\n",
       "    </tr>\n",
       "    <tr>\n",
       "      <th>2</th>\n",
       "      <td>GENHLTH</td>\n",
       "      <td>GENHLTH</td>\n",
       "    </tr>\n",
       "    <tr>\n",
       "      <th>3</th>\n",
       "      <td>PHYSHLTH</td>\n",
       "      <td>PHYSHLTH</td>\n",
       "    </tr>\n",
       "    <tr>\n",
       "      <th>4</th>\n",
       "      <td>MENTHLTH</td>\n",
       "      <td>MENTHLTH</td>\n",
       "    </tr>\n",
       "  </tbody>\n",
       "</table>\n",
       "</div>"
      ],
      "text/plain": [
       "       2011      2015\n",
       "0    _STATE    _STATE\n",
       "1     IYEAR     IYEAR\n",
       "2   GENHLTH   GENHLTH\n",
       "3  PHYSHLTH  PHYSHLTH\n",
       "4  MENTHLTH  MENTHLTH"
      ]
     },
     "execution_count": 4,
     "metadata": {},
     "output_type": "execute_result"
    }
   ],
   "source": [
    "# Confirm that the field list of BRFSS survey fields selected for the diabtes database is loaded as expected\n",
    "fields_df.head()"
   ]
  },
  {
   "cell_type": "code",
   "execution_count": 5,
   "id": "d16621b2",
   "metadata": {},
   "outputs": [],
   "source": [
    "# Create lists of fields to keep for 2011 and 2015 data.  This field list was developed by reviewing the BRFSS codebooks for the 2011 and 2015 surveys\n",
    "# and selecting those fields which reasonably could have a relationship to a health outcome of diabetes.  The column 'DIABETE3' is the column of the\n",
    "# survey where participants indicate whether they have ever been told they have diabetes.\n",
    "fields_15 = fields_df['2015'].tolist()\n",
    "fields_11 = fields_df['2011'].tolist()"
   ]
  },
  {
   "cell_type": "code",
   "execution_count": 6,
   "id": "fcfdf511",
   "metadata": {},
   "outputs": [
    {
     "data": {
      "text/plain": [
       "(441456, 51)"
      ]
     },
     "execution_count": 6,
     "metadata": {},
     "output_type": "execute_result"
    }
   ],
   "source": [
    "# Create Diabetes table by keeping only the needed columns.  This table will be stored in our database and used in our machine learning models.\n",
    "\n",
    "# First create diabetes table from the 2015 dataframe\n",
    "diabetes = df_15[fields_15]\n",
    "diabetes.shape\n"
   ]
  },
  {
   "cell_type": "code",
   "execution_count": 7,
   "id": "9322d0f6",
   "metadata": {},
   "outputs": [
    {
     "name": "stderr",
     "output_type": "stream",
     "text": [
      "/var/folders/33/_fv8x5t95s93_xt9m7_wzfqc0000gn/T/ipykernel_90511/1774282163.py:5: SettingWithCopyWarning: \n",
      "A value is trying to be set on a copy of a slice from a DataFrame\n",
      "\n",
      "See the caveats in the documentation: https://pandas.pydata.org/pandas-docs/stable/user_guide/indexing.html#returning-a-view-versus-a-copy\n",
      "  diabetes.rename(columns={'CHCCOPD1':'CHCCOPD','EMPLOY1':'EMPLOY','SCNTMNY1':'SCNTMONY','SCNTMEL1':'SCNTMEAL','_RACE':'RACE2'}, inplace=True)\n"
     ]
    },
    {
     "data": {
      "text/html": [
       "<div>\n",
       "<style scoped>\n",
       "    .dataframe tbody tr th:only-of-type {\n",
       "        vertical-align: middle;\n",
       "    }\n",
       "\n",
       "    .dataframe tbody tr th {\n",
       "        vertical-align: top;\n",
       "    }\n",
       "\n",
       "    .dataframe thead th {\n",
       "        text-align: right;\n",
       "    }\n",
       "</style>\n",
       "<table border=\"1\" class=\"dataframe\">\n",
       "  <thead>\n",
       "    <tr style=\"text-align: right;\">\n",
       "      <th></th>\n",
       "      <th>_STATE</th>\n",
       "      <th>IYEAR</th>\n",
       "      <th>GENHLTH</th>\n",
       "      <th>PHYSHLTH</th>\n",
       "      <th>MENTHLTH</th>\n",
       "      <th>POORHLTH</th>\n",
       "      <th>HLTHPLN1</th>\n",
       "      <th>PERSDOC2</th>\n",
       "      <th>MEDCOST</th>\n",
       "      <th>CHECKUP1</th>\n",
       "      <th>...</th>\n",
       "      <th>ADMOVE</th>\n",
       "      <th>MISTMNT</th>\n",
       "      <th>ADANXEV</th>\n",
       "      <th>RACE2</th>\n",
       "      <th>_AGE_G</th>\n",
       "      <th>HTM4</th>\n",
       "      <th>WTKG3</th>\n",
       "      <th>_BMI5</th>\n",
       "      <th>_FRUTSUM</th>\n",
       "      <th>_VEGESUM</th>\n",
       "    </tr>\n",
       "  </thead>\n",
       "  <tbody>\n",
       "    <tr>\n",
       "      <th>0</th>\n",
       "      <td>1.0</td>\n",
       "      <td>b'2015'</td>\n",
       "      <td>5.0</td>\n",
       "      <td>15.0</td>\n",
       "      <td>18.0</td>\n",
       "      <td>10.0</td>\n",
       "      <td>1.0</td>\n",
       "      <td>1.0</td>\n",
       "      <td>2.0</td>\n",
       "      <td>1.0</td>\n",
       "      <td>...</td>\n",
       "      <td>NaN</td>\n",
       "      <td>NaN</td>\n",
       "      <td>NaN</td>\n",
       "      <td>1.0</td>\n",
       "      <td>5.0</td>\n",
       "      <td>178.0</td>\n",
       "      <td>12701.0</td>\n",
       "      <td>4018.0</td>\n",
       "      <td>50.0</td>\n",
       "      <td>217.0</td>\n",
       "    </tr>\n",
       "    <tr>\n",
       "      <th>1</th>\n",
       "      <td>1.0</td>\n",
       "      <td>b'2015'</td>\n",
       "      <td>3.0</td>\n",
       "      <td>88.0</td>\n",
       "      <td>88.0</td>\n",
       "      <td>NaN</td>\n",
       "      <td>2.0</td>\n",
       "      <td>1.0</td>\n",
       "      <td>1.0</td>\n",
       "      <td>4.0</td>\n",
       "      <td>...</td>\n",
       "      <td>NaN</td>\n",
       "      <td>NaN</td>\n",
       "      <td>NaN</td>\n",
       "      <td>1.0</td>\n",
       "      <td>4.0</td>\n",
       "      <td>173.0</td>\n",
       "      <td>7484.0</td>\n",
       "      <td>2509.0</td>\n",
       "      <td>24.0</td>\n",
       "      <td>78.0</td>\n",
       "    </tr>\n",
       "    <tr>\n",
       "      <th>2</th>\n",
       "      <td>1.0</td>\n",
       "      <td>b'2015'</td>\n",
       "      <td>4.0</td>\n",
       "      <td>15.0</td>\n",
       "      <td>88.0</td>\n",
       "      <td>88.0</td>\n",
       "      <td>1.0</td>\n",
       "      <td>2.0</td>\n",
       "      <td>2.0</td>\n",
       "      <td>1.0</td>\n",
       "      <td>...</td>\n",
       "      <td>NaN</td>\n",
       "      <td>NaN</td>\n",
       "      <td>NaN</td>\n",
       "      <td>1.0</td>\n",
       "      <td>6.0</td>\n",
       "      <td>180.0</td>\n",
       "      <td>7167.0</td>\n",
       "      <td>2204.0</td>\n",
       "      <td>NaN</td>\n",
       "      <td>NaN</td>\n",
       "    </tr>\n",
       "    <tr>\n",
       "      <th>3</th>\n",
       "      <td>1.0</td>\n",
       "      <td>b'2015'</td>\n",
       "      <td>5.0</td>\n",
       "      <td>30.0</td>\n",
       "      <td>30.0</td>\n",
       "      <td>30.0</td>\n",
       "      <td>1.0</td>\n",
       "      <td>2.0</td>\n",
       "      <td>1.0</td>\n",
       "      <td>1.0</td>\n",
       "      <td>...</td>\n",
       "      <td>NaN</td>\n",
       "      <td>NaN</td>\n",
       "      <td>NaN</td>\n",
       "      <td>1.0</td>\n",
       "      <td>5.0</td>\n",
       "      <td>170.0</td>\n",
       "      <td>8165.0</td>\n",
       "      <td>2819.0</td>\n",
       "      <td>100.0</td>\n",
       "      <td>20.0</td>\n",
       "    </tr>\n",
       "    <tr>\n",
       "      <th>4</th>\n",
       "      <td>1.0</td>\n",
       "      <td>b'2015'</td>\n",
       "      <td>5.0</td>\n",
       "      <td>20.0</td>\n",
       "      <td>88.0</td>\n",
       "      <td>30.0</td>\n",
       "      <td>1.0</td>\n",
       "      <td>1.0</td>\n",
       "      <td>2.0</td>\n",
       "      <td>1.0</td>\n",
       "      <td>...</td>\n",
       "      <td>NaN</td>\n",
       "      <td>NaN</td>\n",
       "      <td>NaN</td>\n",
       "      <td>1.0</td>\n",
       "      <td>5.0</td>\n",
       "      <td>163.0</td>\n",
       "      <td>6441.0</td>\n",
       "      <td>2437.0</td>\n",
       "      <td>NaN</td>\n",
       "      <td>200.0</td>\n",
       "    </tr>\n",
       "  </tbody>\n",
       "</table>\n",
       "<p>5 rows × 51 columns</p>\n",
       "</div>"
      ],
      "text/plain": [
       "   _STATE    IYEAR  GENHLTH  PHYSHLTH  MENTHLTH  POORHLTH  HLTHPLN1  PERSDOC2  \\\n",
       "0     1.0  b'2015'      5.0      15.0      18.0      10.0       1.0       1.0   \n",
       "1     1.0  b'2015'      3.0      88.0      88.0       NaN       2.0       1.0   \n",
       "2     1.0  b'2015'      4.0      15.0      88.0      88.0       1.0       2.0   \n",
       "3     1.0  b'2015'      5.0      30.0      30.0      30.0       1.0       2.0   \n",
       "4     1.0  b'2015'      5.0      20.0      88.0      30.0       1.0       1.0   \n",
       "\n",
       "   MEDCOST  CHECKUP1  ...  ADMOVE  MISTMNT  ADANXEV  RACE2  _AGE_G   HTM4  \\\n",
       "0      2.0       1.0  ...     NaN      NaN      NaN    1.0     5.0  178.0   \n",
       "1      1.0       4.0  ...     NaN      NaN      NaN    1.0     4.0  173.0   \n",
       "2      2.0       1.0  ...     NaN      NaN      NaN    1.0     6.0  180.0   \n",
       "3      1.0       1.0  ...     NaN      NaN      NaN    1.0     5.0  170.0   \n",
       "4      2.0       1.0  ...     NaN      NaN      NaN    1.0     5.0  163.0   \n",
       "\n",
       "     WTKG3   _BMI5  _FRUTSUM  _VEGESUM  \n",
       "0  12701.0  4018.0      50.0     217.0  \n",
       "1   7484.0  2509.0      24.0      78.0  \n",
       "2   7167.0  2204.0       NaN       NaN  \n",
       "3   8165.0  2819.0     100.0      20.0  \n",
       "4   6441.0  2437.0       NaN     200.0  \n",
       "\n",
       "[5 rows x 51 columns]"
      ]
     },
     "execution_count": 7,
     "metadata": {},
     "output_type": "execute_result"
    }
   ],
   "source": [
    "\n",
    "# Update 2015 field names to match 2011 field names.  This is required because, which the questions and responses were the same in both the \n",
    "# 2011 and 2015 BRFSS surveys, the field labels are different.  We want one consistent data set in our database, so that names used in 2011 will be\n",
    "# utilized.\n",
    "\n",
    "diabetes.rename(columns={'CHCCOPD1':'CHCCOPD','EMPLOY1':'EMPLOY','SCNTMNY1':'SCNTMONY','SCNTMEL1':'SCNTMEAL','_RACE':'RACE2'}, inplace=True)\n",
    "\n",
    "diabetes.head()\n"
   ]
  },
  {
   "cell_type": "code",
   "execution_count": 8,
   "id": "17d72290",
   "metadata": {},
   "outputs": [
    {
     "data": {
      "text/plain": [
       "(947923, 51)"
      ]
     },
     "execution_count": 8,
     "metadata": {},
     "output_type": "execute_result"
    }
   ],
   "source": [
    "# Append 2011 data to the diabetes table\n",
    "diabetes = pd.concat([diabetes,df_11[fields_11]])\n",
    "diabetes.shape"
   ]
  },
  {
   "cell_type": "code",
   "execution_count": 9,
   "id": "4f184c6a",
   "metadata": {},
   "outputs": [
    {
     "data": {
      "text/plain": [
       "3.0    801166\n",
       "1.0    119717\n",
       "4.0     15869\n",
       "2.0      8436\n",
       "7.0      1200\n",
       "9.0       402\n",
       "Name: DIABETE3, dtype: int64"
      ]
     },
     "execution_count": 9,
     "metadata": {},
     "output_type": "execute_result"
    }
   ],
   "source": [
    "# Check diabetes column values\n",
    "diabetes['DIABETE3'].value_counts()"
   ]
  },
  {
   "cell_type": "code",
   "execution_count": 10,
   "id": "777b81a0",
   "metadata": {},
   "outputs": [
    {
     "data": {
      "text/plain": [
       "0.0    809602\n",
       "1.0    119717\n",
       "4.0     15869\n",
       "7.0      1200\n",
       "9.0       402\n",
       "Name: DIABETE3, dtype: int64"
      ]
     },
     "execution_count": 10,
     "metadata": {},
     "output_type": "execute_result"
    }
   ],
   "source": [
    "# For our final Diabetes database, we are interested in having data associated with those survey respondents who either do have diabetes or prediabetes\n",
    "# or those who do not.  From the BRFSS code book, response of:\n",
    "# '1' means diabetes\n",
    "# '4' means pre-diabetes\n",
    "# '3' means no diabetes\n",
    "# '2' means only had diabetes during pregnancy\n",
    "# '7' means don't know; '9' means refused to anser and 'BLANK' means the question was not asked.\n",
    "# We will cleanse our data set to only those records of interest for our machine learning study.\n",
    "\n",
    "diabetes['DIABETE3'] = diabetes['DIABETE3'].replace({2:0, 3:0})\n",
    "diabetes['DIABETE3'].value_counts()"
   ]
  },
  {
   "cell_type": "code",
   "execution_count": 11,
   "id": "b0f47c8b",
   "metadata": {},
   "outputs": [
    {
     "data": {
      "text/plain": [
       "0.0    809602\n",
       "1.0    119717\n",
       "4.0     15869\n",
       "Name: DIABETE3, dtype: int64"
      ]
     },
     "execution_count": 11,
     "metadata": {},
     "output_type": "execute_result"
    }
   ],
   "source": [
    "# Remove records where respondents answered '7' don't know, or '9' refused.\n",
    "diabetes = diabetes[diabetes.DIABETE3 != 7]\n",
    "diabetes = diabetes[diabetes.DIABETE3 != 9]\n",
    "diabetes['DIABETE3'].value_counts()"
   ]
  },
  {
   "cell_type": "code",
   "execution_count": 12,
   "id": "16164098",
   "metadata": {},
   "outputs": [
    {
     "name": "stdout",
     "output_type": "stream",
     "text": [
      "<class 'pandas.core.frame.DataFrame'>\n",
      "Int64Index: 945188 entries, 0 to 506466\n",
      "Data columns (total 51 columns):\n",
      " #   Column    Non-Null Count   Dtype  \n",
      "---  ------    --------------   -----  \n",
      " 0   _STATE    945188 non-null  float64\n",
      " 1   IYEAR     945188 non-null  object \n",
      " 2   GENHLTH   945184 non-null  float64\n",
      " 3   PHYSHLTH  945187 non-null  float64\n",
      " 4   MENTHLTH  945188 non-null  float64\n",
      " 5   POORHLTH  489737 non-null  float64\n",
      " 6   HLTHPLN1  945188 non-null  float64\n",
      " 7   PERSDOC2  945188 non-null  float64\n",
      " 8   MEDCOST   945187 non-null  float64\n",
      " 9   CHECKUP1  945187 non-null  float64\n",
      " 10  BPHIGH4   945182 non-null  float64\n",
      " 11  TOLDHI2   816111 non-null  float64\n",
      " 12  CVDINFR4  945187 non-null  float64\n",
      " 13  CVDCRHD4  945187 non-null  float64\n",
      " 14  CVDSTRK3  945188 non-null  float64\n",
      " 15  ASTHMA3   945188 non-null  float64\n",
      " 16  ASTHNOW   124240 non-null  float64\n",
      " 17  CHCCOPD   945186 non-null  float64\n",
      " 18  HAVARTH3  945186 non-null  float64\n",
      " 19  ADDEPEV2  945178 non-null  float64\n",
      " 20  CHCKIDNY  945185 non-null  float64\n",
      " 21  DIABETE3  945188 non-null  float64\n",
      " 22  SEX       945188 non-null  float64\n",
      " 23  MARITAL   944970 non-null  float64\n",
      " 24  EDUCA     944839 non-null  float64\n",
      " 25  RENTHOM1  942948 non-null  float64\n",
      " 26  EMPLOY    944745 non-null  float64\n",
      " 27  SMOKE100  930993 non-null  float64\n",
      " 28  SMOKDAY2  415863 non-null  float64\n",
      " 29  USENOW3   930356 non-null  float64\n",
      " 30  AVEDRNK2  452137 non-null  float64\n",
      " 31  EXERANY2  889195 non-null  float64\n",
      " 32  SCNTMONY  108101 non-null  float64\n",
      " 33  SCNTMEAL  113707 non-null  float64\n",
      " 34  ADPLEASR  34921 non-null   float64\n",
      " 35  ADDOWN    34895 non-null   float64\n",
      " 36  ADSLEEP   34882 non-null   float64\n",
      " 37  ADENERGY  34874 non-null   float64\n",
      " 38  ADEAT1    34860 non-null   float64\n",
      " 39  ADFAIL    34847 non-null   float64\n",
      " 40  ADTHINK   34830 non-null   float64\n",
      " 41  ADMOVE    34812 non-null   float64\n",
      " 42  MISTMNT   34794 non-null   float64\n",
      " 43  ADANXEV   34782 non-null   float64\n",
      " 44  RACE2     945062 non-null  float64\n",
      " 45  _AGE_G    945188 non-null  float64\n",
      " 46  HTM4      922957 non-null  float64\n",
      " 47  WTKG3     893120 non-null  float64\n",
      " 48  _BMI5     881579 non-null  float64\n",
      " 49  _FRUTSUM  882945 non-null  float64\n",
      " 50  _VEGESUM  874411 non-null  float64\n",
      "dtypes: float64(50), object(1)\n",
      "memory usage: 375.0+ MB\n"
     ]
    }
   ],
   "source": [
    "# Now we want to remove all rows of the dataframe where DIABETE3 has null values; these rows are not relevant for our study\n",
    "diabetes = diabetes[diabetes['DIABETE3'].notna()]\n",
    "diabetes.info()"
   ]
  },
  {
   "cell_type": "code",
   "execution_count": 13,
   "id": "c6038991",
   "metadata": {},
   "outputs": [
    {
     "data": {
      "text/plain": [
       "b'2011'    501479\n",
       "b'2015'    429764\n",
       "b'2016'     10894\n",
       "b'2012'      3051\n",
       "Name: IYEAR, dtype: int64"
      ]
     },
     "execution_count": 13,
     "metadata": {},
     "output_type": "execute_result"
    }
   ],
   "source": [
    "# Note that the IYEAR column datatype is object.  Check the column values\n",
    "diabetes['IYEAR'].value_counts()"
   ]
  },
  {
   "cell_type": "code",
   "execution_count": 14,
   "id": "2055651e",
   "metadata": {},
   "outputs": [
    {
     "data": {
      "text/plain": [
       "2011    504530\n",
       "2015    440658\n",
       "Name: IYEAR, dtype: int64"
      ]
     },
     "execution_count": 14,
     "metadata": {},
     "output_type": "execute_result"
    }
   ],
   "source": [
    "# Update the values to the expected numerical year values\n",
    "diabetes['IYEAR'] = diabetes['IYEAR'].replace({\"b'2011'\":2011,\"b'2012'\":2011,\"b'2015'\":2015,\"b'2016'\":2015 })\n",
    "diabetes['IYEAR'].value_counts()"
   ]
  },
  {
   "cell_type": "code",
   "execution_count": 15,
   "id": "04f60ce9",
   "metadata": {},
   "outputs": [
    {
     "data": {
      "text/plain": [
       "_STATE      float64\n",
       "IYEAR         int64\n",
       "GENHLTH     float64\n",
       "PHYSHLTH    float64\n",
       "MENTHLTH    float64\n",
       "POORHLTH    float64\n",
       "HLTHPLN1    float64\n",
       "PERSDOC2    float64\n",
       "MEDCOST     float64\n",
       "CHECKUP1    float64\n",
       "BPHIGH4     float64\n",
       "TOLDHI2     float64\n",
       "CVDINFR4    float64\n",
       "CVDCRHD4    float64\n",
       "CVDSTRK3    float64\n",
       "ASTHMA3     float64\n",
       "ASTHNOW     float64\n",
       "CHCCOPD     float64\n",
       "HAVARTH3    float64\n",
       "ADDEPEV2    float64\n",
       "CHCKIDNY    float64\n",
       "DIABETE3    float64\n",
       "SEX         float64\n",
       "MARITAL     float64\n",
       "EDUCA       float64\n",
       "RENTHOM1    float64\n",
       "EMPLOY      float64\n",
       "SMOKE100    float64\n",
       "SMOKDAY2    float64\n",
       "USENOW3     float64\n",
       "AVEDRNK2    float64\n",
       "EXERANY2    float64\n",
       "SCNTMONY    float64\n",
       "SCNTMEAL    float64\n",
       "ADPLEASR    float64\n",
       "ADDOWN      float64\n",
       "ADSLEEP     float64\n",
       "ADENERGY    float64\n",
       "ADEAT1      float64\n",
       "ADFAIL      float64\n",
       "ADTHINK     float64\n",
       "ADMOVE      float64\n",
       "MISTMNT     float64\n",
       "ADANXEV     float64\n",
       "RACE2       float64\n",
       "_AGE_G      float64\n",
       "HTM4        float64\n",
       "WTKG3       float64\n",
       "_BMI5       float64\n",
       "_FRUTSUM    float64\n",
       "_VEGESUM    float64\n",
       "dtype: object"
      ]
     },
     "execution_count": 15,
     "metadata": {},
     "output_type": "execute_result"
    }
   ],
   "source": [
    "# Confirm the datatype for IYEAR\n",
    "diabetes.dtypes"
   ]
  },
  {
   "cell_type": "code",
   "execution_count": 16,
   "id": "2a0f1305",
   "metadata": {},
   "outputs": [],
   "source": [
    "# Configure settings for RDS\n",
    "mode = \"append\"\n",
    "jdbc_url=\"jdbc:postgresql://diabetesdb.cwyccvgtauvd.us-east-2.rds.amazonaws.com:5432/Diabetes_db\"\n",
    "config = {\"user\":\"postgress\", \n",
    "          \"password\": \"CWRUDataViz\", \n",
    "          \"driver\":\"org.postgresql.Driver\"}"
   ]
  },
  {
   "cell_type": "code",
   "execution_count": 17,
   "id": "33a1716b",
   "metadata": {},
   "outputs": [
    {
     "ename": "AttributeError",
     "evalue": "'DataFrame' object has no attribute 'write'",
     "output_type": "error",
     "traceback": [
      "\u001b[0;31m---------------------------------------------------------------------------\u001b[0m",
      "\u001b[0;31mAttributeError\u001b[0m                            Traceback (most recent call last)",
      "\u001b[1;32m/Users/theresaszoke/Desktop/Classwork/diabetes/Diabetes_Data_Prep.ipynb Cell 18\u001b[0m in \u001b[0;36m<cell line: 2>\u001b[0;34m()\u001b[0m\n\u001b[1;32m      <a href='vscode-notebook-cell:/Users/theresaszoke/Desktop/Classwork/diabetes/Diabetes_Data_Prep.ipynb#X25sZmlsZQ%3D%3D?line=0'>1</a>\u001b[0m \u001b[39m# Export data to load into SQL DB\u001b[39;00m\n\u001b[0;32m----> <a href='vscode-notebook-cell:/Users/theresaszoke/Desktop/Classwork/diabetes/Diabetes_Data_Prep.ipynb#X25sZmlsZQ%3D%3D?line=1'>2</a>\u001b[0m diabetes\u001b[39m.\u001b[39;49mwrite\u001b[39m.\u001b[39mjdbc(url\u001b[39m=\u001b[39mjdbc_url, table\u001b[39m=\u001b[39m\u001b[39m'\u001b[39m\u001b[39mdiabetes\u001b[39m\u001b[39m'\u001b[39m, mode\u001b[39m=\u001b[39mmode, properties\u001b[39m=\u001b[39mconfig)\n",
      "File \u001b[0;32m~/opt/anaconda3/envs/CWRU_PythonData/lib/python3.9/site-packages/pandas/core/generic.py:5575\u001b[0m, in \u001b[0;36mNDFrame.__getattr__\u001b[0;34m(self, name)\u001b[0m\n\u001b[1;32m   5568\u001b[0m \u001b[39mif\u001b[39;00m (\n\u001b[1;32m   5569\u001b[0m     name \u001b[39mnot\u001b[39;00m \u001b[39min\u001b[39;00m \u001b[39mself\u001b[39m\u001b[39m.\u001b[39m_internal_names_set\n\u001b[1;32m   5570\u001b[0m     \u001b[39mand\u001b[39;00m name \u001b[39mnot\u001b[39;00m \u001b[39min\u001b[39;00m \u001b[39mself\u001b[39m\u001b[39m.\u001b[39m_metadata\n\u001b[1;32m   5571\u001b[0m     \u001b[39mand\u001b[39;00m name \u001b[39mnot\u001b[39;00m \u001b[39min\u001b[39;00m \u001b[39mself\u001b[39m\u001b[39m.\u001b[39m_accessors\n\u001b[1;32m   5572\u001b[0m     \u001b[39mand\u001b[39;00m \u001b[39mself\u001b[39m\u001b[39m.\u001b[39m_info_axis\u001b[39m.\u001b[39m_can_hold_identifiers_and_holds_name(name)\n\u001b[1;32m   5573\u001b[0m ):\n\u001b[1;32m   5574\u001b[0m     \u001b[39mreturn\u001b[39;00m \u001b[39mself\u001b[39m[name]\n\u001b[0;32m-> 5575\u001b[0m \u001b[39mreturn\u001b[39;00m \u001b[39mobject\u001b[39;49m\u001b[39m.\u001b[39;49m\u001b[39m__getattribute__\u001b[39;49m(\u001b[39mself\u001b[39;49m, name)\n",
      "\u001b[0;31mAttributeError\u001b[0m: 'DataFrame' object has no attribute 'write'"
     ]
    }
   ],
   "source": [
    "# Export data to load into SQL DB\n",
    "diabetes.write.jdbc(url=jdbc_url, table='diabetes', mode=mode, properties=config)"
   ]
  },
  {
   "cell_type": "code",
   "execution_count": 18,
   "id": "b07cbfee",
   "metadata": {},
   "outputs": [],
   "source": [
    "# Export data to load into SQL DB\n",
    "diabetes.to_csv(\"diabetes.csv\", index=False)"
   ]
  }
 ],
 "metadata": {
  "kernelspec": {
   "display_name": "CWRU_PythonData",
   "language": "python",
   "name": "python3"
  },
  "language_info": {
   "codemirror_mode": {
    "name": "ipython",
    "version": 3
   },
   "file_extension": ".py",
   "mimetype": "text/x-python",
   "name": "python",
   "nbconvert_exporter": "python",
   "pygments_lexer": "ipython3",
   "version": "3.9.13"
  },
  "vscode": {
   "interpreter": {
    "hash": "a44572e9e5e8a801729e5bb1a69ff94ee26ee6fbf68f0f5f3eac25d7fb5c6406"
   }
  }
 },
 "nbformat": 4,
 "nbformat_minor": 5
}
