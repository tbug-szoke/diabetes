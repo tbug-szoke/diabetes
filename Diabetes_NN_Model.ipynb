{
  "nbformat": 4,
  "nbformat_minor": 0,
  "metadata": {
    "colab": {
      "provenance": []
    },
    "kernelspec": {
      "name": "python3",
      "display_name": "Python 3"
    },
    "language_info": {
      "name": "python"
    }
  },
  "cells": [
    {
      "cell_type": "code",
      "execution_count": 1,
      "metadata": {
        "id": "MRIwosP9l0ve"
      },
      "outputs": [],
      "source": [
        "# Dependencies\n",
        "import numpy as np\n",
        "import pandas as pd\n",
        "from sqlalchemy import create_engine\n",
        "from config import db_password \n",
        "import matplotlib.pyplot as plt\n",
        "from sklearn import metrics\n",
        "from sklearn.preprocessing import StandardScaler\n",
        "from sklearn.model_selection import train_test_split\n",
        "from sklearn.metrics import confusion_matrix, accuracy_score, mean_squared_error, r2_score, roc_auc_score, roc_curve, classification_report\n",
        "from sklearn.linear_model import LogisticRegression\n",
        "from sklearn.svm import SVC\n",
        "from sklearn.neural_network import MLPClassifier\n",
        "from sklearn.tree import DecisionTreeClassifier\n",
        "from sklearn.ensemble import RandomForestClassifier\n",
        "from sklearn.ensemble import GradientBoostingClassifier\n",
        "from collections import Counter\n",
        "import tensorflow as tf\n",
        "import warnings\n",
        "warnings.simplefilter(action = \"ignore\") "
      ]
    },
    {
      "cell_type": "code",
      "source": [
        "# Connect to diabetes RDS database\n",
        "# Define connection\n",
        "DATABASES = {\n",
        "    'production':{\n",
        "        'NAME': 'Diabetes_db',\n",
        "        'USER': 'postgres',\n",
        "        'PASSWORD': db_password,\n",
        "        'HOST': 'diabetesdb.cwyccvgtauvd.us-east-2.rds.amazonaws.com',\n",
        "        'PORT': 5432,\n",
        "    },\n",
        "}\n",
        "\n",
        "# Choose the database\n",
        "db = DATABASES['production']\n",
        "\n",
        "# construct an engine connection string\n",
        "engine_string = \"postgresql+psycopg2://{user}:{password}@{host}:{port}/{database}\".format(\n",
        "    user = db['USER'],\n",
        "    password = db['PASSWORD'],\n",
        "    host = db['HOST'],\n",
        "    port = db['PORT'],\n",
        "    database = db['NAME'],\n",
        ")\n",
        "\n",
        "# create sqlalchemy engine\n",
        "engine = create_engine(engine_string)\n",
        "\n",
        "# read a table from database into pandas dataframe, replace \"tablename\" with your table name\n",
        "df = pd.read_sql_table('diabetes',engine)\n",
        "df.shape"
      ],
      "metadata": {
        "colab": {
          "base_uri": "https://localhost:8080/"
        },
        "id": "dmzMRXt0ZIWl",
        "outputId": "31dad93e-fbd5-487c-b8bf-c17c343a147a"
      },
      "execution_count": 3,
      "outputs": [
        {
          "output_type": "execute_result",
          "data": {
            "text/plain": [
              "(945188, 52)"
            ]
          },
          "metadata": {},
          "execution_count": 3
        }
      ]
    },
    {
      "cell_type": "code",
      "source": [
        "# Remove NaN Values from all other fields (Features); replace with a value that is unused in the raw data set (aka 100)\n",
        "df.fillna(100, inplace=True)"
      ],
      "metadata": {
        "id": "T_fvrvrvnNFp"
      },
      "execution_count": 4,
      "outputs": []
    },
    {
      "cell_type": "code",
      "source": [
        "# split the data into X (features) and y (target):\n",
        "\n",
        "y = df['diabete3']\n",
        "X = df.drop(columns=['diabete3','id','_state','iyear','htm4','wtkg3'])\n",
        "X.describe()"
      ],
      "metadata": {
        "colab": {
          "base_uri": "https://localhost:8080/",
          "height": 394
        },
        "id": "r_yAmFqxnTsN",
        "outputId": "06198355-de6d-4cc6-ae84-1d62dff2adf6"
      },
      "execution_count": 5,
      "outputs": [
        {
          "output_type": "execute_result",
          "data": {
            "text/plain": [
              "             genhlth       physhlth       menthlth       poorhlth  \\\n",
              "count  945188.000000  945188.000000  945188.000000  945188.000000   \n",
              "mean        2.592309      60.631176      64.399970      77.237957   \n",
              "std         1.154237      37.041350      35.926294      35.066144   \n",
              "min         1.000000       1.000000       1.000000       1.000000   \n",
              "25%         2.000000      15.000000      25.000000      88.000000   \n",
              "50%         3.000000      88.000000      88.000000      88.000000   \n",
              "75%         3.000000      88.000000      88.000000     100.000000   \n",
              "max       100.000000     100.000000      99.000000     100.000000   \n",
              "\n",
              "            hlthpln1       persdoc2        medcost       checkup1  \\\n",
              "count  945188.000000  945188.000000  945188.000000  945188.000000   \n",
              "mean        1.119785       1.391746       1.900935       1.601569   \n",
              "std         0.504575       0.817551       0.438216       1.270311   \n",
              "min         1.000000       1.000000       1.000000       1.000000   \n",
              "25%         1.000000       1.000000       2.000000       1.000000   \n",
              "50%         1.000000       1.000000       2.000000       1.000000   \n",
              "75%         1.000000       1.000000       2.000000       2.000000   \n",
              "max         9.000000       9.000000     100.000000     100.000000   \n",
              "\n",
              "             bphigh4        toldhi2  ...         adfail        adthink  \\\n",
              "count  945188.000000  945188.000000  ...  945188.000000  945188.000000   \n",
              "mean        2.215451      15.056277  ...      99.036208      99.093822   \n",
              "std         1.060227      33.788468  ...       7.721615       7.306799   \n",
              "min         1.000000       1.000000  ...       1.000000       1.000000   \n",
              "25%         1.000000       1.000000  ...     100.000000     100.000000   \n",
              "50%         3.000000       2.000000  ...     100.000000     100.000000   \n",
              "75%         3.000000       2.000000  ...     100.000000     100.000000   \n",
              "max       100.000000     100.000000  ...     100.000000     100.000000   \n",
              "\n",
              "              admove        mistmnt        adanxev          _race  \\\n",
              "count  945188.000000  945188.000000  945188.000000  945188.000000   \n",
              "mean       99.253851      96.388232      96.389104       1.990272   \n",
              "std         6.044232      18.475206      18.474111       2.495198   \n",
              "min         1.000000       1.000000       1.000000       1.000000   \n",
              "25%       100.000000     100.000000     100.000000       1.000000   \n",
              "50%       100.000000     100.000000     100.000000       1.000000   \n",
              "75%       100.000000     100.000000     100.000000       1.000000   \n",
              "max       100.000000     100.000000     100.000000     100.000000   \n",
              "\n",
              "              _age_g          _bmi5      _frutsum      _vegesum  \n",
              "count  945188.000000  945188.000000  9.451880e+05  9.451880e+05  \n",
              "mean        4.422571    2603.159951  1.382295e+02  1.845304e+02  \n",
              "std         1.526921     908.311942  1.311997e+02  1.438683e+02  \n",
              "min         1.000000     100.000000  5.397605e-79  5.397605e-79  \n",
              "25%         3.000000    2289.000000  6.000000e+01  1.000000e+02  \n",
              "50%         5.000000    2645.000000  1.000000e+02  1.570000e+02  \n",
              "75%         6.000000    3034.000000  2.000000e+02  2.330000e+02  \n",
              "max         6.000000    9995.000000  1.500000e+04  2.046000e+04  \n",
              "\n",
              "[8 rows x 46 columns]"
            ],
            "text/html": [
              "\n",
              "  <div id=\"df-b82def16-6a30-4daf-b6fd-4e35295f19f4\">\n",
              "    <div class=\"colab-df-container\">\n",
              "      <div>\n",
              "<style scoped>\n",
              "    .dataframe tbody tr th:only-of-type {\n",
              "        vertical-align: middle;\n",
              "    }\n",
              "\n",
              "    .dataframe tbody tr th {\n",
              "        vertical-align: top;\n",
              "    }\n",
              "\n",
              "    .dataframe thead th {\n",
              "        text-align: right;\n",
              "    }\n",
              "</style>\n",
              "<table border=\"1\" class=\"dataframe\">\n",
              "  <thead>\n",
              "    <tr style=\"text-align: right;\">\n",
              "      <th></th>\n",
              "      <th>genhlth</th>\n",
              "      <th>physhlth</th>\n",
              "      <th>menthlth</th>\n",
              "      <th>poorhlth</th>\n",
              "      <th>hlthpln1</th>\n",
              "      <th>persdoc2</th>\n",
              "      <th>medcost</th>\n",
              "      <th>checkup1</th>\n",
              "      <th>bphigh4</th>\n",
              "      <th>toldhi2</th>\n",
              "      <th>...</th>\n",
              "      <th>adfail</th>\n",
              "      <th>adthink</th>\n",
              "      <th>admove</th>\n",
              "      <th>mistmnt</th>\n",
              "      <th>adanxev</th>\n",
              "      <th>_race</th>\n",
              "      <th>_age_g</th>\n",
              "      <th>_bmi5</th>\n",
              "      <th>_frutsum</th>\n",
              "      <th>_vegesum</th>\n",
              "    </tr>\n",
              "  </thead>\n",
              "  <tbody>\n",
              "    <tr>\n",
              "      <th>count</th>\n",
              "      <td>945188.000000</td>\n",
              "      <td>945188.000000</td>\n",
              "      <td>945188.000000</td>\n",
              "      <td>945188.000000</td>\n",
              "      <td>945188.000000</td>\n",
              "      <td>945188.000000</td>\n",
              "      <td>945188.000000</td>\n",
              "      <td>945188.000000</td>\n",
              "      <td>945188.000000</td>\n",
              "      <td>945188.000000</td>\n",
              "      <td>...</td>\n",
              "      <td>945188.000000</td>\n",
              "      <td>945188.000000</td>\n",
              "      <td>945188.000000</td>\n",
              "      <td>945188.000000</td>\n",
              "      <td>945188.000000</td>\n",
              "      <td>945188.000000</td>\n",
              "      <td>945188.000000</td>\n",
              "      <td>945188.000000</td>\n",
              "      <td>9.451880e+05</td>\n",
              "      <td>9.451880e+05</td>\n",
              "    </tr>\n",
              "    <tr>\n",
              "      <th>mean</th>\n",
              "      <td>2.592309</td>\n",
              "      <td>60.631176</td>\n",
              "      <td>64.399970</td>\n",
              "      <td>77.237957</td>\n",
              "      <td>1.119785</td>\n",
              "      <td>1.391746</td>\n",
              "      <td>1.900935</td>\n",
              "      <td>1.601569</td>\n",
              "      <td>2.215451</td>\n",
              "      <td>15.056277</td>\n",
              "      <td>...</td>\n",
              "      <td>99.036208</td>\n",
              "      <td>99.093822</td>\n",
              "      <td>99.253851</td>\n",
              "      <td>96.388232</td>\n",
              "      <td>96.389104</td>\n",
              "      <td>1.990272</td>\n",
              "      <td>4.422571</td>\n",
              "      <td>2603.159951</td>\n",
              "      <td>1.382295e+02</td>\n",
              "      <td>1.845304e+02</td>\n",
              "    </tr>\n",
              "    <tr>\n",
              "      <th>std</th>\n",
              "      <td>1.154237</td>\n",
              "      <td>37.041350</td>\n",
              "      <td>35.926294</td>\n",
              "      <td>35.066144</td>\n",
              "      <td>0.504575</td>\n",
              "      <td>0.817551</td>\n",
              "      <td>0.438216</td>\n",
              "      <td>1.270311</td>\n",
              "      <td>1.060227</td>\n",
              "      <td>33.788468</td>\n",
              "      <td>...</td>\n",
              "      <td>7.721615</td>\n",
              "      <td>7.306799</td>\n",
              "      <td>6.044232</td>\n",
              "      <td>18.475206</td>\n",
              "      <td>18.474111</td>\n",
              "      <td>2.495198</td>\n",
              "      <td>1.526921</td>\n",
              "      <td>908.311942</td>\n",
              "      <td>1.311997e+02</td>\n",
              "      <td>1.438683e+02</td>\n",
              "    </tr>\n",
              "    <tr>\n",
              "      <th>min</th>\n",
              "      <td>1.000000</td>\n",
              "      <td>1.000000</td>\n",
              "      <td>1.000000</td>\n",
              "      <td>1.000000</td>\n",
              "      <td>1.000000</td>\n",
              "      <td>1.000000</td>\n",
              "      <td>1.000000</td>\n",
              "      <td>1.000000</td>\n",
              "      <td>1.000000</td>\n",
              "      <td>1.000000</td>\n",
              "      <td>...</td>\n",
              "      <td>1.000000</td>\n",
              "      <td>1.000000</td>\n",
              "      <td>1.000000</td>\n",
              "      <td>1.000000</td>\n",
              "      <td>1.000000</td>\n",
              "      <td>1.000000</td>\n",
              "      <td>1.000000</td>\n",
              "      <td>100.000000</td>\n",
              "      <td>5.397605e-79</td>\n",
              "      <td>5.397605e-79</td>\n",
              "    </tr>\n",
              "    <tr>\n",
              "      <th>25%</th>\n",
              "      <td>2.000000</td>\n",
              "      <td>15.000000</td>\n",
              "      <td>25.000000</td>\n",
              "      <td>88.000000</td>\n",
              "      <td>1.000000</td>\n",
              "      <td>1.000000</td>\n",
              "      <td>2.000000</td>\n",
              "      <td>1.000000</td>\n",
              "      <td>1.000000</td>\n",
              "      <td>1.000000</td>\n",
              "      <td>...</td>\n",
              "      <td>100.000000</td>\n",
              "      <td>100.000000</td>\n",
              "      <td>100.000000</td>\n",
              "      <td>100.000000</td>\n",
              "      <td>100.000000</td>\n",
              "      <td>1.000000</td>\n",
              "      <td>3.000000</td>\n",
              "      <td>2289.000000</td>\n",
              "      <td>6.000000e+01</td>\n",
              "      <td>1.000000e+02</td>\n",
              "    </tr>\n",
              "    <tr>\n",
              "      <th>50%</th>\n",
              "      <td>3.000000</td>\n",
              "      <td>88.000000</td>\n",
              "      <td>88.000000</td>\n",
              "      <td>88.000000</td>\n",
              "      <td>1.000000</td>\n",
              "      <td>1.000000</td>\n",
              "      <td>2.000000</td>\n",
              "      <td>1.000000</td>\n",
              "      <td>3.000000</td>\n",
              "      <td>2.000000</td>\n",
              "      <td>...</td>\n",
              "      <td>100.000000</td>\n",
              "      <td>100.000000</td>\n",
              "      <td>100.000000</td>\n",
              "      <td>100.000000</td>\n",
              "      <td>100.000000</td>\n",
              "      <td>1.000000</td>\n",
              "      <td>5.000000</td>\n",
              "      <td>2645.000000</td>\n",
              "      <td>1.000000e+02</td>\n",
              "      <td>1.570000e+02</td>\n",
              "    </tr>\n",
              "    <tr>\n",
              "      <th>75%</th>\n",
              "      <td>3.000000</td>\n",
              "      <td>88.000000</td>\n",
              "      <td>88.000000</td>\n",
              "      <td>100.000000</td>\n",
              "      <td>1.000000</td>\n",
              "      <td>1.000000</td>\n",
              "      <td>2.000000</td>\n",
              "      <td>2.000000</td>\n",
              "      <td>3.000000</td>\n",
              "      <td>2.000000</td>\n",
              "      <td>...</td>\n",
              "      <td>100.000000</td>\n",
              "      <td>100.000000</td>\n",
              "      <td>100.000000</td>\n",
              "      <td>100.000000</td>\n",
              "      <td>100.000000</td>\n",
              "      <td>1.000000</td>\n",
              "      <td>6.000000</td>\n",
              "      <td>3034.000000</td>\n",
              "      <td>2.000000e+02</td>\n",
              "      <td>2.330000e+02</td>\n",
              "    </tr>\n",
              "    <tr>\n",
              "      <th>max</th>\n",
              "      <td>100.000000</td>\n",
              "      <td>100.000000</td>\n",
              "      <td>99.000000</td>\n",
              "      <td>100.000000</td>\n",
              "      <td>9.000000</td>\n",
              "      <td>9.000000</td>\n",
              "      <td>100.000000</td>\n",
              "      <td>100.000000</td>\n",
              "      <td>100.000000</td>\n",
              "      <td>100.000000</td>\n",
              "      <td>...</td>\n",
              "      <td>100.000000</td>\n",
              "      <td>100.000000</td>\n",
              "      <td>100.000000</td>\n",
              "      <td>100.000000</td>\n",
              "      <td>100.000000</td>\n",
              "      <td>100.000000</td>\n",
              "      <td>6.000000</td>\n",
              "      <td>9995.000000</td>\n",
              "      <td>1.500000e+04</td>\n",
              "      <td>2.046000e+04</td>\n",
              "    </tr>\n",
              "  </tbody>\n",
              "</table>\n",
              "<p>8 rows × 46 columns</p>\n",
              "</div>\n",
              "      <button class=\"colab-df-convert\" onclick=\"convertToInteractive('df-b82def16-6a30-4daf-b6fd-4e35295f19f4')\"\n",
              "              title=\"Convert this dataframe to an interactive table.\"\n",
              "              style=\"display:none;\">\n",
              "        \n",
              "  <svg xmlns=\"http://www.w3.org/2000/svg\" height=\"24px\"viewBox=\"0 0 24 24\"\n",
              "       width=\"24px\">\n",
              "    <path d=\"M0 0h24v24H0V0z\" fill=\"none\"/>\n",
              "    <path d=\"M18.56 5.44l.94 2.06.94-2.06 2.06-.94-2.06-.94-.94-2.06-.94 2.06-2.06.94zm-11 1L8.5 8.5l.94-2.06 2.06-.94-2.06-.94L8.5 2.5l-.94 2.06-2.06.94zm10 10l.94 2.06.94-2.06 2.06-.94-2.06-.94-.94-2.06-.94 2.06-2.06.94z\"/><path d=\"M17.41 7.96l-1.37-1.37c-.4-.4-.92-.59-1.43-.59-.52 0-1.04.2-1.43.59L10.3 9.45l-7.72 7.72c-.78.78-.78 2.05 0 2.83L4 21.41c.39.39.9.59 1.41.59.51 0 1.02-.2 1.41-.59l7.78-7.78 2.81-2.81c.8-.78.8-2.07 0-2.86zM5.41 20L4 18.59l7.72-7.72 1.47 1.35L5.41 20z\"/>\n",
              "  </svg>\n",
              "      </button>\n",
              "      \n",
              "  <style>\n",
              "    .colab-df-container {\n",
              "      display:flex;\n",
              "      flex-wrap:wrap;\n",
              "      gap: 12px;\n",
              "    }\n",
              "\n",
              "    .colab-df-convert {\n",
              "      background-color: #E8F0FE;\n",
              "      border: none;\n",
              "      border-radius: 50%;\n",
              "      cursor: pointer;\n",
              "      display: none;\n",
              "      fill: #1967D2;\n",
              "      height: 32px;\n",
              "      padding: 0 0 0 0;\n",
              "      width: 32px;\n",
              "    }\n",
              "\n",
              "    .colab-df-convert:hover {\n",
              "      background-color: #E2EBFA;\n",
              "      box-shadow: 0px 1px 2px rgba(60, 64, 67, 0.3), 0px 1px 3px 1px rgba(60, 64, 67, 0.15);\n",
              "      fill: #174EA6;\n",
              "    }\n",
              "\n",
              "    [theme=dark] .colab-df-convert {\n",
              "      background-color: #3B4455;\n",
              "      fill: #D2E3FC;\n",
              "    }\n",
              "\n",
              "    [theme=dark] .colab-df-convert:hover {\n",
              "      background-color: #434B5C;\n",
              "      box-shadow: 0px 1px 3px 1px rgba(0, 0, 0, 0.15);\n",
              "      filter: drop-shadow(0px 1px 2px rgba(0, 0, 0, 0.3));\n",
              "      fill: #FFFFFF;\n",
              "    }\n",
              "  </style>\n",
              "\n",
              "      <script>\n",
              "        const buttonEl =\n",
              "          document.querySelector('#df-b82def16-6a30-4daf-b6fd-4e35295f19f4 button.colab-df-convert');\n",
              "        buttonEl.style.display =\n",
              "          google.colab.kernel.accessAllowed ? 'block' : 'none';\n",
              "\n",
              "        async function convertToInteractive(key) {\n",
              "          const element = document.querySelector('#df-b82def16-6a30-4daf-b6fd-4e35295f19f4');\n",
              "          const dataTable =\n",
              "            await google.colab.kernel.invokeFunction('convertToInteractive',\n",
              "                                                     [key], {});\n",
              "          if (!dataTable) return;\n",
              "\n",
              "          const docLinkHtml = 'Like what you see? Visit the ' +\n",
              "            '<a target=\"_blank\" href=https://colab.research.google.com/notebooks/data_table.ipynb>data table notebook</a>'\n",
              "            + ' to learn more about interactive tables.';\n",
              "          element.innerHTML = '';\n",
              "          dataTable['output_type'] = 'display_data';\n",
              "          await google.colab.output.renderOutput(dataTable, element);\n",
              "          const docLink = document.createElement('div');\n",
              "          docLink.innerHTML = docLinkHtml;\n",
              "          element.appendChild(docLink);\n",
              "        }\n",
              "      </script>\n",
              "    </div>\n",
              "  </div>\n",
              "  "
            ]
          },
          "metadata": {},
          "execution_count": 5
        }
      ]
    },
    {
      "cell_type": "code",
      "source": [
        "# check balance of target column\n",
        "y.value_counts()"
      ],
      "metadata": {
        "colab": {
          "base_uri": "https://localhost:8080/"
        },
        "id": "YPjyDuVInYep",
        "outputId": "93b84c19-cb73-4fb0-8050-adc61839f308"
      },
      "execution_count": 6,
      "outputs": [
        {
          "output_type": "execute_result",
          "data": {
            "text/plain": [
              "0.0    809602\n",
              "1.0    119717\n",
              "4.0     15869\n",
              "Name: diabete3, dtype: int64"
            ]
          },
          "metadata": {},
          "execution_count": 6
        }
      ]
    },
    {
      "cell_type": "code",
      "source": [
        "# Transform y values to 0 = no diabetes; 1 = yes, diabetes.  Per BRFSS codebook 4 = prediabetes and we consider this as 'yes, diabetes'\n",
        "\n",
        "y = y.replace({4:1})\n",
        "y.value_counts()"
      ],
      "metadata": {
        "colab": {
          "base_uri": "https://localhost:8080/"
        },
        "id": "dVALYjvWngn_",
        "outputId": "a2f2e44e-7c15-420c-c12a-5f967b530364"
      },
      "execution_count": 7,
      "outputs": [
        {
          "output_type": "execute_result",
          "data": {
            "text/plain": [
              "0.0    809602\n",
              "1.0    135586\n",
              "Name: diabete3, dtype: int64"
            ]
          },
          "metadata": {},
          "execution_count": 7
        }
      ]
    },
    {
      "cell_type": "code",
      "source": [
        "# Split into training and testing data sets\n",
        "# Remove test size paramenter\n",
        "X_train, X_test, y_train, y_test = train_test_split(X,y)\n",
        "\n",
        "Counter(y_train)"
      ],
      "metadata": {
        "colab": {
          "base_uri": "https://localhost:8080/"
        },
        "id": "rr4A1lmyniA7",
        "outputId": "bec256b4-26ae-4392-de79-efcfcb9838d5"
      },
      "execution_count": 8,
      "outputs": [
        {
          "output_type": "execute_result",
          "data": {
            "text/plain": [
              "Counter({0.0: 606872, 1.0: 102019})"
            ]
          },
          "metadata": {},
          "execution_count": 8
        }
      ]
    },
    {
      "cell_type": "code",
      "source": [
        "# Scale the data\n",
        "\n",
        "scaler = StandardScaler()\n",
        "# Fitting the Standard Scaler with the training data.\n",
        "X_scaler = scaler.fit(X_train)\n",
        "\n",
        "# Scaling the data.\n",
        "X_train_scaled = X_scaler.transform(X_train)\n",
        "X_test_scaled = X_scaler.transform(X_test)"
      ],
      "metadata": {
        "id": "0UZMKZmenl4c"
      },
      "execution_count": 9,
      "outputs": []
    },
    {
      "cell_type": "code",
      "source": [
        "# Define the model - deep neural net\n",
        "number_input_features = len(X_train_scaled[0])\n",
        "hidden_nodes_layer1 = 92\n",
        "\n",
        "nn = tf.keras.models.Sequential()\n",
        "\n",
        "# First hidden layer\n",
        "nn.add(\n",
        "    tf.keras.layers.Dense(units=hidden_nodes_layer1, input_dim=number_input_features, activation=\"relu\")\n",
        ")\n",
        "\n",
        "\n",
        "# Output layer\n",
        "nn.add(tf.keras.layers.Dense(units=1, activation=\"sigmoid\"))\n",
        "\n",
        "# Check the structure of the model\n",
        "nn.summary()"
      ],
      "metadata": {
        "colab": {
          "base_uri": "https://localhost:8080/"
        },
        "id": "cfkTbIzwnp1N",
        "outputId": "62f07437-78f8-4f84-f098-bbbe8d2056ce"
      },
      "execution_count": 10,
      "outputs": [
        {
          "output_type": "stream",
          "name": "stdout",
          "text": [
            "Model: \"sequential\"\n",
            "_________________________________________________________________\n",
            " Layer (type)                Output Shape              Param #   \n",
            "=================================================================\n",
            " dense (Dense)               (None, 92)                4324      \n",
            "                                                                 \n",
            " dense_1 (Dense)             (None, 1)                 93        \n",
            "                                                                 \n",
            "=================================================================\n",
            "Total params: 4,417\n",
            "Trainable params: 4,417\n",
            "Non-trainable params: 0\n",
            "_________________________________________________________________\n"
          ]
        }
      ]
    },
    {
      "cell_type": "code",
      "source": [
        "# Compile the model\n",
        "nn.compile(loss=\"binary_crossentropy\", optimizer=\"adam\", metrics=[\"accuracy\"])"
      ],
      "metadata": {
        "id": "1dNTjYbZokVE"
      },
      "execution_count": 11,
      "outputs": []
    },
    {
      "cell_type": "code",
      "source": [
        "# Train the model\n",
        "fit_model = nn.fit(X_train,y_train,epochs=100)"
      ],
      "metadata": {
        "colab": {
          "base_uri": "https://localhost:8080/"
        },
        "id": "_zZGHs1golsc",
        "outputId": "ceafaaa4-9ead-421a-c29a-9e554e1116bb"
      },
      "execution_count": 12,
      "outputs": [
        {
          "output_type": "stream",
          "name": "stdout",
          "text": [
            "Epoch 1/100\n",
            "22153/22153 [==============================] - 45s 2ms/step - loss: 0.9348 - accuracy: 0.8095\n",
            "Epoch 2/100\n",
            "22153/22153 [==============================] - 43s 2ms/step - loss: 0.5904 - accuracy: 0.8219\n",
            "Epoch 3/100\n",
            "22153/22153 [==============================] - 42s 2ms/step - loss: 0.4613 - accuracy: 0.8339\n",
            "Epoch 4/100\n",
            "22153/22153 [==============================] - 43s 2ms/step - loss: 0.3759 - accuracy: 0.8482\n",
            "Epoch 5/100\n",
            "22153/22153 [==============================] - 42s 2ms/step - loss: 0.3426 - accuracy: 0.8573\n",
            "Epoch 6/100\n",
            "22153/22153 [==============================] - 42s 2ms/step - loss: 0.3337 - accuracy: 0.8597\n",
            "Epoch 7/100\n",
            "22153/22153 [==============================] - 42s 2ms/step - loss: 0.3322 - accuracy: 0.8598\n",
            "Epoch 8/100\n",
            "22153/22153 [==============================] - 42s 2ms/step - loss: 0.3306 - accuracy: 0.8601\n",
            "Epoch 9/100\n",
            "22153/22153 [==============================] - 43s 2ms/step - loss: 0.3297 - accuracy: 0.8600\n",
            "Epoch 10/100\n",
            "22153/22153 [==============================] - 44s 2ms/step - loss: 0.3296 - accuracy: 0.8603\n",
            "Epoch 11/100\n",
            "22153/22153 [==============================] - 43s 2ms/step - loss: 0.3293 - accuracy: 0.8603\n",
            "Epoch 12/100\n",
            "22153/22153 [==============================] - 43s 2ms/step - loss: 0.3287 - accuracy: 0.8605\n",
            "Epoch 13/100\n",
            "22153/22153 [==============================] - 42s 2ms/step - loss: 0.3289 - accuracy: 0.8607\n",
            "Epoch 14/100\n",
            "22153/22153 [==============================] - 43s 2ms/step - loss: 0.3291 - accuracy: 0.8603\n",
            "Epoch 15/100\n",
            "22153/22153 [==============================] - 42s 2ms/step - loss: 0.3287 - accuracy: 0.8602\n",
            "Epoch 16/100\n",
            "22153/22153 [==============================] - 42s 2ms/step - loss: 0.3286 - accuracy: 0.8603\n",
            "Epoch 17/100\n",
            "22153/22153 [==============================] - 42s 2ms/step - loss: 0.3281 - accuracy: 0.8606\n",
            "Epoch 18/100\n",
            "22153/22153 [==============================] - 42s 2ms/step - loss: 0.3282 - accuracy: 0.8608\n",
            "Epoch 19/100\n",
            "22153/22153 [==============================] - 42s 2ms/step - loss: 0.3282 - accuracy: 0.8605\n",
            "Epoch 20/100\n",
            "22153/22153 [==============================] - 42s 2ms/step - loss: 0.3280 - accuracy: 0.8605\n",
            "Epoch 21/100\n",
            "22153/22153 [==============================] - 42s 2ms/step - loss: 0.3280 - accuracy: 0.8605\n",
            "Epoch 22/100\n",
            "22153/22153 [==============================] - 42s 2ms/step - loss: 0.3280 - accuracy: 0.8605\n",
            "Epoch 23/100\n",
            "22153/22153 [==============================] - 42s 2ms/step - loss: 0.3278 - accuracy: 0.8606\n",
            "Epoch 24/100\n",
            "22153/22153 [==============================] - 42s 2ms/step - loss: 0.3278 - accuracy: 0.8606\n",
            "Epoch 25/100\n",
            "22153/22153 [==============================] - 42s 2ms/step - loss: 0.3278 - accuracy: 0.8609\n",
            "Epoch 26/100\n",
            "22153/22153 [==============================] - 41s 2ms/step - loss: 0.3277 - accuracy: 0.8608\n",
            "Epoch 27/100\n",
            "22153/22153 [==============================] - 41s 2ms/step - loss: 0.3276 - accuracy: 0.8607\n",
            "Epoch 28/100\n",
            "22153/22153 [==============================] - 41s 2ms/step - loss: 0.3275 - accuracy: 0.8608\n",
            "Epoch 29/100\n",
            "22153/22153 [==============================] - 40s 2ms/step - loss: 0.3278 - accuracy: 0.8607\n",
            "Epoch 30/100\n",
            "22153/22153 [==============================] - 41s 2ms/step - loss: 0.3274 - accuracy: 0.8606\n",
            "Epoch 31/100\n",
            "22153/22153 [==============================] - 41s 2ms/step - loss: 0.3277 - accuracy: 0.8607\n",
            "Epoch 32/100\n",
            "22153/22153 [==============================] - 41s 2ms/step - loss: 0.3275 - accuracy: 0.8609\n",
            "Epoch 33/100\n",
            "22153/22153 [==============================] - 41s 2ms/step - loss: 0.3274 - accuracy: 0.8606\n",
            "Epoch 34/100\n",
            "22153/22153 [==============================] - 41s 2ms/step - loss: 0.3275 - accuracy: 0.8604\n",
            "Epoch 35/100\n",
            "22153/22153 [==============================] - 41s 2ms/step - loss: 0.3274 - accuracy: 0.8608\n",
            "Epoch 36/100\n",
            "22153/22153 [==============================] - 41s 2ms/step - loss: 0.3275 - accuracy: 0.8608\n",
            "Epoch 37/100\n",
            "22153/22153 [==============================] - 41s 2ms/step - loss: 0.3273 - accuracy: 0.8608\n",
            "Epoch 38/100\n",
            "22153/22153 [==============================] - 41s 2ms/step - loss: 0.3275 - accuracy: 0.8606\n",
            "Epoch 39/100\n",
            "22153/22153 [==============================] - 42s 2ms/step - loss: 0.3271 - accuracy: 0.8606\n",
            "Epoch 40/100\n",
            "22153/22153 [==============================] - 41s 2ms/step - loss: 0.3275 - accuracy: 0.8609\n",
            "Epoch 41/100\n",
            "22153/22153 [==============================] - 41s 2ms/step - loss: 0.3272 - accuracy: 0.8608\n",
            "Epoch 42/100\n",
            "22153/22153 [==============================] - 40s 2ms/step - loss: 0.3273 - accuracy: 0.8607\n",
            "Epoch 43/100\n",
            "22153/22153 [==============================] - 40s 2ms/step - loss: 0.3273 - accuracy: 0.8609\n",
            "Epoch 44/100\n",
            "22153/22153 [==============================] - 40s 2ms/step - loss: 0.3274 - accuracy: 0.8608\n",
            "Epoch 45/100\n",
            "22153/22153 [==============================] - 40s 2ms/step - loss: 0.3273 - accuracy: 0.8609\n",
            "Epoch 46/100\n",
            "22153/22153 [==============================] - 40s 2ms/step - loss: 0.3271 - accuracy: 0.8606\n",
            "Epoch 47/100\n",
            "22153/22153 [==============================] - 40s 2ms/step - loss: 0.3272 - accuracy: 0.8609\n",
            "Epoch 48/100\n",
            "22153/22153 [==============================] - 41s 2ms/step - loss: 0.3273 - accuracy: 0.8609\n",
            "Epoch 49/100\n",
            "22153/22153 [==============================] - 41s 2ms/step - loss: 0.3275 - accuracy: 0.8607\n",
            "Epoch 50/100\n",
            "22153/22153 [==============================] - 41s 2ms/step - loss: 0.3270 - accuracy: 0.8612\n",
            "Epoch 51/100\n",
            "22153/22153 [==============================] - 40s 2ms/step - loss: 0.3273 - accuracy: 0.8608\n",
            "Epoch 52/100\n",
            "22153/22153 [==============================] - 40s 2ms/step - loss: 0.3273 - accuracy: 0.8608\n",
            "Epoch 53/100\n",
            "22153/22153 [==============================] - 41s 2ms/step - loss: 0.3273 - accuracy: 0.8609\n",
            "Epoch 54/100\n",
            "22153/22153 [==============================] - 41s 2ms/step - loss: 0.3272 - accuracy: 0.8610\n",
            "Epoch 55/100\n",
            "22153/22153 [==============================] - 41s 2ms/step - loss: 0.3273 - accuracy: 0.8609\n",
            "Epoch 56/100\n",
            "22153/22153 [==============================] - 41s 2ms/step - loss: 0.3271 - accuracy: 0.8608\n",
            "Epoch 57/100\n",
            "22153/22153 [==============================] - 41s 2ms/step - loss: 0.3272 - accuracy: 0.8608\n",
            "Epoch 58/100\n",
            "22153/22153 [==============================] - 40s 2ms/step - loss: 0.3271 - accuracy: 0.8609\n",
            "Epoch 59/100\n",
            "22153/22153 [==============================] - 41s 2ms/step - loss: 0.3271 - accuracy: 0.8609\n",
            "Epoch 60/100\n",
            "22153/22153 [==============================] - 41s 2ms/step - loss: 0.3270 - accuracy: 0.8609\n",
            "Epoch 61/100\n",
            "22153/22153 [==============================] - 41s 2ms/step - loss: 0.3271 - accuracy: 0.8607\n",
            "Epoch 62/100\n",
            "22153/22153 [==============================] - 42s 2ms/step - loss: 0.3271 - accuracy: 0.8609\n",
            "Epoch 63/100\n",
            "22153/22153 [==============================] - 42s 2ms/step - loss: 0.3272 - accuracy: 0.8609\n",
            "Epoch 64/100\n",
            "22153/22153 [==============================] - 42s 2ms/step - loss: 0.3271 - accuracy: 0.8609\n",
            "Epoch 65/100\n",
            "22153/22153 [==============================] - 41s 2ms/step - loss: 0.3269 - accuracy: 0.8609\n",
            "Epoch 66/100\n",
            "22153/22153 [==============================] - 41s 2ms/step - loss: 0.3271 - accuracy: 0.8610\n",
            "Epoch 67/100\n",
            "22153/22153 [==============================] - 42s 2ms/step - loss: 0.3271 - accuracy: 0.8607\n",
            "Epoch 68/100\n",
            "22153/22153 [==============================] - 42s 2ms/step - loss: 0.3273 - accuracy: 0.8609\n",
            "Epoch 69/100\n",
            "22153/22153 [==============================] - 41s 2ms/step - loss: 0.3272 - accuracy: 0.8608\n",
            "Epoch 70/100\n",
            "22153/22153 [==============================] - 41s 2ms/step - loss: 0.3270 - accuracy: 0.8611\n",
            "Epoch 71/100\n",
            "22153/22153 [==============================] - 41s 2ms/step - loss: 0.3270 - accuracy: 0.8611\n",
            "Epoch 72/100\n",
            "22153/22153 [==============================] - 41s 2ms/step - loss: 0.3270 - accuracy: 0.8610\n",
            "Epoch 73/100\n",
            "22153/22153 [==============================] - 40s 2ms/step - loss: 0.3270 - accuracy: 0.8609\n",
            "Epoch 74/100\n",
            "22153/22153 [==============================] - 41s 2ms/step - loss: 0.3270 - accuracy: 0.8609\n",
            "Epoch 75/100\n",
            "22153/22153 [==============================] - 41s 2ms/step - loss: 0.3270 - accuracy: 0.8609\n",
            "Epoch 76/100\n",
            "22153/22153 [==============================] - 41s 2ms/step - loss: 0.3272 - accuracy: 0.8609\n",
            "Epoch 77/100\n",
            "22153/22153 [==============================] - 41s 2ms/step - loss: 0.3271 - accuracy: 0.8609\n",
            "Epoch 78/100\n",
            "22153/22153 [==============================] - 41s 2ms/step - loss: 0.3270 - accuracy: 0.8612\n",
            "Epoch 79/100\n",
            "22153/22153 [==============================] - 41s 2ms/step - loss: 0.3270 - accuracy: 0.8610\n",
            "Epoch 80/100\n",
            "22153/22153 [==============================] - 41s 2ms/step - loss: 0.3270 - accuracy: 0.8609\n",
            "Epoch 81/100\n",
            "22153/22153 [==============================] - 40s 2ms/step - loss: 0.3271 - accuracy: 0.8610\n",
            "Epoch 82/100\n",
            "22153/22153 [==============================] - 41s 2ms/step - loss: 0.3270 - accuracy: 0.8610\n",
            "Epoch 83/100\n",
            "22153/22153 [==============================] - 41s 2ms/step - loss: 0.3268 - accuracy: 0.8610\n",
            "Epoch 84/100\n",
            "22153/22153 [==============================] - 41s 2ms/step - loss: 0.3270 - accuracy: 0.8609\n",
            "Epoch 85/100\n",
            "22153/22153 [==============================] - 41s 2ms/step - loss: 0.3269 - accuracy: 0.8611\n",
            "Epoch 86/100\n",
            "22153/22153 [==============================] - 40s 2ms/step - loss: 0.3270 - accuracy: 0.8609\n",
            "Epoch 87/100\n",
            "22153/22153 [==============================] - 40s 2ms/step - loss: 0.3270 - accuracy: 0.8610\n",
            "Epoch 88/100\n",
            "22153/22153 [==============================] - 40s 2ms/step - loss: 0.3272 - accuracy: 0.8609\n",
            "Epoch 89/100\n",
            "22153/22153 [==============================] - 41s 2ms/step - loss: 0.3268 - accuracy: 0.8611\n",
            "Epoch 90/100\n",
            "22153/22153 [==============================] - 41s 2ms/step - loss: 0.3270 - accuracy: 0.8610\n",
            "Epoch 91/100\n",
            "22153/22153 [==============================] - 41s 2ms/step - loss: 0.3270 - accuracy: 0.8610\n",
            "Epoch 92/100\n",
            "22153/22153 [==============================] - 41s 2ms/step - loss: 0.3270 - accuracy: 0.8611\n",
            "Epoch 93/100\n",
            "22153/22153 [==============================] - 42s 2ms/step - loss: 0.3269 - accuracy: 0.8611\n",
            "Epoch 94/100\n",
            "22153/22153 [==============================] - 42s 2ms/step - loss: 0.3269 - accuracy: 0.8610\n",
            "Epoch 95/100\n",
            "22153/22153 [==============================] - 42s 2ms/step - loss: 0.3269 - accuracy: 0.8607\n",
            "Epoch 96/100\n",
            "22153/22153 [==============================] - 42s 2ms/step - loss: 0.3268 - accuracy: 0.8608\n",
            "Epoch 97/100\n",
            "22153/22153 [==============================] - 42s 2ms/step - loss: 0.3269 - accuracy: 0.8611\n",
            "Epoch 98/100\n",
            "22153/22153 [==============================] - 42s 2ms/step - loss: 0.3270 - accuracy: 0.8610\n",
            "Epoch 99/100\n",
            "22153/22153 [==============================] - 42s 2ms/step - loss: 0.3269 - accuracy: 0.8609\n",
            "Epoch 100/100\n",
            "22153/22153 [==============================] - 42s 2ms/step - loss: 0.3270 - accuracy: 0.8611\n"
          ]
        }
      ]
    },
    {
      "cell_type": "code",
      "source": [
        "# The NN took 1h 9m 23s to complete and the accuracies were similar to those from the RandomForestClassifier, \n",
        "# even thogh the RFC took only 1m 47.8 seconds to create and fit"
      ],
      "metadata": {
        "id": "SMJZgl3Vtqmm"
      },
      "execution_count": null,
      "outputs": []
    },
    {
      "cell_type": "code",
      "source": [
        "# Evaluate the model using the test data\n",
        "model_loss, model_accuracy = nn.evaluate(X_test,y_test,verbose=2)\n",
        "print(f\"Loss: {model_loss}, Accuracy: {model_accuracy}\")\n"
      ],
      "metadata": {
        "colab": {
          "base_uri": "https://localhost:8080/"
        },
        "id": "RS5t9TFpuAZm",
        "outputId": "9c931fd9-5fd6-48ee-b27d-598b758fda8c"
      },
      "execution_count": 13,
      "outputs": [
        {
          "output_type": "stream",
          "name": "stdout",
          "text": [
            "7385/7385 - 9s - loss: 0.3219 - accuracy: 0.8633 - 9s/epoch - 1ms/step\n",
            "Loss: 0.321900337934494, Accuracy: 0.8632695078849792\n"
          ]
        }
      ]
    },
    {
      "cell_type": "code",
      "source": [
        "# Create a DataFrame containing training history\n",
        "history_df = pd.DataFrame(fit_model.history, index=range(1,len(fit_model.history[\"loss\"])+1))\n",
        "\n",
        "# Plot the loss\n",
        "history_df.plot(y=\"loss\")"
      ],
      "metadata": {
        "colab": {
          "base_uri": "https://localhost:8080/",
          "height": 283
        },
        "id": "R4jzFzhYuZDy",
        "outputId": "323f6d53-c3ce-4dba-a94b-2ee88c510ce2"
      },
      "execution_count": 14,
      "outputs": [
        {
          "output_type": "execute_result",
          "data": {
            "text/plain": [
              "<matplotlib.axes._subplots.AxesSubplot at 0x7fd29f279700>"
            ]
          },
          "metadata": {},
          "execution_count": 14
        },
        {
          "output_type": "display_data",
          "data": {
            "text/plain": [
              "<Figure size 432x288 with 1 Axes>"
            ],
            "image/png": "[encoded data removed]"
          },
          "metadata": {
            "needs_background": "light"
          }
        }
      ]
    },
    {
      "cell_type": "code",
      "source": [
        "# Plot the accuracy\n",
        "history_df.plot(y=\"accuracy\")"
      ],
      "metadata": {
        "colab": {
          "base_uri": "https://localhost:8080/",
          "height": 283
        },
        "id": "SFwWtp3IubEN",
        "outputId": "2d08c023-9997-4202-95cb-b82f45e91577"
      },
      "execution_count": 15,
      "outputs": [
        {
          "output_type": "execute_result",
          "data": {
            "text/plain": [
              "<matplotlib.axes._subplots.AxesSubplot at 0x7fd29f1b3490>"
            ]
          },
          "metadata": {},
          "execution_count": 15
        },
        {
          "output_type": "display_data",
          "data": {
            "text/plain": [
              "<Figure size 432x288 with 1 Axes>"
            ],
            "image/png": "[encoded data removed]"
          },
          "metadata": {
            "needs_background": "light"
          }
        }
      ]
    },
    {
      "cell_type": "code",
      "source": [
        "# Let's try the Nueral Network on the simplest data set that we evaluated with the RFC model\n",
        "X=df[['_age_g','sex','bphigh4','exerany2','_race','_bmi5']]\n",
        "X.head()\n"
      ],
      "metadata": {
        "colab": {
          "base_uri": "https://localhost:8080/",
          "height": 206
        },
        "id": "4rf4I9YBunzF",
        "outputId": "5c6ae807-8e89-413e-d1a9-0867ae771258"
      },
      "execution_count": 16,
      "outputs": [
        {
          "output_type": "execute_result",
          "data": {
            "text/plain": [
              "   _age_g  sex  bphigh4  exerany2  _race   _bmi5\n",
              "0     5.0  2.0      1.0       2.0    1.0  4018.0\n",
              "1     4.0  2.0      3.0       1.0    1.0  2509.0\n",
              "2     6.0  2.0      3.0     100.0    1.0  2204.0\n",
              "3     5.0  2.0      1.0       2.0    1.0  2819.0\n",
              "4     5.0  2.0      3.0       2.0    1.0  2437.0"
            ],
            "text/html": [
              "\n",
              "  <div id=\"df-6981efdc-2344-4bc7-b292-075a33c60526\">\n",
              "    <div class=\"colab-df-container\">\n",
              "      <div>\n",
              "<style scoped>\n",
              "    .dataframe tbody tr th:only-of-type {\n",
              "        vertical-align: middle;\n",
              "    }\n",
              "\n",
              "    .dataframe tbody tr th {\n",
              "        vertical-align: top;\n",
              "    }\n",
              "\n",
              "    .dataframe thead th {\n",
              "        text-align: right;\n",
              "    }\n",
              "</style>\n",
              "<table border=\"1\" class=\"dataframe\">\n",
              "  <thead>\n",
              "    <tr style=\"text-align: right;\">\n",
              "      <th></th>\n",
              "      <th>_age_g</th>\n",
              "      <th>sex</th>\n",
              "      <th>bphigh4</th>\n",
              "      <th>exerany2</th>\n",
              "      <th>_race</th>\n",
              "      <th>_bmi5</th>\n",
              "    </tr>\n",
              "  </thead>\n",
              "  <tbody>\n",
              "    <tr>\n",
              "      <th>0</th>\n",
              "      <td>5.0</td>\n",
              "      <td>2.0</td>\n",
              "      <td>1.0</td>\n",
              "      <td>2.0</td>\n",
              "      <td>1.0</td>\n",
              "      <td>4018.0</td>\n",
              "    </tr>\n",
              "    <tr>\n",
              "      <th>1</th>\n",
              "      <td>4.0</td>\n",
              "      <td>2.0</td>\n",
              "      <td>3.0</td>\n",
              "      <td>1.0</td>\n",
              "      <td>1.0</td>\n",
              "      <td>2509.0</td>\n",
              "    </tr>\n",
              "    <tr>\n",
              "      <th>2</th>\n",
              "      <td>6.0</td>\n",
              "      <td>2.0</td>\n",
              "      <td>3.0</td>\n",
              "      <td>100.0</td>\n",
              "      <td>1.0</td>\n",
              "      <td>2204.0</td>\n",
              "    </tr>\n",
              "    <tr>\n",
              "      <th>3</th>\n",
              "      <td>5.0</td>\n",
              "      <td>2.0</td>\n",
              "      <td>1.0</td>\n",
              "      <td>2.0</td>\n",
              "      <td>1.0</td>\n",
              "      <td>2819.0</td>\n",
              "    </tr>\n",
              "    <tr>\n",
              "      <th>4</th>\n",
              "      <td>5.0</td>\n",
              "      <td>2.0</td>\n",
              "      <td>3.0</td>\n",
              "      <td>2.0</td>\n",
              "      <td>1.0</td>\n",
              "      <td>2437.0</td>\n",
              "    </tr>\n",
              "  </tbody>\n",
              "</table>\n",
              "</div>\n",
              "      <button class=\"colab-df-convert\" onclick=\"convertToInteractive('df-6981efdc-2344-4bc7-b292-075a33c60526')\"\n",
              "              title=\"Convert this dataframe to an interactive table.\"\n",
              "              style=\"display:none;\">\n",
              "        \n",
              "  <svg xmlns=\"http://www.w3.org/2000/svg\" height=\"24px\"viewBox=\"0 0 24 24\"\n",
              "       width=\"24px\">\n",
              "    <path d=\"M0 0h24v24H0V0z\" fill=\"none\"/>\n",
              "    <path d=\"M18.56 5.44l.94 2.06.94-2.06 2.06-.94-2.06-.94-.94-2.06-.94 2.06-2.06.94zm-11 1L8.5 8.5l.94-2.06 2.06-.94-2.06-.94L8.5 2.5l-.94 2.06-2.06.94zm10 10l.94 2.06.94-2.06 2.06-.94-2.06-.94-.94-2.06-.94 2.06-2.06.94z\"/><path d=\"M17.41 7.96l-1.37-1.37c-.4-.4-.92-.59-1.43-.59-.52 0-1.04.2-1.43.59L10.3 9.45l-7.72 7.72c-.78.78-.78 2.05 0 2.83L4 21.41c.39.39.9.59 1.41.59.51 0 1.02-.2 1.41-.59l7.78-7.78 2.81-2.81c.8-.78.8-2.07 0-2.86zM5.41 20L4 18.59l7.72-7.72 1.47 1.35L5.41 20z\"/>\n",
              "  </svg>\n",
              "      </button>\n",
              "      \n",
              "  <style>\n",
              "    .colab-df-container {\n",
              "      display:flex;\n",
              "      flex-wrap:wrap;\n",
              "      gap: 12px;\n",
              "    }\n",
              "\n",
              "    .colab-df-convert {\n",
              "      background-color: #E8F0FE;\n",
              "      border: none;\n",
              "      border-radius: 50%;\n",
              "      cursor: pointer;\n",
              "      display: none;\n",
              "      fill: #1967D2;\n",
              "      height: 32px;\n",
              "      padding: 0 0 0 0;\n",
              "      width: 32px;\n",
              "    }\n",
              "\n",
              "    .colab-df-convert:hover {\n",
              "      background-color: #E2EBFA;\n",
              "      box-shadow: 0px 1px 2px rgba(60, 64, 67, 0.3), 0px 1px 3px 1px rgba(60, 64, 67, 0.15);\n",
              "      fill: #174EA6;\n",
              "    }\n",
              "\n",
              "    [theme=dark] .colab-df-convert {\n",
              "      background-color: #3B4455;\n",
              "      fill: #D2E3FC;\n",
              "    }\n",
              "\n",
              "    [theme=dark] .colab-df-convert:hover {\n",
              "      background-color: #434B5C;\n",
              "      box-shadow: 0px 1px 3px 1px rgba(0, 0, 0, 0.15);\n",
              "      filter: drop-shadow(0px 1px 2px rgba(0, 0, 0, 0.3));\n",
              "      fill: #FFFFFF;\n",
              "    }\n",
              "  </style>\n",
              "\n",
              "      <script>\n",
              "        const buttonEl =\n",
              "          document.querySelector('#df-6981efdc-2344-4bc7-b292-075a33c60526 button.colab-df-convert');\n",
              "        buttonEl.style.display =\n",
              "          google.colab.kernel.accessAllowed ? 'block' : 'none';\n",
              "\n",
              "        async function convertToInteractive(key) {\n",
              "          const element = document.querySelector('#df-6981efdc-2344-4bc7-b292-075a33c60526');\n",
              "          const dataTable =\n",
              "            await google.colab.kernel.invokeFunction('convertToInteractive',\n",
              "                                                     [key], {});\n",
              "          if (!dataTable) return;\n",
              "\n",
              "          const docLinkHtml = 'Like what you see? Visit the ' +\n",
              "            '<a target=\"_blank\" href=https://colab.research.google.com/notebooks/data_table.ipynb>data table notebook</a>'\n",
              "            + ' to learn more about interactive tables.';\n",
              "          element.innerHTML = '';\n",
              "          dataTable['output_type'] = 'display_data';\n",
              "          await google.colab.output.renderOutput(dataTable, element);\n",
              "          const docLink = document.createElement('div');\n",
              "          docLink.innerHTML = docLinkHtml;\n",
              "          element.appendChild(docLink);\n",
              "        }\n",
              "      </script>\n",
              "    </div>\n",
              "  </div>\n",
              "  "
            ]
          },
          "metadata": {},
          "execution_count": 16
        }
      ]
    },
    {
      "cell_type": "code",
      "source": [
        "# Re-run model\n",
        "\n",
        "# Split into training and testing data sets\n",
        "X_train, X_test, y_train, y_test = train_test_split(X,y)\n",
        "\n",
        "Counter(y_train)"
      ],
      "metadata": {
        "colab": {
          "base_uri": "https://localhost:8080/"
        },
        "id": "bh4nq_O0vqPe",
        "outputId": "f51b9d36-f50a-4651-9b73-8dd05c6112fd"
      },
      "execution_count": 17,
      "outputs": [
        {
          "output_type": "execute_result",
          "data": {
            "text/plain": [
              "Counter({0.0: 607087, 1.0: 101804})"
            ]
          },
          "metadata": {},
          "execution_count": 17
        }
      ]
    },
    {
      "cell_type": "code",
      "source": [
        "# Scale the data\n",
        "\n",
        "scaler = StandardScaler()\n",
        "# Fitting the Standard Scaler with the training data.\n",
        "X_scaler = scaler.fit(X_train)\n",
        "\n",
        "# Scaling the data.\n",
        "X_train_scaled = X_scaler.transform(X_train)\n",
        "X_test_scaled = X_scaler.transform(X_test)"
      ],
      "metadata": {
        "id": "vh0h89suvxKr"
      },
      "execution_count": 18,
      "outputs": []
    },
    {
      "cell_type": "code",
      "source": [
        "# Define the model - deep neural net\n",
        "number_input_features = len(X_train_scaled[0])\n",
        "hidden_nodes_layer1 = 12\n",
        "\n",
        "nn = tf.keras.models.Sequential()\n",
        "\n",
        "# First hidden layer\n",
        "nn.add(\n",
        "    tf.keras.layers.Dense(units=hidden_nodes_layer1, input_dim=number_input_features, activation=\"relu\")\n",
        ")\n",
        "\n",
        "\n",
        "# Output layer\n",
        "nn.add(tf.keras.layers.Dense(units=1, activation=\"sigmoid\"))\n",
        "\n",
        "# Check the structure of the model\n",
        "nn.summary()"
      ],
      "metadata": {
        "colab": {
          "base_uri": "https://localhost:8080/"
        },
        "id": "F4t7Jxxfvy1e",
        "outputId": "78b7b984-eb68-4ece-fd33-1f3b66f241ae"
      },
      "execution_count": 19,
      "outputs": [
        {
          "output_type": "stream",
          "name": "stdout",
          "text": [
            "Model: \"sequential_1\"\n",
            "_________________________________________________________________\n",
            " Layer (type)                Output Shape              Param #   \n",
            "=================================================================\n",
            " dense_2 (Dense)             (None, 12)                84        \n",
            "                                                                 \n",
            " dense_3 (Dense)             (None, 1)                 13        \n",
            "                                                                 \n",
            "=================================================================\n",
            "Total params: 97\n",
            "Trainable params: 97\n",
            "Non-trainable params: 0\n",
            "_________________________________________________________________\n"
          ]
        }
      ]
    },
    {
      "cell_type": "code",
      "source": [
        "# Compile the model\n",
        "nn.compile(loss=\"binary_crossentropy\", optimizer=\"adam\", metrics=[\"accuracy\"])"
      ],
      "metadata": {
        "id": "S_EWzggGv9BF"
      },
      "execution_count": 20,
      "outputs": []
    },
    {
      "cell_type": "code",
      "source": [
        "# Train the model (reducing epochs based on how quickly accuracy was achieved in the first model)\n",
        "fit_model = nn.fit(X_train,y_train,epochs=25)"
      ],
      "metadata": {
        "colab": {
          "base_uri": "https://localhost:8080/"
        },
        "id": "z-fZeEApwCt1",
        "outputId": "06849eae-ba71-4eba-b1dd-0a9d43a4a6ee"
      },
      "execution_count": 21,
      "outputs": [
        {
          "output_type": "stream",
          "name": "stdout",
          "text": [
            "Epoch 1/25\n",
            "22153/22153 [==============================] - 38s 2ms/step - loss: 9.2128 - accuracy: 0.8365\n",
            "Epoch 2/25\n",
            "22153/22153 [==============================] - 35s 2ms/step - loss: 0.3837 - accuracy: 0.8478\n",
            "Epoch 3/25\n",
            "22153/22153 [==============================] - 35s 2ms/step - loss: 0.3761 - accuracy: 0.8494\n",
            "Epoch 4/25\n",
            "22153/22153 [==============================] - 35s 2ms/step - loss: 0.3723 - accuracy: 0.8508\n",
            "Epoch 5/25\n",
            "22153/22153 [==============================] - 35s 2ms/step - loss: 0.3664 - accuracy: 0.8527\n",
            "Epoch 6/25\n",
            "22153/22153 [==============================] - 35s 2ms/step - loss: 0.3599 - accuracy: 0.8547\n",
            "Epoch 7/25\n",
            "22153/22153 [==============================] - 35s 2ms/step - loss: 0.3540 - accuracy: 0.8562\n",
            "Epoch 8/25\n",
            "22153/22153 [==============================] - 35s 2ms/step - loss: 0.3519 - accuracy: 0.8563\n",
            "Epoch 9/25\n",
            "22153/22153 [==============================] - 35s 2ms/step - loss: 0.3513 - accuracy: 0.8566\n",
            "Epoch 10/25\n",
            "22153/22153 [==============================] - 35s 2ms/step - loss: 0.3506 - accuracy: 0.8569\n",
            "Epoch 11/25\n",
            "22153/22153 [==============================] - 35s 2ms/step - loss: 0.3504 - accuracy: 0.8567\n",
            "Epoch 12/25\n",
            "22153/22153 [==============================] - 34s 2ms/step - loss: 0.3503 - accuracy: 0.8567\n",
            "Epoch 13/25\n",
            "22153/22153 [==============================] - 35s 2ms/step - loss: 0.3499 - accuracy: 0.8566\n",
            "Epoch 14/25\n",
            "22153/22153 [==============================] - 36s 2ms/step - loss: 0.3498 - accuracy: 0.8566\n",
            "Epoch 15/25\n",
            "22153/22153 [==============================] - 36s 2ms/step - loss: 0.3496 - accuracy: 0.8569\n",
            "Epoch 16/25\n",
            "22153/22153 [==============================] - 35s 2ms/step - loss: 0.3495 - accuracy: 0.8569\n",
            "Epoch 17/25\n",
            "22153/22153 [==============================] - 36s 2ms/step - loss: 0.3496 - accuracy: 0.8569\n",
            "Epoch 18/25\n",
            "22153/22153 [==============================] - 36s 2ms/step - loss: 0.3494 - accuracy: 0.8569\n",
            "Epoch 19/25\n",
            "22153/22153 [==============================] - 36s 2ms/step - loss: 0.3493 - accuracy: 0.8570\n",
            "Epoch 20/25\n",
            "22153/22153 [==============================] - 36s 2ms/step - loss: 0.3492 - accuracy: 0.8569\n",
            "Epoch 21/25\n",
            "22153/22153 [==============================] - 35s 2ms/step - loss: 0.3492 - accuracy: 0.8570\n",
            "Epoch 22/25\n",
            "22153/22153 [==============================] - 35s 2ms/step - loss: 0.3490 - accuracy: 0.8571\n",
            "Epoch 23/25\n",
            "22153/22153 [==============================] - 35s 2ms/step - loss: 0.3490 - accuracy: 0.8571\n",
            "Epoch 24/25\n",
            "22153/22153 [==============================] - 35s 2ms/step - loss: 0.3491 - accuracy: 0.8570\n",
            "Epoch 25/25\n",
            "22153/22153 [==============================] - 35s 2ms/step - loss: 0.3489 - accuracy: 0.8569\n"
          ]
        }
      ]
    },
    {
      "cell_type": "code",
      "source": [
        "# Evaluate the model using the test data\n",
        "model_loss, model_accuracy = nn.evaluate(X_test,y_test,verbose=2)\n",
        "print(f\"Loss: {model_loss}, Accuracy: {model_accuracy}\")\n"
      ],
      "metadata": {
        "colab": {
          "base_uri": "https://localhost:8080/"
        },
        "id": "-GS6wWth0bY5",
        "outputId": "2ab1258d-a71f-4042-cc0f-9fff4866be11"
      },
      "execution_count": 22,
      "outputs": [
        {
          "output_type": "stream",
          "name": "stdout",
          "text": [
            "7385/7385 - 8s - loss: 0.3521 - accuracy: 0.8556 - 8s/epoch - 1ms/step\n",
            "Loss: 0.3521304130554199, Accuracy: 0.8556308150291443\n"
          ]
        }
      ]
    },
    {
      "cell_type": "code",
      "source": [],
      "metadata": {
        "id": "dhG3F-xC0kiU"
      },
      "execution_count": null,
      "outputs": []
    }
  ]
}