{
 "cells": [
  {
   "cell_type": "code",
   "execution_count": null,
   "id": "c78899f8",
   "metadata": {},
   "outputs": [],
   "source": [
    "# Importing Libraries "
   ]
  },
  {
   "cell_type": "code",
   "execution_count": null,
   "id": "14d63dff",
   "metadata": {},
   "outputs": [],
   "source": [
    "# imports required \n",
    "import numpy as np\n",
    "import pandas as pd \n",
    "import statsmodels.api as sm\n",
    "import seaborn as sns\n",
    "import matplotlib.pyplot as plt\n",
    "from sklearn.preprocessing import scale, StandardScaler\n",
    "from sklearn.model_selection import train_test_split, GridSearchCV, cross_val_score\n",
    "from sklearn.metrics import confusion_matrix, accuracy_score, mean_squared_error, r2_score, roc_auc_score, roc_curve, classification_report\n",
    "from sklearn.linear_model import LogisticRegression\n",
    "from sklearn.neighbors import KNeighborsClassifier\n",
    "from sklearn.svm import SVC\n",
    "from sklearn.neural_network import MLPClassifier\n",
    "from sklearn.tree import DecisionTreeClassifier\n",
    "from sklearn.ensemble import RandomForestClassifier\n",
    "from sklearn.ensemble import GradientBoostingClassifier\n",
    "from sklearn.model_selection import KFold\n",
    "import warnings\n",
    "warnings.simplefilter(action = \"ignore\") "
   ]
  },
  {
   "cell_type": "code",
   "execution_count": null,
   "id": "358a4687",
   "metadata": {},
   "outputs": [],
   "source": [
    "# reading the dataset \n",
    "df = pd.read_csv(\"/Users/alexahoynacke/Desktop/CWRUBootcamp/Final Project/2011_Updated.csv\")"
   ]
  },
  {
   "cell_type": "code",
   "execution_count": null,
   "id": "e79db415",
   "metadata": {},
   "outputs": [],
   "source": [
    "# Data Analysis "
   ]
  },
  {
   "cell_type": "code",
   "execution_count": null,
   "id": "300cdb30",
   "metadata": {},
   "outputs": [],
   "source": [
    "# show dataset \n",
    "# The first 5 observation units of the data\n",
    "df.head()"
   ]
  },
  {
   "cell_type": "code",
   "execution_count": null,
   "id": "b6661ddf",
   "metadata": {},
   "outputs": [],
   "source": [
    "# shape of the data, columns and rows \n",
    "df.shape"
   ]
  },
  {
   "cell_type": "code",
   "execution_count": null,
   "id": "863c6bf6",
   "metadata": {},
   "outputs": [],
   "source": [
    "# data info \n",
    "df.info()"
   ]
  },
  {
   "cell_type": "code",
   "execution_count": null,
   "id": "c6566cd3",
   "metadata": {},
   "outputs": [],
   "source": [
    "# Descriptive statistics of the data\n",
    "df.describe([0.10,0.25,0.50,0.75,0.90,0.95,0.99]).T"
   ]
  },
  {
   "cell_type": "code",
   "execution_count": null,
   "id": "f3d09c9e",
   "metadata": {},
   "outputs": [],
   "source": [
    "# Check if the data set has any null values \n",
    "df.isnull().head(10)"
   ]
  },
  {
   "cell_type": "code",
   "execution_count": null,
   "id": "fbe3d639",
   "metadata": {},
   "outputs": [],
   "source": [
    "# check the number of null values \n",
    "df.isnull().sum()"
   ]
  },
  {
   "cell_type": "code",
   "execution_count": null,
   "id": "bc0ae07d",
   "metadata": {},
   "outputs": [],
   "source": [
    "# Data Visualization"
   ]
  },
  {
   "cell_type": "code",
   "execution_count": null,
   "id": "41f5f173",
   "metadata": {},
   "outputs": [],
   "source": [
    "p = df.hist(figsize = (20,20))"
   ]
  },
  {
   "cell_type": "code",
   "execution_count": null,
   "id": "4d87730c",
   "metadata": {},
   "outputs": [],
   "source": [
    "# Histogram and density graphs of variables \n",
    "fig, ax = plt.subplots(4,2, figsize=(16,16))\n",
    "sns.distplot(df.GENHLTH, bins = 20, ax=ax[0,0]) \n",
    "sns.distplot(df._AGE_G, bins = 20, ax=ax[0,1]) \n",
    "sns.distplot(df.HTM4, bins = 20, ax=ax[1,0]) \n",
    "sns.distplot(df.WTKG3, bins = 20, ax=ax[1,1]) \n",
    "sns.distplot(df._BMI5, bins = 20, ax=ax[2,0])\n",
    "sns.distplot(df._FRUTSUM, bins = 20, ax=ax[2,1])\n",
    "sns.distplot(df._VEGESUM, bins = 20, ax=ax[3,0]) \n",
    "sns.distplot(df.EXERANY2, bins = 20, ax=ax[3,1]) \n",
    "\n",
    "\n",
    " "
   ]
  },
  {
   "cell_type": "code",
   "execution_count": null,
   "id": "d168d783",
   "metadata": {},
   "outputs": [],
   "source": [
    "# Removing NAN Values "
   ]
  },
  {
   "cell_type": "code",
   "execution_count": null,
   "id": "fc9674ac",
   "metadata": {},
   "outputs": [],
   "source": [
    "df['GENHLTH'].fillna(df['GENHLTH'].mean(), inplace = True)\n",
    "df['PHYSHLTH'].fillna(df['PHYSHLTH'].mean(), inplace = True)\n",
    "df['POORHLTH'].fillna(df['POORHLTH'].median(), inplace = True)\n",
    "df['BPHIGH4'].fillna(df['BPHIGH4'].median(), inplace = True)\n",
    "df['TOLDHI2'].fillna(df['TOLDHI2'].median(), inplace = True)\n",
    "df['CVDINFR4'].fillna(df['CVDINFR4'].mean(), inplace = True)\n",
    "df['ASTHNOW'].fillna(df['ASTHNOW'].mean(), inplace = True)\n",
    "df['CHCCOPD'].fillna(df['CHCCOPD'].median(), inplace = True)\n",
    "df['HAVARTH3'].fillna(df['HAVARTH3'].median(), inplace = True)\n",
    "df['ADDEPEV2'].fillna(df['ADDEPEV2'].median(), inplace = True)\n",
    "df['CHCKIDNY'].fillna(df['CHCKIDNY'].mean(), inplace = True)\n",
    "df['DIABETE3'].fillna(df['DIABETE3'].mean(), inplace = True)\n",
    "df['SMOKDAY2'].fillna(df['SMOKDAY2'].median(), inplace = True)\n",
    "df['USENOW3'].fillna(df['USENOW3'].median(), inplace = True)\n",
    "df['MARITAL'].fillna(df['MARITAL'].median(), inplace = True)\n",
    "df['EDUCA'].fillna(df['EDUCA'].mean(), inplace = True)\n",
    "df['EMPLOY'].fillna(df['EMPLOY'].mean(), inplace = True)\n",
    "df['INCOME2'].fillna(df['INCOME2'].median(), inplace = True)\n",
    "df['RENTHOM1'].fillna(df['RENTHOM1'].median(), inplace = True)\n",
    "df['EXERANY2'].fillna(df['EXERANY2'].median(), inplace = True)\n",
    "df['ALCDAY5'].fillna(df['ALCDAY5'].mean(), inplace = True)\n",
    "df['BPHI2MR'].fillna(df['BPHI2MR'].mean(), inplace = True)\n",
    "df['ADPLEASR'].fillna(df['ADPLEASR'].median(), inplace = True)\n",
    "df['ADDOWN'].fillna(df['ADDOWN'].median(), inplace = True)\n",
    "df['ADSLEEP'].fillna(df['ADSLEEP'].median(), inplace = True)\n",
    "df['ADENERGY'].fillna(df['ADENERGY'].mean(), inplace = True)\n",
    "df['ADEAT1'].fillna(df['ADEAT1'].mean(), inplace = True)\n",
    "df['ADFAIL'].fillna(df['ADFAIL'].median(), inplace = True)\n",
    "df['ADTHINK'].fillna(df['ADTHINK'].median(), inplace = True)\n",
    "df['ADMOVE'].fillna(df['ADMOVE'].median(), inplace = True)\n",
    "df['MISTMNT'].fillna(df['MISTMNT'].mean(), inplace = True)\n",
    "df['ADANXEV'].fillna(df['ADANXEV'].mean(), inplace = True)\n",
    "df['SCNTMONY'].fillna(df['SCNTMONY'].median(), inplace = True)\n",
    "df['SCNTMEAL'].fillna(df['SCNTMEAL'].median(), inplace = True)\n",
    "df['RACE2'].fillna(df['RACE2'].median(), inplace = True)\n",
    "df['HTM4'].fillna(df['HTM4'].mean(), inplace = True)\n",
    "df['WTKG3'].fillna(df['WTKG3'].mean(), inplace = True)\n",
    "df['_BMI5'].fillna(df['_BMI5'].median(), inplace = True)\n",
    "df['_FRUTSUM'].fillna(df['_FRUTSUM'].median(), inplace = True)\n",
    "df['_VEGESUM'].fillna(df['_VEGESUM'].median(), inplace = True)"
   ]
  },
  {
   "cell_type": "code",
   "execution_count": null,
   "id": "35a665d6",
   "metadata": {},
   "outputs": [],
   "source": [
    "# Plotting the distributions after removing NAN Values "
   ]
  },
  {
   "cell_type": "code",
   "execution_count": null,
   "id": "731557e3",
   "metadata": {},
   "outputs": [],
   "source": [
    "p = df.hist(figsize = (20,20))"
   ]
  },
  {
   "cell_type": "code",
   "execution_count": null,
   "id": "98f5dbd1",
   "metadata": {},
   "outputs": [],
   "source": [
    "# Correlation between all the features "
   ]
  },
  {
   "cell_type": "code",
   "execution_count": null,
   "id": "286a3229",
   "metadata": {},
   "outputs": [],
   "source": [
    "plt.figure(figsize=(53,50))\n",
    "# seaborn has an easy method to showcase heatmap\n",
    "p = sns.heatmap(df.corr(), annot=True,cmap ='RdYlGn')"
   ]
  },
  {
   "cell_type": "code",
   "execution_count": null,
   "id": "c966eaf4",
   "metadata": {},
   "outputs": [],
   "source": [
    "df.head()"
   ]
  },
  {
   "cell_type": "code",
   "execution_count": null,
   "id": "7de8de30",
   "metadata": {},
   "outputs": [],
   "source": [
    "# Check the Diabetes column - how balanced it is "
   ]
  },
  {
   "cell_type": "code",
   "execution_count": null,
   "id": "90b35d73",
   "metadata": {},
   "outputs": [],
   "source": [
    "color_wheel = {1: \"#0392cf\", 2: \"#7bc043\"}\n",
    "colors = df[\"DIABETE3\"].map(lambda x: color_wheel.get(x + 1))\n",
    "print(df.DIABETE3.value_counts())\n",
    "p=df.DIABETE3.value_counts().plot(kind=\"bar\")"
   ]
  },
  {
   "cell_type": "code",
   "execution_count": null,
   "id": "5e3f2ef1",
   "metadata": {},
   "outputs": [],
   "source": [
    "# Scaling the Data "
   ]
  },
  {
   "cell_type": "code",
   "execution_count": null,
   "id": "ed6781aa",
   "metadata": {},
   "outputs": [],
   "source": [
    "# Scaled data so that all values are on the same scale \n",
    "sc_X = StandardScaler()\n",
    "X =  pd.DataFrame(sc_X.fit_transform(df.drop([\"DIABETE3\"],axis = 1),), columns=[\n",
    "'_STATE',\n",
    "'IYEAR',\n",
    "'GENHLTH',\n",
    "'PHYSHLTH',\n",
    "'MENTHLTH',\n",
    "'POORHLTH',\n",
    "'HLTHPLN1',\n",
    "'PERSDOC2',\n",
    "'MEDCOST',\n",
    "'CHECKUP1',\n",
    "'BPHIGH4',\n",
    "'TOLDHI2',\n",
    "'CVDINFR4',\n",
    "'CVDCRHD4',\n",
    "'CVDSTRK3',\n",
    "'ASTHMA3',\n",
    "'ASTHNOW',\n",
    "'CHCCOPD',\n",
    "'HAVARTH3',\n",
    "'ADDEPEV2',\n",
    "'CHCKIDNY',\n",
    "'DIABETE3',\n",
    "'SMOKDAY2',\n",
    "'USENOW3',\n",
    "'MARITAL',\n",
    "'EDUCA',\n",
    "'EMPLOY',\n",
    "'INCOME2',\n",
    "'RENTHOM1',\n",
    "'SEX',\n",
    "'EXERANY2',\n",
    "'ALCDAY5',\n",
    "'BPHI2MR',\n",
    "'ADPLEASR',\n",
    "'ADDOWN',\n",
    "'ADSLEEP',\n",
    "'ADENERGY',\n",
    "'ADEAT1',\n",
    "'ADFAIL',\n",
    "'ADTHINK',\n",
    "'ADMOVE',\n",
    "'MISTMNT',\n",
    "'ADANXEV',\n",
    "'SCNTMONY',\n",
    "'SCNTMEAL',\n",
    "'RACE2',\n",
    "'_AGE_G',\n",
    "'HTM4',\n",
    "'WTKG3',\n",
    "'_BMI5',\n",
    "'_FRUTSUM',\n",
    "'_VEGESUM'])\n",
    "X.head()"
   ]
  },
  {
   "cell_type": "code",
   "execution_count": null,
   "id": "a10e623d",
   "metadata": {},
   "outputs": [],
   "source": [
    "# Assess target column - Diabetes \n",
    "y = df.DIABETE3\n",
    "y"
   ]
  },
  {
   "cell_type": "code",
   "execution_count": null,
   "id": "4b3b142a",
   "metadata": {},
   "outputs": [],
   "source": [
    "# Model Building "
   ]
  },
  {
   "cell_type": "code",
   "execution_count": null,
   "id": "087c37a9",
   "metadata": {},
   "outputs": [],
   "source": [
    "X = df.drop('DIABETE3', axis=1)\n",
    "y = df['DIABETE3']"
   ]
  },
  {
   "cell_type": "code",
   "execution_count": null,
   "id": "06c370b5",
   "metadata": {},
   "outputs": [],
   "source": [
    "# split into training and testing data \n",
    "from sklearn.model_selection import train_test_split\n",
    "\n",
    "X_train, X_test, y_train, y_test = train_test_split(X,y, test_size=0.33,\n",
    "                                                    random_state=7)"
   ]
  },
  {
   "cell_type": "code",
   "execution_count": null,
   "id": "26fe6be3",
   "metadata": {},
   "outputs": [],
   "source": [
    "# Random Forest "
   ]
  },
  {
   "cell_type": "code",
   "execution_count": null,
   "id": "7eab7c55",
   "metadata": {},
   "outputs": [],
   "source": [
    "# Label Encoder so the orginal values are encoded as 0 or 1 \n",
    "from sklearn import preprocessing\n",
    "from sklearn import utils\n",
    "\n",
    "#convert y values to categorical values\n",
    "lab = preprocessing.LabelEncoder()\n",
    "y_transformed = lab.fit_transform(y)\n",
    "\n",
    "#view transformed values\n",
    "print(y_transformed)\n",
    "\n"
   ]
  },
  {
   "cell_type": "code",
   "execution_count": null,
   "id": "f35bc615",
   "metadata": {},
   "outputs": [],
   "source": [
    "from sklearn.ensemble import RandomForestClassifier\n",
    "\n",
    "rfc = RandomForestClassifier(n_estimators=200)\n",
    "rfc.fit(X_train, y_train)"
   ]
  },
  {
   "cell_type": "code",
   "execution_count": null,
   "id": "a5a8e6fa",
   "metadata": {},
   "outputs": [],
   "source": [
    "rfc_train = rfc.predict(X_train)\n",
    "from sklearn import metrics\n",
    "\n",
    "print(\"Accuracy_Score =\", format(metrics.accuracy_score(y_train, rfc_train)))"
   ]
  },
  {
   "cell_type": "code",
   "execution_count": null,
   "id": "3d98e401",
   "metadata": {},
   "outputs": [],
   "source": [
    "from sklearn import metrics\n",
    "\n",
    "predictions = rfc.predict(X_test)\n",
    "print(\"Accuracy_Score =\", format(metrics.accuracy_score(y_test, predictions)))"
   ]
  },
  {
   "cell_type": "code",
   "execution_count": null,
   "id": "ae8997a2",
   "metadata": {},
   "outputs": [],
   "source": [
    "from sklearn.metrics import classification_report, confusion_matrix\n",
    "\n",
    "print(confusion_matrix(y_test, predictions))\n",
    "print(classification_report(y_test,predictions))"
   ]
  },
  {
   "cell_type": "code",
   "execution_count": null,
   "id": "5b5231aa",
   "metadata": {},
   "outputs": [],
   "source": [
    "# Decision Tree"
   ]
  },
  {
   "cell_type": "code",
   "execution_count": null,
   "id": "d2f8c8eb",
   "metadata": {},
   "outputs": [],
   "source": [
    "from sklearn.tree import DecisionTreeClassifier\n",
    "\n",
    "dtree = DecisionTreeClassifier()\n",
    "dtree.fit(X_train, y_train)"
   ]
  },
  {
   "cell_type": "code",
   "execution_count": null,
   "id": "9b694c36",
   "metadata": {},
   "outputs": [],
   "source": [
    "from sklearn import metrics\n",
    "\n",
    "predictions = dtree.predict(X_test)\n",
    "print(\"Accuracy Score =\", format(metrics.accuracy_score(y_test,predictions)))"
   ]
  },
  {
   "cell_type": "code",
   "execution_count": null,
   "id": "7b7213c5",
   "metadata": {},
   "outputs": [],
   "source": [
    "from sklearn.metrics import classification_report, confusion_matrix\n",
    "\n",
    "print(confusion_matrix(y_test, predictions))\n",
    "print(classification_report(y_test,predictions))"
   ]
  },
  {
   "cell_type": "code",
   "execution_count": null,
   "id": "35d13fc2",
   "metadata": {},
   "outputs": [],
   "source": [
    "# Support Vector Machine (SVM)"
   ]
  },
  {
   "cell_type": "code",
   "execution_count": null,
   "id": "accd5bd7",
   "metadata": {},
   "outputs": [],
   "source": [
    "from sklearn.svm import SVC\n",
    "\n",
    "svc_model = SVC()\n",
    "svc_model.fit(X_train, y_train)"
   ]
  },
  {
   "cell_type": "code",
   "execution_count": null,
   "id": "8015c7a8",
   "metadata": {},
   "outputs": [],
   "source": [
    "svc_pred = svc_model.predict(X_test)"
   ]
  },
  {
   "cell_type": "code",
   "execution_count": null,
   "id": "d1d1e065",
   "metadata": {},
   "outputs": [],
   "source": [
    "from sklearn import metrics\n",
    "\n",
    "print(\"Accuracy Score =\", format(metrics.accuracy_score(y_test, svc_pred)))"
   ]
  },
  {
   "cell_type": "code",
   "execution_count": null,
   "id": "8c774b22",
   "metadata": {},
   "outputs": [],
   "source": [
    "from sklearn.metrics import classification_report, confusion_matrix\n",
    "\n",
    "print(confusion_matrix(y_test, svc_pred))\n",
    "print(classification_report(y_test,svc_pred))"
   ]
  },
  {
   "cell_type": "code",
   "execution_count": null,
   "id": "61dd42b8",
   "metadata": {},
   "outputs": [],
   "source": [
    "# Feature Importance "
   ]
  },
  {
   "cell_type": "code",
   "execution_count": null,
   "id": "5305e9f1",
   "metadata": {
    "scrolled": true
   },
   "outputs": [],
   "source": [
    "rfc.feature_importances_"
   ]
  },
  {
   "cell_type": "code",
   "execution_count": null,
   "id": "40e89efc",
   "metadata": {},
   "outputs": [],
   "source": [
    "(pd.Series(rfc.feature_importances_, index=X.columns).plot(kind='barh'))"
   ]
  }
 ],
 "metadata": {
  "kernelspec": {
   "display_name": "Python 3 (ipykernel)",
   "language": "python",
   "name": "python3"
  },
  "language_info": {
   "codemirror_mode": {
    "name": "ipython",
    "version": 3
   },
   "file_extension": ".py",
   "mimetype": "text/x-python",
   "name": "python",
   "nbconvert_exporter": "python",
   "pygments_lexer": "ipython3",
   "version": "3.9.12"
  }
 },
 "nbformat": 4,
 "nbformat_minor": 5
}
